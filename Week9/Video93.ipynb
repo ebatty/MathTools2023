{
  "cells": [
    {
      "cell_type": "markdown",
      "metadata": {
        "id": "view-in-github",
        "colab_type": "text"
      },
      "source": [
        "<a href=\"https://colab.research.google.com/github/ebatty/MathToolsforNeuroscience/blob/jupyterbook/Week9/Video93.ipynb\" target=\"_parent\"><img src=\"https://colab.research.google.com/assets/colab-badge.svg\" alt=\"Open In Colab\"/></a>"
      ]
    },
    {
      "cell_type": "markdown",
      "metadata": {
        "id": "r-xn3WLqP2wM"
      },
      "source": [
        "# Video 9.3: Linear regression"
      ]
    },
    {
      "cell_type": "markdown",
      "metadata": {
        "id": "T9ckFFHNP2wQ"
      },
      "source": [
        "## Video"
      ]
    },
    {
      "cell_type": "code",
      "execution_count": 1,
      "metadata": {
        "id": "fTCqwicVP2wQ",
        "cellView": "form",
        "colab": {
          "base_uri": "https://localhost:8080/",
          "height": 449
        },
        "outputId": "97a8ff20-0684-411a-f5ed-33427a1d3810"
      },
      "outputs": [
        {
          "output_type": "stream",
          "name": "stdout",
          "text": [
            "Video available at https://youtube.com/watch?v=wVVV6RK03cY\n"
          ]
        },
        {
          "output_type": "execute_result",
          "data": {
            "text/plain": [
              "<IPython.lib.display.YouTubeVideo at 0x7f5289871710>"
            ],
            "text/html": [
              "\n",
              "        <iframe\n",
              "            width=\"730\"\n",
              "            height=\"410\"\n",
              "            src=\"https://www.youtube.com/embed/wVVV6RK03cY?fs=1\"\n",
              "            frameborder=\"0\"\n",
              "            allowfullscreen\n",
              "        ></iframe>\n",
              "        "
            ],
            "image/jpeg": "[encoded data removed]"
          },
          "metadata": {},
          "execution_count": 1
        }
      ],
      "source": [
        "# @markdown \n",
        "from IPython.display import YouTubeVideo\n",
        "video = YouTubeVideo(id=\"wVVV6RK03cY\", width=730, height=410, fs=1)\n",
        "print(\"Video available at https://youtube.com/watch?v=\" + video.id)\n",
        "video"
      ]
    },
    {
      "cell_type": "markdown",
      "metadata": {
        "id": "XMhhhdFCP2wS"
      },
      "source": [
        "## Notes\n",
        "\n",
        "<a href=\"https://osf.io/28c6v/download\">\n",
        "    Click here to download notes\n",
        "</a>\n",
        "\n"
      ]
    },
    {
      "cell_type": "markdown",
      "source": [
        "<img src=\"https://github.com/ebatty/MathToolsforNeuroscience/blob/jupyterbook/Week9/video9_3_notes.png?raw=True\" alt=\"notes for the video\" class=\"bg-primary\" width=\"100%\">\n"
      ],
      "metadata": {
        "id": "P7tXrFlRKyGi"
      }
    }
  ],
  "metadata": {
    "kernelspec": {
      "display_name": "Python 3.8.13 ('mathtools')",
      "language": "python",
      "name": "python3"
    },
    "language_info": {
      "codemirror_mode": {
        "name": "ipython",
        "version": 3
      },
      "file_extension": ".py",
      "mimetype": "text/x-python",
      "name": "python",
      "nbconvert_exporter": "python",
      "pygments_lexer": "ipython3",
      "version": "3.8.13"
    },
    "orig_nbformat": 4,
    "vscode": {
      "interpreter": {
        "hash": "2f26a17d6a9624f855b5f9e02ffdc0ae71c8577a2562f495dada4b6f29d8bdd3"
      }
    },
    "colab": {
      "provenance": [],
      "collapsed_sections": [],
      "include_colab_link": true
    }
  },
  "nbformat": 4,
  "nbformat_minor": 0
}