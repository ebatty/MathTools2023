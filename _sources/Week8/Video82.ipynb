{
  "cells": [
    {
      "cell_type": "markdown",
      "metadata": {
        "id": "view-in-github",
        "colab_type": "text"
      },
      "source": [
        "<a href=\"https://colab.research.google.com/github/ebatty/MathToolsforNeuroscience/blob/jupyterbook/Week8/Video82.ipynb\" target=\"_parent\"><img src=\"https://colab.research.google.com/assets/colab-badge.svg\" alt=\"Open In Colab\"/></a>"
      ]
    },
    {
      "cell_type": "markdown",
      "metadata": {
        "id": "r-xn3WLqP2wM"
      },
      "source": [
        "# Video 8.2: Statistical encoding models"
      ]
    },
    {
      "cell_type": "markdown",
      "metadata": {
        "id": "T9ckFFHNP2wQ"
      },
      "source": [
        "## Video"
      ]
    },
    {
      "cell_type": "code",
      "execution_count": 1,
      "metadata": {
        "id": "fTCqwicVP2wQ",
        "cellView": "form",
        "colab": {
          "base_uri": "https://localhost:8080/",
          "height": 449
        },
        "outputId": "dd447938-a484-49c2-c8a0-1d85a25efda8"
      },
      "outputs": [
        {
          "output_type": "stream",
          "name": "stdout",
          "text": [
            "Video available at https://youtube.com/watch?v=DJG0cYA8h5M\n"
          ]
        },
        {
          "output_type": "execute_result",
          "data": {
            "text/plain": [
              "<IPython.lib.display.YouTubeVideo at 0x7f305c23f890>"
            ],
            "text/html": [
              "\n",
              "        <iframe\n",
              "            width=\"730\"\n",
              "            height=\"410\"\n",
              "            src=\"https://www.youtube.com/embed/DJG0cYA8h5M?fs=1\"\n",
              "            frameborder=\"0\"\n",
              "            allowfullscreen\n",
              "        ></iframe>\n",
              "        "
            ],
            "image/jpeg": "[encoded data removed]"
          },
          "metadata": {},
          "execution_count": 1
        }
      ],
      "source": [
        "# @markdown \n",
        "from IPython.display import YouTubeVideo\n",
        "video = YouTubeVideo(id=\"DJG0cYA8h5M\", width=730, height=410, fs=1)\n",
        "print(\"Video available at https://youtube.com/watch?v=\" + video.id)\n",
        "video"
      ]
    },
    {
      "cell_type": "markdown",
      "metadata": {
        "id": "XMhhhdFCP2wS"
      },
      "source": [
        "## Notes\n",
        "\n",
        "<a href=\"https://osf.io/ftnsh/download\">\n",
        "    Click here to download notes\n",
        "</a>\n",
        "\n"
      ]
    },
    {
      "cell_type": "code",
      "execution_count": 2,
      "metadata": {
        "id": "GGct1SKRP2wZ",
        "outputId": "f0fe575d-5f21-4db2-ded1-c8bbc71ac917",
        "colab": {
          "base_uri": "https://localhost:8080/",
          "height": 1000
        },
        "cellView": "form"
      },
      "outputs": [
        {
          "output_type": "execute_result",
          "data": {
            "text/plain": [
              "<IPython.lib.display.IFrame at 0x7f30587be350>"
            ],
            "text/html": [
              "\n",
              "        <iframe\n",
              "            width=\"730\"\n",
              "            height=\"1000\"\n",
              "            src=\"https://mfr.osf.io/render?url=https://osf.io/ftnsh/?direct%26mode=render%26action=download%26mode=render\"\n",
              "            frameborder=\"0\"\n",
              "            allowfullscreen\n",
              "        ></iframe>\n",
              "        "
            ]
          },
          "metadata": {},
          "execution_count": 2
        }
      ],
      "source": [
        "# @markdown\n",
        "from IPython.display import IFrame\n",
        "IFrame(src=\"https://mfr.osf.io/render?url=https://osf.io/ftnsh/?direct%26mode=render%26action=download%26mode=render\", width=730, height=1000)"
      ]
    },
    {
      "cell_type": "code",
      "source": [],
      "metadata": {
        "id": "274qKVlBQeC-"
      },
      "execution_count": null,
      "outputs": []
    }
  ],
  "metadata": {
    "kernelspec": {
      "display_name": "Python 3.8.13 ('mathtools')",
      "language": "python",
      "name": "python3"
    },
    "language_info": {
      "codemirror_mode": {
        "name": "ipython",
        "version": 3
      },
      "file_extension": ".py",
      "mimetype": "text/x-python",
      "name": "python",
      "nbconvert_exporter": "python",
      "pygments_lexer": "ipython3",
      "version": "3.8.13"
    },
    "orig_nbformat": 4,
    "vscode": {
      "interpreter": {
        "hash": "2f26a17d6a9624f855b5f9e02ffdc0ae71c8577a2562f495dada4b6f29d8bdd3"
      }
    },
    "colab": {
      "provenance": [],
      "include_colab_link": true
    }
  },
  "nbformat": 4,
  "nbformat_minor": 0
}