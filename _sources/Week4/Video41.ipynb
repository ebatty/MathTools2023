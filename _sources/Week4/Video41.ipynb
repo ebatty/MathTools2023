{
 "cells": [
  {
   "cell_type": "markdown",
   "metadata": {
    "id": "view-in-github",
    "colab_type": "text"
   },
   "source": [
    "<a href=\"https://colab.research.google.com/github/ebatty/MathToolsforNeuroscience/blob/jupyterbook/Week4/Video41.ipynb\" target=\"_parent\"><img src=\"https://colab.research.google.com/assets/colab-badge.svg\" alt=\"Open In Colab\"/></a>"
   ]
  },
  {
   "cell_type": "markdown",
   "metadata": {
    "id": "aHrUgy400Wv3"
   },
   "source": [
    "# Video 4.1: Eigenvalues & Discrete Dynamical Systems"
   ]
  },
  {
   "cell_type": "markdown",
   "metadata": {
    "id": "64IBGIMm0Wv6"
   },
   "source": [
    "## Video"
   ]
  },
  {
   "cell_type": "markdown",
   "metadata": {},
   "source": [
    "\n"
   ]
  },
  {
   "cell_type": "code",
   "execution_count": 1,
   "metadata": {
    "cellView": "form",
    "id": "ve_t1MZi0Wv7",
    "outputId": "34b2db15-1fdf-4afd-a4b5-cba6f31648da",
    "colab": {
     "base_uri": "https://localhost:8080/",
     "height": 469
    },
    "tags": [
     "remove-input"
    ]
   },
   "outputs": [
    {
     "output_type": "stream",
     "name": "stdout",
     "text": [
      "Video available at https://youtube.com/watch?v=oLu5_tUIkTc\n"
     ]
    },
    {
     "output_type": "execute_result",
     "data": {
      "text/plain": [
       "<IPython.lib.display.YouTubeVideo at 0x7f657bcdc710>"
      ],
      "text/html": [
       "\n",
       "        <iframe\n",
       "            width=\"730\"\n",
       "            height=\"410\"\n",
       "            src=\"https://www.youtube.com/embed/oLu5_tUIkTc?fs=1\"\n",
       "            frameborder=\"0\"\n",
       "            allowfullscreen\n",
       "        ></iframe>\n",
       "        "
      ],
      "image/jpeg": "[encoded data removed]"
     },
     "metadata": {},
     "execution_count": 1
    }
   ],
   "source": [
    "# @markdown\n",
    "from IPython.display import YouTubeVideo\n",
    "from ipywidgets import widgets\n",
    "out = widgets.Output()\n",
    "with out:\n",
    "    display(YouTubeVideo(id=f\"oLu5_tUIkTc\", width=730, height=410, fs=1))\n",
    "display(out)"
   ]
  },
  {
   "cell_type": "markdown",
   "source": [
    "## Notes\n",
    "\n",
    "<a href=\"https://osf.io/u29q6/download\">\n",
    "    Click here to download notes\n",
    "</a>\n",
    "\n"
   ],
   "metadata": {
    "id": "VSf8Cu6Fp4zF"
   }
  },
  {
   "cell_type": "markdown",
   "metadata": {},
   "source": [
    "\n"
   ]
  },
  {
   "cell_type": "code",
   "source": [
    "# @markdown\n",
    "from IPython.display import IFrame\n",
    "from ipywidgets import widgets\n",
    "out = widgets.Output()\n",
    "with out:\n",
    "    display(IFrame(src=f\"https://mfr.osf.io/render?url=https://osf.io/u29q6/?direct%26mode=render%26action=download%26mode=rende\", width=730, height=410))\n",
    "display(out)"
   ],
   "metadata": {
    "id": "K31V2htu1H3O",
    "cellView": "form",
    "outputId": "dc3d2b74-6d86-4693-c95b-62c75050ffa9",
    "colab": {
     "base_uri": "https://localhost:8080/",
     "height": 1000
    },
    "tags": [
     "remove-input"
    ]
   },
   "execution_count": 2,
   "outputs": [
    {
     "output_type": "execute_result",
     "data": {
      "text/plain": [
       "<IPython.lib.display.IFrame at 0x7f65782598d0>"
      ],
      "text/html": [
       "\n",
       "        <iframe\n",
       "            width=\"730\"\n",
       "            height=\"1000\"\n",
       "            src=\"https://mfr.osf.io/render?url=https://osf.io/u29q6/?direct%26mode=render%26action=download%26mode=render\"\n",
       "            frameborder=\"0\"\n",
       "            allowfullscreen\n",
       "        ></iframe>\n",
       "        "
      ]
     },
     "metadata": {},
     "execution_count": 2
    }
   ]
  },
  {
   "cell_type": "code",
   "source": [],
   "metadata": {
    "id": "7LA7AXIly5up"
   },
   "execution_count": null,
   "outputs": []
  }
 ],
 "metadata": {
  "kernelspec": {
   "display_name": "Python 3.8.13 ('mathtools')",
   "language": "python",
   "name": "python3"
  },
  "language_info": {
   "codemirror_mode": {
    "name": "ipython",
    "version": 3
   },
   "file_extension": ".py",
   "mimetype": "text/x-python",
   "name": "python",
   "nbconvert_exporter": "python",
   "pygments_lexer": "ipython3",
   "version": "3.8.13"
  },
  "orig_nbformat": 4,
  "vscode": {
   "interpreter": {
    "hash": "2f26a17d6a9624f855b5f9e02ffdc0ae71c8577a2562f495dada4b6f29d8bdd3"
   }
  },
  "colab": {
   "provenance": [],
   "collapsed_sections": [],
   "include_colab_link": true
  }
 },
 "nbformat": 4,
 "nbformat_minor": 0
}