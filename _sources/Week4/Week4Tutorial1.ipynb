{
 "nbformat": 4,
 "nbformat_minor": 0,
 "metadata": {
  "colab": {
   "provenance": [],
   "toc_visible": true,
   "authorship_tag": "ABX9TyPtvpt2BnkEoynT97NGJcOA",
   "include_colab_link": true
  },
  "kernelspec": {
   "name": "python3",
   "display_name": "Python 3"
  }
 },
 "cells": [
  {
   "cell_type": "markdown",
   "metadata": {
    "id": "view-in-github",
    "colab_type": "text"
   },
   "source": [
    "<a href=\"https://colab.research.google.com/github/ebatty/MathTools2023/blob/jupyterbook/Week4/Week4Tutorial1.ipynb\" target=\"_parent\"><img src=\"https://colab.research.google.com/assets/colab-badge.svg\" alt=\"Open In Colab\"/></a>"
   ]
  },
  {
   "cell_type": "markdown",
   "metadata": {
    "id": "S9l0lyqLvkW7"
   },
   "source": [
    "# Tutorial 1\n",
    "\n",
    "**Dynamical Systems II: Continuous Dynamical Systems & Differential Equations**\n",
    "\n",
    "**[insert your name]**\n",
    "\n",
    "**Important reminders**: Before starting, click \"File -> Save a copy in Drive\". Produce a pdf for submission by \"File -> Print\" and then choose \"Save to PDF\".\n",
    "\n",
    "To complete this tutorial, you should have watched Videos 4.1-4.4.\n"
   ]
  },
  {
   "cell_type": "markdown",
   "metadata": {},
   "source": [
    " Imports\n"
   ]
  },
  {
   "cell_type": "code",
   "metadata": {
    "id": "cv9HSBNPyLV9",
    "cellView": "form",
    "tags": [
     "hide-input"
    ]
   },
   "source": [
    "# @markdown Imports\n",
    "\n",
    "# Imports\n",
    "import numpy as np\n",
    "import matplotlib.pyplot as plt\n",
    "import ipywidgets as widgets  # interactive display\n"
   ],
   "execution_count": null,
   "outputs": []
  },
  {
   "cell_type": "markdown",
   "metadata": {},
   "source": [
    " Plotting functions\n"
   ]
  },
  {
   "cell_type": "code",
   "metadata": {
    "id": "ZIdPVYl9TzmK",
    "cellView": "form",
    "tags": [
     "hide-input"
    ]
   },
   "source": [
    "# @markdown Plotting functions\n",
    "import numpy\n",
    "from numpy.linalg import inv, eig\n",
    "from math import ceil\n",
    "from matplotlib import pyplot, ticker, get_backend, rc\n",
    "from mpl_toolkits.mplot3d import Axes3D\n",
    "from itertools import cycle\n",
    "\n",
    "\n",
    "%config InlineBackend.figure_format = 'retina'\n",
    "plt.style.use(\"https://raw.githubusercontent.com/NeuromatchAcademy/course-content/master/nma.mplstyle\")\n",
    "\n",
    "classic = 'k'\n",
    "\n",
    "def plot_derivative_vs_variable(x, dx):\n",
    "\n",
    "  fig, ax = plt.subplots()\n",
    "\n",
    "  ax.plot([-1, 1], [0, 0],'k')\n",
    "  ax.plot(x, dx, 'b')\n",
    "  ax.set(xlabel=r'P$_o$', ylabel=r'$\\frac{dP_o}{dt}$')\n",
    "\n",
    "def plot_trajectories(t, numerical_P, init_Po, alpha, beta):\n",
    "\n",
    "  # Get analytical solution\n",
    "  analytical_t = np.arange(0, t[-1], .01)\n",
    "  C = init_Po - alpha/(alpha + beta)\n",
    "  analytical_P = alpha/(alpha + beta) + C*np.exp(-(alpha+beta)*analytical_t)\n",
    "\n",
    "  fig, ax = plt.subplots()\n",
    "  ax.plot(analytical_t, analytical_P,'#33D396', linewidth=3)\n",
    "  ax.plot(t, numerical_P, '#1F59EB')\n",
    "\n",
    "  ax.set(xlabel='Time (ms)', ylabel = 'Probability of channel open', ylim=[-1, 1])\n",
    "  plt.legend(['Analytical','Numerical'])\n",
    "\n",
    "\n"
   ],
   "execution_count": null,
   "outputs": []
  },
  {
   "cell_type": "markdown",
   "metadata": {
    "id": "FtUJK2gYommf"
   },
   "source": [
    "# Key concept review & coding tips\n",
    "\n",
    "## Dynamical systems\n",
    "*  System concerned with movement of point over time in some relevant geometrical space\n",
    "* The state of a dynamical system is a complete snapshot of the system at that point in time.\n",
    "* The state space is the relevant geometrical space in which to model the state evolving (the set of all possible states)\n",
    "* Are discrete or continuous depending on how the evolution rules are defined\n",
    "*  Discrete dyanmical systems have step-like update rules: $x_{n+1} = F(x_n)$\n",
    "*  Continuous dyanmical systems have differential equations governing the evolution: $\\frac{dx}{dt} = F(x, t)$\n",
    "\n",
    "## Differential equations\n",
    "*  Equations that relate functions and their derivatives ($\\frac{dx}{dt} = F(x, t)$)\n",
    "* Can sometimes compute the analytical solution $x(t)$ by integration and solving for constants using the initial condition. This is not always possible.\n",
    "* Can numerically approximate specific trajectories (corresponding to different initial conditions) using Euler's method, which is based on the update rule\n",
    "$$ x(t+\\Delta t) = F(x, t)\\Delta t + x(t)$$\n",
    "* Can understand the system graphically by plotting a direction field (tangent lines on x vs t graph)\n",
    "* Can also understand the system graphically by plotting $\\frac{dx}{dt}$ vs x and analyzing critical/equilibrium points\n",
    "* Critical/equilbrium points occur at x for which $\\frac{dx}{dt} = 0$. They are either stable (attractors) or unstable (repellers) depening on the derivative sign to either side"
   ]
  },
  {
   "cell_type": "markdown",
   "metadata": {
    "id": "31yvHJrIX97I"
   },
   "source": [
    "# Exercise 1: Defining the differential equation\n",
    "\n",
    "**Note: please try this out first but ask for help if you get stuck!  Don't spend too long on this exercise - it's a bit tricky and we're happy to take you through it. Also, when you have a solution to part D, call us in to check it's correct as the rest of the tutorial depends on it**\n",
    "\n",
    "Throughout this tutorial, we will be working on a specific dynamical system concerning ion channel kinetics.  \n",
    "\n",
    "Let's say that we have a population of ion channels of the same type, which are individually either open or closed. There is some rate at which the channels open, dependent on the voltage of the cell, $\\alpha(V)$ and some rate at which they close, $\\beta(V)$. These would be in units 1/ms (essentially the number of times in a ms that a gate which is open closes and vice versa) and can be found empirically. We suddenly step the voltage to one that opens channels and keep it at that voltage. Although $\\alpha$ and $\\beta$ are normally voltage-dependent, we will treat them as constants from here on out since we are holding the voltage steady.\n",
    "\n",
    "We need to introduce two more variables before writing out a differential equation that defines our system: $P_o$ is the proportion of channels that are open (or equivalently the probability that a particular channel is open) and $P_c$ is the the proportion of closed channels (or equivalently the probability that a particular channel is closed).\n",
    "\n",
    "We will now write out a differential equation to model what happens when we step to a certain voltage. In particular, we want to figure out how the proportion of open channels, $P_o$, changes over time. This means we want to find a differential equation $\\frac{dP_o}{dt} = ...$. We will take you through this process step by step.\n",
    "\n",
    "Fun fact: this system is very important for the Hodgkin-Huxley model, although we need to add in voltage dependence for that."
   ]
  },
  {
   "cell_type": "markdown",
   "metadata": {
    "id": "47iiFquiJJEp"
   },
   "source": [
    "## A) Rate of change of the proportion of open channels\n",
    "\n",
    "Let's say $P(opening)$ is the proportion of channels opening over some tiny time step and $P(closing)$ is the proportion of channels closing.\n",
    "\n",
    "How does the rate of change of the proportion of open channels ($\\frac{dP_o}{dt}$) relate to $P(opening)$ and $P(closing)$?\n"
   ]
  },
  {
   "cell_type": "markdown",
   "metadata": {
    "id": "WGu57u-RJmji"
   },
   "source": [
    "### **Answer**\n",
    "<font color='green'><span style=\"font-size:larger;\">\n",
    "Fill in your math answer here (if in latex) so it is green. Use <br> <br>  for line breaks\n",
    "</font> </span>"
   ]
  },
  {
   "cell_type": "markdown",
   "metadata": {
    "id": "zFAnEg7IHFhm"
   },
   "source": [
    "## B) Proportion of channels opening\n",
    "\n",
    "Write out an equation for the proportion of channels opening over some small time step. (Assume we'll later multiply with dt so no need to write a small time step here)\n",
    "\n",
    "$$ P(opening) = ...$$\n",
    "\n",
    "Hints: Note that $P(opening)$ is different from $P(open)$. What state does the channel need to be in at the start of the time step for it to open? Relevant variables might be $\\alpha$, $\\beta$, $P_o$, and $P_c$."
   ]
  },
  {
   "cell_type": "markdown",
   "metadata": {
    "id": "-xhCN3BxHm1u"
   },
   "source": [
    "### **Answer**\n",
    "<font color='green'><span style=\"font-size:larger;\">\n",
    "Fill in your math answer here (if in latex) so it is green. Use <br> <br>  for line breaks\n",
    "</font> </span>\n",
    "\n"
   ]
  },
  {
   "cell_type": "markdown",
   "metadata": {
    "id": "pRkzb7W2I27s"
   },
   "source": [
    "## C) Proportion of channels closing\n",
    "\n",
    "Write an equation for the $P(closing)$. Should resemble that in part A (essentially a sort of inverse of part A).\n",
    "\n",
    "$$P(closing) = $$"
   ]
  },
  {
   "cell_type": "markdown",
   "metadata": {
    "id": "LjIWh4ixJHeC"
   },
   "source": [
    "### **Answer**\n",
    "<font color='green'><span style=\"font-size:larger;\">\n",
    "Fill in your math answer here (if in latex) so it is green\n",
    "</font> </span>"
   ]
  },
  {
   "cell_type": "markdown",
   "metadata": {
    "id": "RXGmMXHqJp8A"
   },
   "source": [
    "## D) Getting dP_o/dt\n",
    "\n",
    "Substitute what you equated $P(opening)$ and $P(closing)$ to in part B/C in the equation for $\\frac{dP_o}{dt}$ from part A.\n",
    "\n",
    "Use the fact that the proportion of closed channels equals 1 minus the proportion of open channels ($P_c = 1 - P_o$) to further simplify. Write out the equation as simply as possible.\n",
    "\n",
    "Your equation should be a first order linear differential equation."
   ]
  },
  {
   "cell_type": "markdown",
   "metadata": {
    "id": "DuhkE_nthQUm"
   },
   "source": [
    "### **Answer**\n",
    "\n",
    "<font color='green'><span style=\"font-size:larger;\">\n",
    "Fill in your math answer here (if in latex) so it is green. Use <br> <br>  for line breaks\n",
    "</font> </span>"
   ]
  },
  {
   "cell_type": "markdown",
   "metadata": {
    "id": "BBRBZq4pE64b"
   },
   "source": [
    "# Exercise 2: Graphical solution: assessing critical points and stability\n",
    "\n",
    "We'll now try and understand what's happening in our system through graphical methods."
   ]
  },
  {
   "cell_type": "markdown",
   "metadata": {
    "id": "7BTGU4XrLFA1"
   },
   "source": [
    "## A) Plotting derivative vs variable\n",
    "\n",
    "We will first plot a graph of $\\frac{dP_o}{dt}$ vs $P_o$ to determine critical points. So far, we have used general variables $\\alpha$ and $\\beta$ for representing the rates of opening and closing, but let's define them numerically now:\n",
    "\n",
    "$$ \\alpha = 0.3 \\\\\n",
    "\\beta = 0.1 $$\n",
    "\n",
    "Note that below we're allowing $P_o$ to be negative - this doesn't really make sense as it is a probability but we want to fully understand the associated dynamical system."
   ]
  },
  {
   "cell_type": "code",
   "metadata": {
    "id": "mYCJkfEOMLk9"
   },
   "source": [
    "# Set parameters\n",
    "alpha = .3\n",
    "beta = .1\n",
    "\n",
    "# We will evalute dP_o/dt on a span of possible P_o values\n",
    "Po = np.arange(-1, 1, .1)\n",
    "\n",
    "# Fill in your code here to compute dPo/dt for all Po above\n",
    "dPo_dt = ...\n",
    "\n",
    "# Uncomment below to use plotting function plot_derivative_vs_variable\n",
    "# plot_derivative_vs_variable(Po, dPo_dt)\n"
   ],
   "execution_count": null,
   "outputs": []
  },
  {
   "cell_type": "markdown",
   "metadata": {
    "id": "s8wzAIjbLSJs"
   },
   "source": [
    "## B) Identifying equilibrium points and stability\n",
    "\n",
    "i) What is the critical/equilibrium point for this system with these values of $\\alpha$ and $\\beta$? Why?\n",
    "\n",
    "ii) What is the stability of this critical point? Why?\n",
    "\n",
    "iii) What does the equilibrium point correspond to in this system? (aka bring it back to the neuro)"
   ]
  },
  {
   "cell_type": "markdown",
   "metadata": {
    "id": "Mz92xR0ehYbG"
   },
   "source": [
    "### **Answer**\n",
    "\n",
    "<font color='green'><span style=\"font-size:larger;\">\n",
    "Fill in your text answer here so it is green. Use <br> <br>  for line breaks\n",
    "</font> </span>"
   ]
  },
  {
   "cell_type": "markdown",
   "metadata": {
    "id": "Ai8DOgT8LWr5"
   },
   "source": [
    "## C) Describing potential trajectories\n",
    "\n",
    "Based on the answers in part B, let's predict what some trajectories in this system might look like. Be specific - will it rise or fall and where will it end up after a long time. You are welcome to describe these in words or sketch out a labeled graph.\n",
    "\n",
    "i) What will the trajectory look like if the initial $P_o$ is negative?\n",
    "\n",
    "ii) What will the trajectory look like if the initial $P_o$ is above 0 but below the critical point?\n",
    "\n",
    "iii) What will the trajectory look like if the initial $P_o$ is above the critical point?"
   ]
  },
  {
   "cell_type": "markdown",
   "metadata": {
    "id": "eScn_tiJPJy8"
   },
   "source": [
    "### **Answer**\n",
    "\n",
    "<font color='green'><span style=\"font-size:larger;\">\n",
    "Fill in your text answer here so it is green. Use <br> <br>  for line breaks\n",
    "</font> </span>"
   ]
  },
  {
   "cell_type": "markdown",
   "metadata": {
    "id": "yJx-te2pLgwS"
   },
   "source": [
    "## (Optional) D) Getting the critical point for any value of alpha and beta\n",
    "\n",
    "We used specific values of $\\alpha$ an $\\beta$ and got a numerical critical point.\n",
    "\n",
    "i) We could write the critical point in terms of $\\alpha$ and $\\beta$ though - what would it be?\n",
    "\n",
    "ii) If the rate of opening was faster, would the critical point be higher or lower? Does this make sense intuitively?"
   ]
  },
  {
   "cell_type": "markdown",
   "metadata": {
    "id": "ibi_4osLQcsU"
   },
   "source": [
    "### **Answer**\n",
    "\n",
    "<font color='green'><span style=\"font-size:larger;\">\n",
    "Fill in your text/math answer here so it is green. Use <br> <br>  for line breaks\n",
    "</font> </span>"
   ]
  },
  {
   "cell_type": "markdown",
   "metadata": {
    "id": "dIV8tdhFFGm3"
   },
   "source": [
    "# Exercise 3: Numerical solution: implementing Euler's method and examining trajectories\n",
    "\n",
    "We'll now look at some specific trajectories by numerically approximation the system using Euler's method.  This sytem does have an analytical solution so we will compare the accuracy of our numerical approximation to the analytical solution. If the numerical approximation is good enough, it can be hard to see the analytical solution line, although it is a bit wider to help. If you are interested in finding out how to compute this analytical solution try Exercise 4!"
   ]
  },
  {
   "cell_type": "markdown",
   "metadata": {
    "id": "0k15xW9ySaM7"
   },
   "source": [
    "## A) Complete the function below to integrate our differential equation numerically\n"
   ]
  },
  {
   "cell_type": "code",
   "metadata": {
    "id": "eXDbSPKXQ4l7"
   },
   "source": [
    "def prob_open_euler_integration(init_Po, dt, T, alpha=0.3, beta=0.1):\n",
    "  \"\"\"Numerically approximate the solution of the differential equation governing\n",
    "  ion channel kinetics given an initial condition for a duration T.\n",
    "\n",
    "  Args:\n",
    "    init_Po (scalar): value of Po at start of simulation (at time = 0)\n",
    "    dt (scalar): timestep of the simulation\n",
    "    T (scalar): total duration of the simulation\n",
    "    alpha (scalar): rate of change of ion channel opening\n",
    "    beta (scalar): rate of change of ion channel closing\n",
    "\n",
    "  Returns:\n",
    "    ndarray, ndarray: Po and the time t at each step\n",
    "  \"\"\"\n",
    "\n",
    "  # Initialize variables\n",
    "  t = np.arange(0, T, dt)\n",
    "  P = np.zeros_like(t)\n",
    "  P[0] = init_Po # This is Po at time 0\n",
    "\n",
    "  # Step through time\n",
    "  for n in range(0, len(t)-1):\n",
    "\n",
    "    # for each point in time, compute dP_dt from P[n]\n",
    "    dP_dt = ...\n",
    "\n",
    "    # Update P[n+1] based on P[n] and dP_dt\n",
    "    P[n+1] = ...\n",
    "\n",
    "  return P, t\n",
    "\n",
    "\n",
    "init_Po = .4\n",
    "dt = .01 # step size is .01 ms\n",
    "T = 50 # run simulation for 50 ms\n",
    "alpha = .3\n",
    "beta = .1\n",
    "\n",
    "numerical_P, t = prob_open_euler_integration(init_Po, dt, T, alpha, beta)\n",
    "\n",
    "plot_trajectories(t, numerical_P, init_Po, alpha, beta)\n"
   ],
   "execution_count": null,
   "outputs": []
  },
  {
   "cell_type": "markdown",
   "metadata": {
    "id": "Y4_wk1gZV2Hy"
   },
   "source": [
    "## B) Checking our intuition\n",
    "\n",
    "Use this demo to look at the trajectory given different initial conditions. Try out all three types outlined in 2C and verify your answers there were correct.\n",
    "\n",
    "You don't need any answer here, just try out the demo."
   ]
  },
  {
   "cell_type": "markdown",
   "metadata": {},
   "source": [
    " Execute this cell for the demo\n"
   ]
  },
  {
   "cell_type": "code",
   "metadata": {
    "id": "Bm5pme1KWrZh",
    "cellView": "form",
    "tags": [
     "hide-input"
    ]
   },
   "source": [
    "# @markdown Execute this cell for the demo\n",
    "\n",
    "@widgets.interact\n",
    "def plot_euler_integration(init_Po = (-1, 1, .1) ):\n",
    "  dt = .01 # step size is .01 ms\n",
    "  T = 50 # run simulation for 50 ms\n",
    "  alpha = .3\n",
    "  beta = .1\n",
    "\n",
    "  numerical_P, t = prob_open_euler_integration(init_Po, dt, T, alpha, beta)\n",
    "\n",
    "\n",
    "  plot_trajectories(t, numerical_P, init_Po, alpha, beta)\n",
    "  plt.show()"
   ],
   "execution_count": null,
   "outputs": []
  },
  {
   "cell_type": "markdown",
   "metadata": {
    "id": "I3aG50BAWoXn"
   },
   "source": [
    "## C) Euler integration accuracy\n",
    "\n",
    "Use the interactive demo below to assess the accuracy of the numerical approximation for different step sizes (values of dt), then answer the questions below."
   ]
  },
  {
   "cell_type": "markdown",
   "metadata": {},
   "source": [
    " Execute this cell for the demo\n"
   ]
  },
  {
   "cell_type": "code",
   "metadata": {
    "id": "zn0W-ERsWnsI",
    "cellView": "form",
    "tags": [
     "hide-input"
    ]
   },
   "source": [
    "# @markdown Execute this cell for the demo\n",
    "\n",
    "@widgets.interact\n",
    "def plot_euler_integration(dt = widgets.SelectionSlider(options=[(\"%g\"%i,i) for i in np.arange(0.001, 5.001, 0.01)])):\n",
    "  # Have to do this clunky word around to show small values in slider accurately\n",
    "  # (from https://github.com/jupyter-widgets/ipywidgets/issues/259)\n",
    "  init_Po = .4\n",
    "  T = 50 # run simulation for 50 ms\n",
    "  alpha = .3\n",
    "  beta = .1\n",
    "\n",
    "  numerical_P, t = prob_open_euler_integration(init_Po, dt, T, alpha, beta)\n",
    "\n",
    "  plot_trajectories(t, numerical_P, init_Po, alpha, beta)"
   ],
   "execution_count": null,
   "outputs": []
  },
  {
   "cell_type": "markdown",
   "metadata": {
    "id": "R9rbzfdrXe4I"
   },
   "source": [
    "i) Does the approximation get better or worse with larger steps?\n",
    "\n",
    "ii) Why?"
   ]
  },
  {
   "cell_type": "markdown",
   "metadata": {
    "id": "_sFMqXM7Xnql"
   },
   "source": [
    "### **Answer**\n",
    "\n",
    "<font color='green'><span style=\"font-size:larger;\">\n",
    "Fill in your text answer here so it is green. Use <br> <br>  for line breaks\n",
    "</font> </span>"
   ]
  },
  {
   "cell_type": "markdown",
   "metadata": {
    "id": "Ay5QSCKCXUO-"
   },
   "source": [
    "## (Optional) D) Playing around with alpha/beta\n",
    "\n",
    "Change alpha and beta and see how the equilibrium solution and speed at which the system converges changes"
   ]
  },
  {
   "cell_type": "markdown",
   "metadata": {},
   "source": [
    " Execute this cell for the demo\n"
   ]
  },
  {
   "cell_type": "code",
   "metadata": {
    "id": "-JUR6CblXTpD",
    "cellView": "form",
    "tags": [
     "hide-input"
    ]
   },
   "source": [
    "# @markdown Execute this cell for the demo\n",
    "\n",
    "@widgets.interact\n",
    "def plot_euler_integration(alpha = (0.01, 1, .01), beta = (0.01, 1, .01)):\n",
    "  # Have to do this clunky word around to show small values in slider accurately\n",
    "  # (from https://github.com/jupyter-widgets/ipywidgets/issues/259)\n",
    "  init_Po = .5\n",
    "  T = 50 # run simulation for 50 ms\n",
    "  dt = 0.01\n",
    "\n",
    "  numerical_P, t = prob_open_euler_integration(init_Po, dt, T, alpha, beta)\n",
    "\n",
    "  plot_trajectories(t, numerical_P, init_Po, alpha, beta)"
   ],
   "execution_count": null,
   "outputs": []
  },
  {
   "cell_type": "markdown",
   "metadata": {
    "id": "qpIAEcUlFQAw"
   },
   "source": [
    "# (Optional) Exercise 4: Analytical solution: integrating the differential equation\n",
    "\n",
    "This differential equation does have an analytical solution that we are able to compute without crazy integration.\n",
    "\n",
    "Remember that the general form of a first order linear differential equation is:\n",
    "\n",
    "$$ \\frac{dx}{dt} + p(t)x = g(t)$$\n",
    "\n",
    "In this case, we can compute the solution as:\n",
    "\n",
    "$$ x(t) = \\frac{\\int \\mu(t) g(t) dt + C}{\\mu(t)} $$\n",
    "where $\\mu(t) = e^{\\int p(t) dt}$\n",
    "Go forth and try it out!"
   ]
  },
  {
   "cell_type": "markdown",
   "metadata": {
    "id": "_XVdevk7ZmfW"
   },
   "source": [
    "### **Answer**\n",
    "\n",
    "<font color='green'><span style=\"font-size:larger;\">\n",
    "Fill in your text answer here so it is green. Use <br> <br>  for line breaks\n",
    "</font> </span>"
   ]
  }
 ]
}