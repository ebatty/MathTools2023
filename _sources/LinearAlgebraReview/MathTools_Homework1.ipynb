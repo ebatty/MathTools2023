{
 "nbformat": 4,
 "nbformat_minor": 0,
 "metadata": {
  "colab": {
   "provenance": [],
   "collapsed_sections": [],
   "authorship_tag": "ABX9TyM3bbdjPOfQbrShMGb1BQMY",
   "include_colab_link": true
  },
  "kernelspec": {
   "name": "python3",
   "display_name": "Python 3"
  },
  "language_info": {
   "name": "python"
  }
 },
 "cells": [
  {
   "cell_type": "markdown",
   "metadata": {
    "id": "view-in-github",
    "colab_type": "text"
   },
   "source": [
    "<a href=\"https://colab.research.google.com/github/ebatty/MathToolsforNeuroscience/blob/jupyterbook/LinearAlgebraReview/MathTools_Homework1.ipynb\" target=\"_parent\"><img src=\"https://colab.research.google.com/assets/colab-badge.svg\" alt=\"Open In Colab\"/></a>"
   ]
  },
  {
   "cell_type": "markdown",
   "metadata": {
    "id": "Tifti8zZvfR8"
   },
   "source": [
    "*Please write a short essay (~3 paragraphs or however long you think is sufficient to address the prompt) on **three** of the following prompts. You can use math, examples, code, figures in your explanations if you want, or just text (unless otherwise specified). I recommend taking the counterintuitive action of choosing the topics you're still confused by so you are forced to review!*\n",
    "\n",
    "A) Your PI does not understand that you could define points in space with respect to a basis other than the standard basis. Write them a letter explaining changes in basis to them. Clarify why the number of basis vectors has to equal the dimensionality of space. Include a specific numerical example of a different basis and what the new coordinates of an example point would be in that basis vs the standard basis.\n",
    "\n",
    "B) Your aunt keeps insisting that matrices are just tables in which to store your data, and to equate them with linear transformations is crazy. Write her a letter explaining how matrices relate to linear transformations. Mention the concepts null space and rank.\n",
    "\n",
    "C) Your lawyer doesn't understand why an n x n matrix being invertible tells you so much else about it. Specifically, that the matrix has full rank (rank = n), no null space beyond the zero vector, and the columns form a basis for $R^n$. Write him a memo explaining why you know all this just from a matrix being invertible.\n",
    "\n",
    "D) Your friend is completely confused by differential equations and the various ways of solving them. Explain what it means to solve a differential equation analytically vs numerically vs graphically, including the pros and cons of each method. Show an example plot or two for the graphical method.\n",
    "\n",
    "E) Your brother keeps telling you that eigenvectors and eigenvalues have nothing to do with dynamical systems. Explain why he's wrong! Include specifics about what eigenvalues can tell you about both discrete and continuous dynamical systems. \n",
    "\n",
    "F) Your hairdresser is frustrated by PCA and just doesn't get it. Write him a letter explaining the idea of dimensionality reduction in general and PCA in particular. Explain what principal components are and what the transformed data represents. Mention how you can determine whether data has low-dimensional structure from the PCA.\n",
    "\n",
    "G) Your grandmother has heard singular value decomposition mentioned on the radio and wants to know what it is. Write her a letter explaining what SVD is. Include an example of an application to explain why we should bother with it."
   ]
  },
  {
   "cell_type": "code",
   "metadata": {
    "id": "l9QXgANoCsZv"
   },
   "source": [],
   "execution_count": null,
   "outputs": []
  }
 ]
}