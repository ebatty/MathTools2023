{
 "nbformat": 4,
 "nbformat_minor": 0,
 "metadata": {
  "colab": {
   "provenance": [],
   "collapsed_sections": [],
   "toc_visible": true,
   "authorship_tag": "ABX9TyNhVpnXlqSYjzB+T2QrFIMI",
   "include_colab_link": true
  },
  "kernelspec": {
   "name": "python3",
   "display_name": "Python 3"
  }
 },
 "cells": [
  {
   "cell_type": "markdown",
   "metadata": {
    "id": "view-in-github",
    "colab_type": "text"
   },
   "source": [
    "<a href=\"https://colab.research.google.com/github/ebatty/MathToolsforNeuroscience/blob/jupyterbook/Week6/Week6Tutorial1.ipynb\" target=\"_parent\"><img src=\"https://colab.research.google.com/assets/colab-badge.svg\" alt=\"Open In Colab\"/></a>"
   ]
  },
  {
   "cell_type": "markdown",
   "metadata": {
    "id": "S9l0lyqLvkW7"
   },
   "source": [
    "# Tutorial 1\n",
    "\n",
    "**Probability & Statistics I: Intro to Probability**\n",
    "\n",
    "\n",
    "\n",
    "**[insert your name]**\n",
    "\n",
    "**Important reminders**: Before starting, click \"File -> Save a copy in Drive\". Produce a pdf for submission by \"File -> Print\" and then choose \"Save to PDF\".\n",
    "\n"
   ]
  },
  {
   "cell_type": "markdown",
   "metadata": {},
   "source": [
    " Imports\n"
   ]
  },
  {
   "cell_type": "code",
   "metadata": {
    "id": "cv9HSBNPyLV9",
    "cellView": "form",
    "tags": [
     "hide-input"
    ]
   },
   "source": [
    "# @markdown Imports\n",
    "\n",
    "# Imports\n",
    "import numpy as np\n",
    "import matplotlib.pyplot as plt\n",
    "import ipywidgets as widgets  # interactive display\n",
    "import math\n",
    "from scipy.stats import binom"
   ],
   "execution_count": null,
   "outputs": []
  },
  {
   "cell_type": "markdown",
   "metadata": {},
   "source": [
    " Plotting functions\n"
   ]
  },
  {
   "cell_type": "code",
   "metadata": {
    "id": "ZIdPVYl9TzmK",
    "cellView": "form",
    "tags": [
     "hide-input"
    ]
   },
   "source": [
    "# @markdown Plotting functions\n",
    "import numpy\n",
    "from numpy.linalg import inv, eig\n",
    "from math import ceil\n",
    "from matplotlib import pyplot, ticker, get_backend, rc\n",
    "from mpl_toolkits.mplot3d import Axes3D\n",
    "from itertools import cycle\n",
    "\n",
    "\n",
    "%config InlineBackend.figure_format = 'retina'\n",
    "plt.style.use(\"https://raw.githubusercontent.com/NeuromatchAcademy/course-content/master/nma.mplstyle\")\n"
   ],
   "execution_count": null,
   "outputs": []
  },
  {
   "cell_type": "markdown",
   "metadata": {
    "id": "DPENxKOLYQJN"
   },
   "source": [
    "# Exercise 1: Probability Type Review\n",
    "\n",
    "Let's say we're interested in two discrete random variables X and Y. X can take on one of 3 values (1, 2, or 3) while Y can take on one of two (1 or 2). The joint probability distribution is summarized in the table below:\n",
    "\n",
    "|       | X = 1 | X = 2 | X = 3 |\n",
    "| ----- | ------ |------ |------ |\n",
    "| Y = 1 |   0.2 |  0.1 |  0.15     |\n",
    "| Y = 2 |  0.1   | 0.05 |  0.4     |\n"
   ]
  },
  {
   "cell_type": "markdown",
   "metadata": {
    "id": "Jja1HefAdeRl"
   },
   "source": [
    "## A) P(Y)\n",
    "Compute the marginal distribution of Y (so p(Y = 1) and p(Y = 2))"
   ]
  },
  {
   "cell_type": "markdown",
   "metadata": {
    "id": "Zdf16ZPLdkkn"
   },
   "source": [
    "### **Answer**\n",
    "<font color='green'><span style=\"font-size:larger;\">\n",
    "Fill in your answer here\n",
    "</font> </span>"
   ]
  },
  {
   "cell_type": "markdown",
   "metadata": {
    "id": "u6cQeSgZd2op"
   },
   "source": [
    "## B) P(X)\n",
    "Compute the marginal distribution of X"
   ]
  },
  {
   "cell_type": "markdown",
   "metadata": {
    "id": "GIRSadK4eAIU"
   },
   "source": [
    "### **Answer**\n",
    "<font color='green'><span style=\"font-size:larger;\">\n",
    "Fill in your answer here\n",
    "</font> </span>"
   ]
  },
  {
   "cell_type": "markdown",
   "metadata": {
    "id": "Y30gfyjReBMo"
   },
   "source": [
    "## C) P(Y | X = 2)\n",
    "\n",
    "Compute the conditional probability of Y given that X = 2."
   ]
  },
  {
   "cell_type": "markdown",
   "metadata": {
    "id": "yc8yX_1neIk2"
   },
   "source": [
    "### **Answer**\n",
    "<font color='green'><span style=\"font-size:larger;\">\n",
    "Fill in your answer here\n",
    "</font> </span>"
   ]
  },
  {
   "cell_type": "markdown",
   "metadata": {
    "id": "3sdh2mkeeWu5"
   },
   "source": [
    "## D) Independence\n",
    "\n",
    "Are Y and X independent or not?"
   ]
  },
  {
   "cell_type": "markdown",
   "metadata": {
    "id": "37y2-GujeaRR"
   },
   "source": [
    "### **Answer**\n",
    "<font color='green'><span style=\"font-size:larger;\">\n",
    "Fill in your answer here\n",
    "</font> </span>"
   ]
  },
  {
   "cell_type": "markdown",
   "metadata": {
    "id": "zrWLNSBGzXA8"
   },
   "source": [
    "# Exercise 2: Two armed bandit task\n",
    "\n",
    "You are a mouse. A giant plonks you down in a weird apparatus each morning when you'd rather have been sleeping in. You consider biting the giant in retaliation but decide against it. Eventually, because you're a smart mouse, you realize that you can poke a central port with your nose. After this, if you go the left or right, there are ports that sometimes give you sugar water when you lick (YUM). It seems like one of the sides (left or right) tends to give you the reward of sugar water more often. Annoyingly, the side that gives rewards more often seems to change every day! \n",
    "\n",
    "You decide that each day you will visit each side (left and right) two times (a total of 4 trials). You will then pick the side that gave you the most rewards and keep visiting that one. If they give you equal numbers of rewards, you choose randomly.\n",
    "\n",
    "**What is the probability you are wrong (pick the righthand port) for a given day if, unbeknownst to you, the probability of the left port giving water is 0.8 and the right port is 0.3?** \n"
   ]
  },
  {
   "cell_type": "markdown",
   "metadata": {
    "id": "CqR5sj5lzaAI"
   },
   "source": [
    "## (Optional) A) Simulation\n",
    "\n",
    "Let's first simulate this situation to get an answer (we'll compute it analytically next). We can get a feel for what's happening and check the computed answer in part B!\n",
    "\n",
    "We want to code this scenario where the rewards on each of the 4 trials are randomly chosen given the probabilities for each side. Out of 100000 simulations of the 4 trials, compute how many times the mouse picks the right port vs the left port.\n",
    "\n",
    "The relevant probability distribution is the binomial distribution (https://en.wikipedia.org/wiki/Binomial_distribution). Relevant code might be:\n",
    "- binom (from scipy.stats.binom):  binom(n, p) is the binomial distribution with n visits and probability of reward p. You can use  binom(n, p).pmf(k) to get the probability mass function or binom(n, p).cdf(k) to get the cumulative distributive function. https://docs.scipy.org/doc/scipy/reference/generated/scipy.stats.binom.html\n",
    "- np.random.binomial(n, p) draws samples from the binomial distribution with n trials and probability p. https://numpy.org/doc/stable/reference/random/generated/numpy.random.binomial.html"
   ]
  },
  {
   "cell_type": "code",
   "metadata": {
    "id": "gIT4VLfrzXfS"
   },
   "source": [
    "left_prob = 0.8\n",
    "right_prob = 0.3\n",
    "n_visits_per_side = 2\n",
    "\n",
    "# your simulation code here"
   ],
   "execution_count": null,
   "outputs": []
  },
  {
   "cell_type": "markdown",
   "metadata": {
    "id": "_d9ET9CTzcQg"
   },
   "source": [
    "## B) Analytical Computation\n",
    "\n",
    "Now we will actually analytically compute the probability that you are wrong. There are hints you can uncover as needed but try to work through things as much as possible before revealing each hint.\n",
    "\n",
    "You have to put every thing together by hand but you can use `binom(2, 0.8).pmf(k)` to compute bimomial probabilities. This example gives the probability of getting k rewards from the left side with 2 trials (where k is either 0, 1, or 2)"
   ]
  },
  {
   "cell_type": "code",
   "metadata": {
    "colab": {
     "base_uri": "https://localhost:8080/"
    },
    "id": "bGr4Rf4gCVgb",
    "outputId": "55a6f890-3616-420f-bc02-72b878e4109b"
   },
   "source": [
    "binom(2, 0.8).pmf(0)"
   ],
   "execution_count": null,
   "outputs": [
    {
     "output_type": "execute_result",
     "data": {
      "text/plain": [
       "0.03999999999999999"
      ]
     },
     "metadata": {},
     "execution_count": 6
    }
   ]
  },
  {
   "cell_type": "markdown",
   "metadata": {
    "id": "IbwRtftZzfoM"
   },
   "source": [
    "### **Answer**\n",
    "<font color='green'><span style=\"font-size:larger;\">\n",
    "Fill in the probability of being wrong here so it is green. (show your work above or below though!)\n",
    "</font> </span>"
   ]
  },
  {
   "cell_type": "markdown",
   "metadata": {},
   "source": [
    " Hint 1\n"
   ]
  },
  {
   "cell_type": "code",
   "metadata": {
    "cellView": "form",
    "id": "3DyOPLfBzhNg",
    "tags": [
     "hide-input"
    ]
   },
   "source": [
    "# @markdown Hint 1\n",
    "\"\"\"\n",
    "Think through each event where you would be wrong \n",
    "(what the number of rewards on the left side vs the \n",
    "right side would be). \n",
    "\n",
    "Brute force this - write out every single possibility.\n",
    "\"\"\""
   ],
   "execution_count": null,
   "outputs": []
  },
  {
   "cell_type": "markdown",
   "metadata": {},
   "source": [
    " Hint 2\n"
   ]
  },
  {
   "cell_type": "code",
   "metadata": {
    "cellView": "form",
    "id": "0R_pxcu3ztrN",
    "tags": [
     "hide-input"
    ]
   },
   "source": [
    "# @markdown Hint 2\n",
    "\n",
    "\"\"\"\n",
    "How would you compute the total probability that you're \n",
    "wrong based on the probability of each of these events\n",
    "occuring? You may want to treat ties separately\n",
    "for ease.  How would you compute the probability\n",
    "of each event? \n",
    "\"\"\""
   ],
   "execution_count": null,
   "outputs": []
  },
  {
   "cell_type": "markdown",
   "metadata": {},
   "source": [
    " Hint 3\n"
   ]
  },
  {
   "cell_type": "code",
   "metadata": {
    "cellView": "form",
    "id": "4JcZT4Soz2_i",
    "tags": [
     "hide-input"
    ]
   },
   "source": [
    "# @markdown Hint 3\n",
    "\n",
    "\"\"\"\n",
    "P(wrong) = P(fewer rewards on left side) + 0.5P(tie)\n",
    "\"\"\"\n"
   ],
   "execution_count": null,
   "outputs": []
  },
  {
   "cell_type": "markdown",
   "metadata": {},
   "source": [
    " Hint 4\n"
   ]
  },
  {
   "cell_type": "code",
   "metadata": {
    "cellView": "form",
    "id": "PpRQRyuez6v3",
    "tags": [
     "hide-input"
    ]
   },
   "source": [
    "# @markdown Hint 4\n",
    "\n",
    "\"\"\"\n",
    "The probability of either event A or event B occuring\n",
    "is P(A or B) = P(A) + P(B) if they are mutually exclusive \n",
    "(they can't both happen at once). This should help\n",
    "answer the first question in hint 2\n",
    "\"\"\""
   ],
   "execution_count": null,
   "outputs": []
  },
  {
   "cell_type": "markdown",
   "metadata": {},
   "source": [
    " Hint 5\n"
   ]
  },
  {
   "cell_type": "code",
   "metadata": {
    "cellView": "form",
    "id": "qhvCzE3r0BuQ",
    "tags": [
     "hide-input"
    ]
   },
   "source": [
    "# @markdown Hint 5\n",
    "\n",
    "\"\"\"\n",
    "The probability of event A and B occuring if they are\n",
    "independent is P(A and B) = P(A)*P(B).  This should help \n",
    "answer the second question in hint 2\n",
    "\"\"\""
   ],
   "execution_count": null,
   "outputs": []
  },
  {
   "cell_type": "markdown",
   "metadata": {
    "id": "a9fHv3kI0lwk"
   },
   "source": [
    "## Optional Advanced Extension\n",
    "\n",
    "Can you write a succinct function for computing the probability that you are wrong given any number of visits to each side and any probabilities of reward on either side (assuming the left prob is higher)? So the inputs would be n_visits, left_prob, and right_prob. \n",
    "\n",
    "Use it it compute the probability of being wrong with n_visits = 4, left_prob = 0.7, and right_prob = 0.2"
   ]
  },
  {
   "cell_type": "code",
   "metadata": {
    "id": "rm-JxnN50mH7"
   },
   "source": [
    "# your code here"
   ],
   "execution_count": null,
   "outputs": []
  },
  {
   "cell_type": "markdown",
   "metadata": {
    "id": "6vJyuBzZ1IgQ"
   },
   "source": [
    "# Exercise 3: Poisson model of spiking\n",
    "\n",
    "The probability distributions we use the most in neuroscience are Gaussian and Poisson distributions. Poisson distributions are often used to describe neural spiking. The output of the Poisson distribution is the number of spikes for that small time window. \n",
    "\n",
    "Let's say we have a neuron that's responding to head direction. The head direction ($\\theta$) ranges between 0 and 359 degrees. The underlying \"firing rate\" of the neuron to a particular head direction is $\\frac{1}{20} \\theta$. Let's say this is the response in a 10 ms bin during which the mouse is still and angled at that head direction $\\theta$. The number of spikes during that time window is modeled by a Poisson distribution where the input $\\lambda$ is that underlying firing rate. Specifically,\n",
    "\n",
    "$$ P(S = k | H = \\theta) = \\frac{\\lambda ^k e^{-\\lambda}}{k!} $$ where $\\lambda = \\frac{1}{20}\\theta$, S stands for number of spikes, H stands for head direction, and $P(S=k | H=\\theta)$ is the probability that the number of spikes is k given that the head direction is $\\theta$.\n",
    "\n",
    "Note that we have build an encoding model! Encoding models model neural responses to some stimulus or behavior - our $P(S = k | H = \\theta)$ is an encoding model."
   ]
  },
  {
   "cell_type": "markdown",
   "metadata": {
    "id": "VnSGY5SL1LEM"
   },
   "source": [
    "## A) Sampling spike counts\n",
    "\n",
    "In the code below, for $\\theta$ between 0 and 359, compute $\\lambda$. Sample the spike count for 10000 trials (10000 occurences of that head direction) using `np.random.poisson`. "
   ]
  },
  {
   "cell_type": "code",
   "metadata": {
    "id": "R3RFITZ91JNJ"
   },
   "source": [
    "thetas = np.arange(0, 360, 1)\n",
    "\n",
    "lam = ... # should be an array the same size as thetas with the lambdas\n",
    "\n",
    "n_trials = 10000 \n",
    "\n",
    "# Get spike counts, an array of size len(theta) x n_trials \n",
    "# YOUR CODE HERE\n",
    "..."
   ],
   "execution_count": null,
   "outputs": []
  },
  {
   "cell_type": "markdown",
   "metadata": {
    "id": "_kXWOoQA1PuH"
   },
   "source": [
    "## B) Lambda vs mean spike count\n",
    "\n",
    "For each $\\theta$, compute the mean of the spike count over trials and plot vs $\\lambda$. "
   ]
  },
  {
   "cell_type": "code",
   "metadata": {
    "id": "Zf1l3hSZ1P6g"
   },
   "source": [
    "mean_spike_count = ...\n",
    "\n",
    "fig, ax = plt.subplots(1, 1)\n",
    "ax.plot(lam, mean_spike_count, 'ok')\n",
    "ax.set(xlabel='Lambda', ylabel='Mean spike count');"
   ],
   "execution_count": null,
   "outputs": []
  },
  {
   "cell_type": "markdown",
   "metadata": {
    "id": "eGGKzFBq1StQ"
   },
   "source": [
    "What is the relationship between lambda and the mean spike count? Aka between lambda and the mean of the Poisson distribution"
   ]
  },
  {
   "cell_type": "markdown",
   "metadata": {
    "id": "lUpN_LCJ1Uy_"
   },
   "source": [
    "### **Answer**\n",
    "<font color='green'><span style=\"font-size:larger;\">\n",
    "Fill in your text answer here (if in latex) so it is green. Use <br> <br>  for line breaks\n",
    "</font> </span>"
   ]
  },
  {
   "cell_type": "markdown",
   "metadata": {
    "id": "UxJqMTWg1Zv1"
   },
   "source": [
    "## C) Mean vs variance of spike count\n",
    "\n",
    "Now, for each theta, compute the variance of the spike counts over trials. Plot the mean spike count vs the variance of the spike counts. "
   ]
  },
  {
   "cell_type": "code",
   "metadata": {
    "id": "rHy55W6B1UNH"
   },
   "source": [
    "variance_spike_count = ...\n",
    "\n",
    "fig, ax = plt.subplots(1, 1)\n",
    "ax.plot(mean_spike_count, variance_spike_count, 'ok')\n",
    "ax.set(xlabel='Mean spike count', ylabel='Variance of spike counts');"
   ],
   "execution_count": null,
   "outputs": []
  },
  {
   "cell_type": "markdown",
   "metadata": {
    "id": "nojN2WSg1ck3"
   },
   "source": [
    "What is the relationship between the mean spike count and the variance of spike counts? Aka between the mean and variance of a Poisson distribution"
   ]
  },
  {
   "cell_type": "markdown",
   "metadata": {
    "id": "p-H-Q9c71eUU"
   },
   "source": [
    "### **Answer**\n",
    "<font color='green'><span style=\"font-size:larger;\">\n",
    "Fill in your text answer here (if in latex) so it is green. Use <br> <br>  for line breaks\n",
    "</font> </span>"
   ]
  },
  {
   "cell_type": "markdown",
   "metadata": {
    "id": "ZTY3y6As1gFL"
   },
   "source": [
    "## D) Why Poisson?\n",
    "\n",
    "What are some features of the Poisson distribution that lend to modeling spiking well? What are some potential problems? "
   ]
  },
  {
   "cell_type": "markdown",
   "metadata": {
    "id": "M5nHugcx1hzO"
   },
   "source": [
    "### **Answer**\n",
    "<font color='green'><span style=\"font-size:larger;\">\n",
    "Fill in your text answer here \n",
    "</font> </span>\n"
   ]
  },
  {
   "cell_type": "markdown",
   "source": [
    "# Exercise 4: Bayes' Theorem with COVID Tests\n",
    "\n",
    "We will assume that the COVID test has a true positive rate of 75%, meaning that the probability of a positive result if you are sick is 75%.  It has a true negative rate of 97%, meaning that the probability of a negative result if you are healthy is 97%.\n",
    "\n",
    " The probability of you being sick in general is equal to the prevalence of COVID in your community: 5% of people are sick so the probability of being sick is 5% and the probability of being healthy is 95%.\n",
    "\n",
    "Let's say you get a positive result from your COVID test. **What is the probability you are sick given the positive test result?** Hint: use Baye's theorem"
   ],
   "metadata": {
    "id": "99ybkphAm_b5"
   }
  },
  {
   "cell_type": "markdown",
   "source": [
    "## Answer\n",
    "\n",
    "<font color='green'><span style=\"font-size:larger;\">\n",
    "Fill in the answer here so it is green. (show your work above or below though!)\n",
    "</font> </span>"
   ],
   "metadata": {
    "id": "tJAGp54SnBoX"
   }
  },
  {
   "cell_type": "markdown",
   "source": [
    "# (Optional Advanced Problem) Exercise 5: Birthday Paradox\n",
    "\n",
    "Compute the probability that at least two people share a birthday out of a class of 16."
   ],
   "metadata": {
    "id": "OMze_KaknNoG"
   }
  },
  {
   "cell_type": "markdown",
   "source": [
    "### **Answer**\n",
    "<font color='green'><span style=\"font-size:larger;\">\n",
    "Fill in the answer here so it is green. (show your work above or below though!)\n",
    "</font> </span>"
   ],
   "metadata": {
    "id": "dJHsALZhnPy3"
   }
  }
 ]
}