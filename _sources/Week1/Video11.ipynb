{
 "cells": [
  {
   "cell_type": "markdown",
   "metadata": {
    "id": "JF2zj-4cx4OQ"
   },
   "source": [
    "# Video 1.1: What is a vector?"
   ]
  },
  {
   "cell_type": "markdown",
   "metadata": {
    "id": "sn9AaZ4ux4OT"
   },
   "source": [
    "## Video"
   ]
  },
  {
   "cell_type": "markdown",
   "metadata": {},
   "source": [
    "\n"
   ]
  },
  {
   "cell_type": "code",
   "execution_count": null,
   "metadata": {
    "id": "FsEbdhdMx4OT",
    "tags": [
     "remove-input"
    ]
   },
   "outputs": [],
   "source": [
    "# @markdown\n",
    "from IPython.display import YouTubeVideo\n",
    "from ipywidgets import widgets\n",
    "out = widgets.Output()\n",
    "with out:\n",
    "    display(YouTubeVideo(id=f\"YBCLN8NnrjM\", width=730, height=410, fs=1))\n",
    "display(out)"
   ]
  },
  {
   "cell_type": "markdown",
   "metadata": {
    "id": "UE9wykqTx4OV"
   },
   "source": [
    "<a href=\"https://www.youtube.com/watch?v=YBCLN8NnrjM&t=30s\" target=\"_blank\" > 00:30</a> Why learn linear algebra?\n",
    "\n",
    "<a href=\"https://www.youtube.com/watch?v=YBCLN8NnrjM&t=108s\" target=\"_blank\" > 01:48</a> Intuition behind vectors\n",
    "\n",
    "<a href=\"https://www.youtube.com/watch?v=YBCLN8NnrjM&t=341s\" target=\"_blank\" > 05:41</a>  Definition of a vector"
   ]
  },
  {
   "cell_type": "markdown",
   "metadata": {
    "id": "HxR6mwk1x4OV"
   },
   "source": [
    "## Notes\n",
    "\n",
    "<a href=\"https://osf.io/snvfq/download\">\n",
    "    Click here to download notes\n",
    "</a>\n",
    "\n"
   ]
  },
  {
   "cell_type": "markdown",
   "source": [
    "<img src=\"https://github.com/ebatty/MathToolsforNeuroscience/blob/jupyterbook/Week1/video1_1_notes.png?raw=True\" alt=\"notes for the video\" class=\"bg-primary\" width=\"100%\">\n"
   ],
   "metadata": {
    "id": "8PHpo1L1ya6S"
   }
  }
 ],
 "metadata": {
  "kernelspec": {
   "display_name": "Python 3.8.13 ('mathtools')",
   "language": "python",
   "name": "python3"
  },
  "language_info": {
   "codemirror_mode": {
    "name": "ipython",
    "version": 3
   },
   "file_extension": ".py",
   "mimetype": "text/x-python",
   "name": "python",
   "nbconvert_exporter": "python",
   "pygments_lexer": "ipython3",
   "version": "3.8.13"
  },
  "orig_nbformat": 4,
  "vscode": {
   "interpreter": {
    "hash": "2f26a17d6a9624f855b5f9e02ffdc0ae71c8577a2562f495dada4b6f29d8bdd3"
   }
  },
  "colab": {
   "provenance": []
  }
 },
 "nbformat": 4,
 "nbformat_minor": 0
}