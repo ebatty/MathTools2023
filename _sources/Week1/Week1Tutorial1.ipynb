{
 "nbformat": 4,
 "nbformat_minor": 0,
 "metadata": {
  "colab": {
   "provenance": [],
   "toc_visible": true,
   "authorship_tag": "ABX9TyMmvHOR0FIx3ZF5YWJVYbxg"
  },
  "kernelspec": {
   "name": "python3",
   "display_name": "Python 3"
  },
  "widgets": {
   "application/vnd.jupyter.widget-state+json": {
    "5c4a1cc37eee4c6d9992be7c5598ef18": {
     "model_module": "@jupyter-widgets/controls",
     "model_name": "VBoxModel",
     "model_module_version": "1.5.0",
     "state": {
      "_dom_classes": [
       "widget-interact"
      ],
      "_model_module": "@jupyter-widgets/controls",
      "_model_module_version": "1.5.0",
      "_model_name": "VBoxModel",
      "_view_count": null,
      "_view_module": "@jupyter-widgets/controls",
      "_view_module_version": "1.5.0",
      "_view_name": "VBoxView",
      "box_style": "",
      "children": [
       "IPY_MODEL_a3d7e9ab9e614367b367a02e02fc1975",
       "IPY_MODEL_47e6340d29a0435cb2bd1bbedf5825b2",
       "IPY_MODEL_79385d04e0954a47a99f7dc846756687"
      ],
      "layout": "IPY_MODEL_baf962f2892a41b78bad46d0713875f4"
     }
    },
    "a3d7e9ab9e614367b367a02e02fc1975": {
     "model_module": "@jupyter-widgets/controls",
     "model_name": "FloatSliderModel",
     "model_module_version": "1.5.0",
     "state": {
      "_dom_classes": [],
      "_model_module": "@jupyter-widgets/controls",
      "_model_module_version": "1.5.0",
      "_model_name": "FloatSliderModel",
      "_view_count": null,
      "_view_module": "@jupyter-widgets/controls",
      "_view_module_version": "1.5.0",
      "_view_name": "FloatSliderView",
      "continuous_update": true,
      "description": "a",
      "description_tooltip": null,
      "disabled": false,
      "layout": "IPY_MODEL_29bd40a058774fb89026e5c00b5d833d",
      "max": 2,
      "min": -2,
      "orientation": "horizontal",
      "readout": true,
      "readout_format": ".2f",
      "step": 0.1,
      "style": "IPY_MODEL_4fc3d7f7f81344109e72cefcde860c80",
      "value": -0.5
     }
    },
    "47e6340d29a0435cb2bd1bbedf5825b2": {
     "model_module": "@jupyter-widgets/controls",
     "model_name": "FloatSliderModel",
     "model_module_version": "1.5.0",
     "state": {
      "_dom_classes": [],
      "_model_module": "@jupyter-widgets/controls",
      "_model_module_version": "1.5.0",
      "_model_name": "FloatSliderModel",
      "_view_count": null,
      "_view_module": "@jupyter-widgets/controls",
      "_view_module_version": "1.5.0",
      "_view_name": "FloatSliderView",
      "continuous_update": true,
      "description": "b",
      "description_tooltip": null,
      "disabled": false,
      "layout": "IPY_MODEL_9fc02b4d074b43519b08ae2988a0c7ba",
      "max": 2,
      "min": -2,
      "orientation": "horizontal",
      "readout": true,
      "readout_format": ".2f",
      "step": 0.1,
      "style": "IPY_MODEL_8d7ac92f2dd84f3b90ce02fb47052761",
      "value": 2
     }
    },
    "79385d04e0954a47a99f7dc846756687": {
     "model_module": "@jupyter-widgets/output",
     "model_name": "OutputModel",
     "model_module_version": "1.0.0",
     "state": {
      "_dom_classes": [],
      "_model_module": "@jupyter-widgets/output",
      "_model_module_version": "1.0.0",
      "_model_name": "OutputModel",
      "_view_count": null,
      "_view_module": "@jupyter-widgets/output",
      "_view_module_version": "1.0.0",
      "_view_name": "OutputView",
      "layout": "IPY_MODEL_097fe34de9eb411b98d43f7d88105459",
      "msg_id": "",
      "outputs": [
       {
        "output_type": "display_data",
        "data": {
         "text/plain": "<Figure size 720x504 with 1 Axes>",
         "image/png": "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\n"
        },
        "metadata": {
         "needs_background": "light"
        }
       }
      ]
     }
    },
    "baf962f2892a41b78bad46d0713875f4": {
     "model_module": "@jupyter-widgets/base",
     "model_name": "LayoutModel",
     "model_module_version": "1.2.0",
     "state": {
      "_model_module": "@jupyter-widgets/base",
      "_model_module_version": "1.2.0",
      "_model_name": "LayoutModel",
      "_view_count": null,
      "_view_module": "@jupyter-widgets/base",
      "_view_module_version": "1.2.0",
      "_view_name": "LayoutView",
      "align_content": null,
      "align_items": null,
      "align_self": null,
      "border": null,
      "bottom": null,
      "display": null,
      "flex": null,
      "flex_flow": null,
      "grid_area": null,
      "grid_auto_columns": null,
      "grid_auto_flow": null,
      "grid_auto_rows": null,
      "grid_column": null,
      "grid_gap": null,
      "grid_row": null,
      "grid_template_areas": null,
      "grid_template_columns": null,
      "grid_template_rows": null,
      "height": null,
      "justify_content": null,
      "justify_items": null,
      "left": null,
      "margin": null,
      "max_height": null,
      "max_width": null,
      "min_height": null,
      "min_width": null,
      "object_fit": null,
      "object_position": null,
      "order": null,
      "overflow": null,
      "overflow_x": null,
      "overflow_y": null,
      "padding": null,
      "right": null,
      "top": null,
      "visibility": null,
      "width": null
     }
    },
    "29bd40a058774fb89026e5c00b5d833d": {
     "model_module": "@jupyter-widgets/base",
     "model_name": "LayoutModel",
     "model_module_version": "1.2.0",
     "state": {
      "_model_module": "@jupyter-widgets/base",
      "_model_module_version": "1.2.0",
      "_model_name": "LayoutModel",
      "_view_count": null,
      "_view_module": "@jupyter-widgets/base",
      "_view_module_version": "1.2.0",
      "_view_name": "LayoutView",
      "align_content": null,
      "align_items": null,
      "align_self": null,
      "border": null,
      "bottom": null,
      "display": null,
      "flex": null,
      "flex_flow": null,
      "grid_area": null,
      "grid_auto_columns": null,
      "grid_auto_flow": null,
      "grid_auto_rows": null,
      "grid_column": null,
      "grid_gap": null,
      "grid_row": null,
      "grid_template_areas": null,
      "grid_template_columns": null,
      "grid_template_rows": null,
      "height": null,
      "justify_content": null,
      "justify_items": null,
      "left": null,
      "margin": null,
      "max_height": null,
      "max_width": null,
      "min_height": null,
      "min_width": null,
      "object_fit": null,
      "object_position": null,
      "order": null,
      "overflow": null,
      "overflow_x": null,
      "overflow_y": null,
      "padding": null,
      "right": null,
      "top": null,
      "visibility": null,
      "width": null
     }
    },
    "4fc3d7f7f81344109e72cefcde860c80": {
     "model_module": "@jupyter-widgets/controls",
     "model_name": "SliderStyleModel",
     "model_module_version": "1.5.0",
     "state": {
      "_model_module": "@jupyter-widgets/controls",
      "_model_module_version": "1.5.0",
      "_model_name": "SliderStyleModel",
      "_view_count": null,
      "_view_module": "@jupyter-widgets/base",
      "_view_module_version": "1.2.0",
      "_view_name": "StyleView",
      "description_width": "",
      "handle_color": null
     }
    },
    "9fc02b4d074b43519b08ae2988a0c7ba": {
     "model_module": "@jupyter-widgets/base",
     "model_name": "LayoutModel",
     "model_module_version": "1.2.0",
     "state": {
      "_model_module": "@jupyter-widgets/base",
      "_model_module_version": "1.2.0",
      "_model_name": "LayoutModel",
      "_view_count": null,
      "_view_module": "@jupyter-widgets/base",
      "_view_module_version": "1.2.0",
      "_view_name": "LayoutView",
      "align_content": null,
      "align_items": null,
      "align_self": null,
      "border": null,
      "bottom": null,
      "display": null,
      "flex": null,
      "flex_flow": null,
      "grid_area": null,
      "grid_auto_columns": null,
      "grid_auto_flow": null,
      "grid_auto_rows": null,
      "grid_column": null,
      "grid_gap": null,
      "grid_row": null,
      "grid_template_areas": null,
      "grid_template_columns": null,
      "grid_template_rows": null,
      "height": null,
      "justify_content": null,
      "justify_items": null,
      "left": null,
      "margin": null,
      "max_height": null,
      "max_width": null,
      "min_height": null,
      "min_width": null,
      "object_fit": null,
      "object_position": null,
      "order": null,
      "overflow": null,
      "overflow_x": null,
      "overflow_y": null,
      "padding": null,
      "right": null,
      "top": null,
      "visibility": null,
      "width": null
     }
    },
    "8d7ac92f2dd84f3b90ce02fb47052761": {
     "model_module": "@jupyter-widgets/controls",
     "model_name": "SliderStyleModel",
     "model_module_version": "1.5.0",
     "state": {
      "_model_module": "@jupyter-widgets/controls",
      "_model_module_version": "1.5.0",
      "_model_name": "SliderStyleModel",
      "_view_count": null,
      "_view_module": "@jupyter-widgets/base",
      "_view_module_version": "1.2.0",
      "_view_name": "StyleView",
      "description_width": "",
      "handle_color": null
     }
    },
    "097fe34de9eb411b98d43f7d88105459": {
     "model_module": "@jupyter-widgets/base",
     "model_name": "LayoutModel",
     "model_module_version": "1.2.0",
     "state": {
      "_model_module": "@jupyter-widgets/base",
      "_model_module_version": "1.2.0",
      "_model_name": "LayoutModel",
      "_view_count": null,
      "_view_module": "@jupyter-widgets/base",
      "_view_module_version": "1.2.0",
      "_view_name": "LayoutView",
      "align_content": null,
      "align_items": null,
      "align_self": null,
      "border": null,
      "bottom": null,
      "display": null,
      "flex": null,
      "flex_flow": null,
      "grid_area": null,
      "grid_auto_columns": null,
      "grid_auto_flow": null,
      "grid_auto_rows": null,
      "grid_column": null,
      "grid_gap": null,
      "grid_row": null,
      "grid_template_areas": null,
      "grid_template_columns": null,
      "grid_template_rows": null,
      "height": null,
      "justify_content": null,
      "justify_items": null,
      "left": null,
      "margin": null,
      "max_height": null,
      "max_width": null,
      "min_height": null,
      "min_width": null,
      "object_fit": null,
      "object_position": null,
      "order": null,
      "overflow": null,
      "overflow_x": null,
      "overflow_y": null,
      "padding": null,
      "right": null,
      "top": null,
      "visibility": null,
      "width": null
     }
    },
    "e2d01c1270cd46af85ebc5017f6b93e5": {
     "model_module": "@jupyter-widgets/controls",
     "model_name": "VBoxModel",
     "model_module_version": "1.5.0",
     "state": {
      "_dom_classes": [
       "widget-interact"
      ],
      "_model_module": "@jupyter-widgets/controls",
      "_model_module_version": "1.5.0",
      "_model_name": "VBoxModel",
      "_view_count": null,
      "_view_module": "@jupyter-widgets/controls",
      "_view_module_version": "1.5.0",
      "_view_name": "VBoxView",
      "box_style": "",
      "children": [
       "IPY_MODEL_de43e4063fb1445b9de52d6b6f057df6",
       "IPY_MODEL_4871da59123744ccb2e013f119186381"
      ],
      "layout": "IPY_MODEL_76dcbb479977467fb7b997cd0321d5a8"
     }
    },
    "de43e4063fb1445b9de52d6b6f057df6": {
     "model_module": "@jupyter-widgets/controls",
     "model_name": "FloatSliderModel",
     "model_module_version": "1.5.0",
     "state": {
      "_dom_classes": [],
      "_model_module": "@jupyter-widgets/controls",
      "_model_module_version": "1.5.0",
      "_model_name": "FloatSliderModel",
      "_view_count": null,
      "_view_module": "@jupyter-widgets/controls",
      "_view_module_version": "1.5.0",
      "_view_name": "FloatSliderView",
      "continuous_update": true,
      "description": "dot_prod",
      "description_tooltip": null,
      "disabled": false,
      "layout": "IPY_MODEL_58ea3b6f7c1e4b949d59fd466a3337f6",
      "max": 12.3,
      "min": -12.3,
      "orientation": "horizontal",
      "readout": true,
      "readout_format": ".2f",
      "step": 0.1,
      "style": "IPY_MODEL_e023422b47704e8eb3a2e32ca7a32829",
      "value": 0
     }
    },
    "4871da59123744ccb2e013f119186381": {
     "model_module": "@jupyter-widgets/output",
     "model_name": "OutputModel",
     "model_module_version": "1.0.0",
     "state": {
      "_dom_classes": [],
      "_model_module": "@jupyter-widgets/output",
      "_model_module_version": "1.0.0",
      "_model_name": "OutputModel",
      "_view_count": null,
      "_view_module": "@jupyter-widgets/output",
      "_view_module_version": "1.0.0",
      "_view_name": "OutputView",
      "layout": "IPY_MODEL_b0a0e32956424853b0d086a85ad5cdae",
      "msg_id": "",
      "outputs": [
       {
        "output_type": "display_data",
        "data": {
         "text/plain": "<Figure size 504x504 with 1 Axes>",
         "image/png": "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\n"
        },
        "metadata": {
         "needs_background": "light"
        }
       }
      ]
     }
    },
    "76dcbb479977467fb7b997cd0321d5a8": {
     "model_module": "@jupyter-widgets/base",
     "model_name": "LayoutModel",
     "model_module_version": "1.2.0",
     "state": {
      "_model_module": "@jupyter-widgets/base",
      "_model_module_version": "1.2.0",
      "_model_name": "LayoutModel",
      "_view_count": null,
      "_view_module": "@jupyter-widgets/base",
      "_view_module_version": "1.2.0",
      "_view_name": "LayoutView",
      "align_content": null,
      "align_items": null,
      "align_self": null,
      "border": null,
      "bottom": null,
      "display": null,
      "flex": null,
      "flex_flow": null,
      "grid_area": null,
      "grid_auto_columns": null,
      "grid_auto_flow": null,
      "grid_auto_rows": null,
      "grid_column": null,
      "grid_gap": null,
      "grid_row": null,
      "grid_template_areas": null,
      "grid_template_columns": null,
      "grid_template_rows": null,
      "height": null,
      "justify_content": null,
      "justify_items": null,
      "left": null,
      "margin": null,
      "max_height": null,
      "max_width": null,
      "min_height": null,
      "min_width": null,
      "object_fit": null,
      "object_position": null,
      "order": null,
      "overflow": null,
      "overflow_x": null,
      "overflow_y": null,
      "padding": null,
      "right": null,
      "top": null,
      "visibility": null,
      "width": null
     }
    },
    "58ea3b6f7c1e4b949d59fd466a3337f6": {
     "model_module": "@jupyter-widgets/base",
     "model_name": "LayoutModel",
     "model_module_version": "1.2.0",
     "state": {
      "_model_module": "@jupyter-widgets/base",
      "_model_module_version": "1.2.0",
      "_model_name": "LayoutModel",
      "_view_count": null,
      "_view_module": "@jupyter-widgets/base",
      "_view_module_version": "1.2.0",
      "_view_name": "LayoutView",
      "align_content": null,
      "align_items": null,
      "align_self": null,
      "border": null,
      "bottom": null,
      "display": null,
      "flex": null,
      "flex_flow": null,
      "grid_area": null,
      "grid_auto_columns": null,
      "grid_auto_flow": null,
      "grid_auto_rows": null,
      "grid_column": null,
      "grid_gap": null,
      "grid_row": null,
      "grid_template_areas": null,
      "grid_template_columns": null,
      "grid_template_rows": null,
      "height": null,
      "justify_content": null,
      "justify_items": null,
      "left": null,
      "margin": null,
      "max_height": null,
      "max_width": null,
      "min_height": null,
      "min_width": null,
      "object_fit": null,
      "object_position": null,
      "order": null,
      "overflow": null,
      "overflow_x": null,
      "overflow_y": null,
      "padding": null,
      "right": null,
      "top": null,
      "visibility": null,
      "width": null
     }
    },
    "e023422b47704e8eb3a2e32ca7a32829": {
     "model_module": "@jupyter-widgets/controls",
     "model_name": "SliderStyleModel",
     "model_module_version": "1.5.0",
     "state": {
      "_model_module": "@jupyter-widgets/controls",
      "_model_module_version": "1.5.0",
      "_model_name": "SliderStyleModel",
      "_view_count": null,
      "_view_module": "@jupyter-widgets/base",
      "_view_module_version": "1.2.0",
      "_view_name": "StyleView",
      "description_width": "",
      "handle_color": null
     }
    },
    "b0a0e32956424853b0d086a85ad5cdae": {
     "model_module": "@jupyter-widgets/base",
     "model_name": "LayoutModel",
     "model_module_version": "1.2.0",
     "state": {
      "_model_module": "@jupyter-widgets/base",
      "_model_module_version": "1.2.0",
      "_model_name": "LayoutModel",
      "_view_count": null,
      "_view_module": "@jupyter-widgets/base",
      "_view_module_version": "1.2.0",
      "_view_name": "LayoutView",
      "align_content": null,
      "align_items": null,
      "align_self": null,
      "border": null,
      "bottom": null,
      "display": null,
      "flex": null,
      "flex_flow": null,
      "grid_area": null,
      "grid_auto_columns": null,
      "grid_auto_flow": null,
      "grid_auto_rows": null,
      "grid_column": null,
      "grid_gap": null,
      "grid_row": null,
      "grid_template_areas": null,
      "grid_template_columns": null,
      "grid_template_rows": null,
      "height": null,
      "justify_content": null,
      "justify_items": null,
      "left": null,
      "margin": null,
      "max_height": null,
      "max_width": null,
      "min_height": null,
      "min_width": null,
      "object_fit": null,
      "object_position": null,
      "order": null,
      "overflow": null,
      "overflow_x": null,
      "overflow_y": null,
      "padding": null,
      "right": null,
      "top": null,
      "visibility": null,
      "width": null
     }
    }
   }
  }
 },
 "cells": [
  {
   "cell_type": "markdown",
   "metadata": {
    "id": "S9l0lyqLvkW7"
   },
   "source": [
    "# Tutorial 1\n",
    "\n",
    "**Linear Algebra I, Vectors**\n",
    "\n",
    "**[insert your name]**\n",
    "\n",
    "**Important reminders**: Before starting, click \"File -> Save a copy in Drive\". Produce a pdf for submission by \"File -> Print\" and then choose \"Save to PDF\".\n",
    "\n",
    "To complete this tutorial, you should have watched Video 1.1: Vectors and Video 1.2: Vector operations, and Video 1.3: Linear combinations, span, and basis vectors\n",
    "\n",
    "**Learning objectives**\n",
    "* Review and use vector properties and operations such as vector length, scalar multiplication, and vector addition\n",
    "* Gain a better understanding of the dot product\n",
    "* Think about optimal stimuli in the context of linear algebra\n",
    "* Gain more intuition about correlation coefficients\n"
   ]
  },
  {
   "cell_type": "code",
   "metadata": {
    "id": "cv9HSBNPyLV9"
   },
   "source": [
    "# Imports\n",
    "import numpy as np\n",
    "import matplotlib.pyplot as plt\n",
    "import matplotlib\n",
    "import ipywidgets as widgets\n",
    "\n",
    "# Plotting parameters\n",
    "matplotlib.rcParams.update({'font.size': 22})"
   ],
   "execution_count": null,
   "outputs": []
  },
  {
   "cell_type": "markdown",
   "metadata": {},
   "source": [
    "##  Hidden functions\n"
   ]
  },
  {
   "cell_type": "code",
   "metadata": {
    "id": "ZIdPVYl9TzmK",
    "cellView": "form",
    "tags": [
     "hide-input"
    ]
   },
   "source": [
    "# @title Hidden functions\n",
    "\n",
    "def generate_unit_vec(dim=4):\n",
    "  \"\"\"Generate random unit vector with only positive values. Please note that this\n",
    "  is not at all a principled correct way of doing this (not truly random)\n",
    "\n",
    "  Args:\n",
    "    dim (scalar): dimension of the unit vector\n",
    "\n",
    "  \"\"\"\n",
    "  vec = -1* np.ones(dim,)\n",
    "  while np.any(vec<0):\n",
    "    vec = np.random.randn(4,)\n",
    "  unit_vec = vec/np.linalg.norm(vec)\n",
    "  return unit_vec\n",
    "\n",
    "def plot_responses_vs_angles(responses, angles):\n",
    "  \"\"\" Plot neural responses as a function of the angle between the pixel vector\n",
    "  and weight vector.\n",
    "\n",
    "  Args:\n",
    "    responses (ndarray): the responses of the neuron to each image (n_images x 1)\n",
    "    angles (ndarray): the corresponding angle of each image to the weight vector (n_images x 1)\n",
    "\n",
    "  \"\"\"\n",
    "\n",
    "  fig, ax = plt.subplots(1, 1, figsize=(10,10))\n",
    "  ax.plot(angles, responses, 'o', color = '#0DD3C4')\n",
    "  ax.set(xlabel='Angle (degrees)', ylabel='Neural response')"
   ],
   "execution_count": null,
   "outputs": []
  },
  {
   "cell_type": "markdown",
   "metadata": {
    "id": "_DjeN9TZyEZL"
   },
   "source": [
    "# Coding tips\n",
    "\n",
    "We will mostly use numpy in this course, especially for the linear algebra section. We can use 1D numpy arrays for vectors: for example we could write $\\bar{x}$ = [4, 5] as `x = np.array([4, 5])`.\n",
    "\n"
   ]
  },
  {
   "cell_type": "code",
   "metadata": {
    "id": "F5XKLvVcHrw6"
   },
   "source": [
    "# Defining vectors\n",
    "x = np.array([4, 5])\n",
    "y = np.array([1, 2])\n",
    "\n",
    "# Length of a vector\n",
    "length_of_x = np.linalg.norm(x)\n",
    "\n",
    "# Scalar multiplication\n",
    "scalar_multiplied_x = 5*x\n",
    "\n",
    "# Vector addition\n",
    "summed_vectors = x + y\n",
    "\n",
    "# Dot product\n",
    "dot_prod = np.dot(x, y)"
   ],
   "execution_count": null,
   "outputs": []
  },
  {
   "cell_type": "markdown",
   "metadata": {
    "id": "aR7BubpelgYq"
   },
   "source": [
    "# Exercise 1: Vector addition & scalar multiplication\n",
    "\n",
    "In the following demo, we will demonstrate a **linear combination** of two vectors, $\\mathbf{x}$ and $\\mathbf{y}$ (where we multiply each vector by a scalar value and multiply):\n",
    "\n",
    "$$\\mathbf{z} = a\\mathbf{x} + b\\mathbf{y}$$\n",
    "\n",
    "where $\\mathbf{x}$ and $\\mathbf{y}$ are vectors, while $a$ and $b$ are scalars. Specifically, $\\mathbf{x} = \\begin{bmatrix}3 \\\\ 1 \\\\\\end{bmatrix}$ and $\\mathbf{y} = \\begin{bmatrix}-1 \\\\ 2 \\\\\\end{bmatrix}$.\n",
    "\n",
    "\n",
    "You will play with the scalar multiples $a$ and $b$ to visualize both scalar multiplication and vector addition. Think and talk through the following questions:\n",
    "\n",
    "\n",
    "1.   How does $a\\mathbf{x}$ compare to $\\mathbf{x}$ when $a$ is negative?\n",
    "2.   How does $a\\mathbf{x}$ compare to $\\mathbf{x}$ when $a$ is a fraction?\n",
    "3.  Can you get $\\mathbf{z}$ to point to anywhere in the 2D space with combinations of $a$ and $b$?\n",
    "4.  Would this be the case no matter what $\\mathbf{x}$ and $\\mathbf{y}$ are, as long as they are both 2D vectors?"
   ]
  },
  {
   "cell_type": "markdown",
   "source": [
    "*YOUR ANSWERS HERE*"
   ],
   "metadata": {
    "id": "ZEqZpGQ9pHs_"
   }
  },
  {
   "cell_type": "markdown",
   "metadata": {},
   "source": [
    " Make sure you execute this cell to enable the widget! Move the sliders for “a” and “b”. After releasing the slider, be patient for a couple of seconds to see the desired change.\n"
   ]
  },
  {
   "cell_type": "code",
   "metadata": {
    "id": "Zl2JXCLImd7M",
    "colab": {
     "base_uri": "https://localhost:8080/",
     "height": 475,
     "referenced_widgets": [
      "5c4a1cc37eee4c6d9992be7c5598ef18",
      "a3d7e9ab9e614367b367a02e02fc1975",
      "47e6340d29a0435cb2bd1bbedf5825b2",
      "79385d04e0954a47a99f7dc846756687",
      "baf962f2892a41b78bad46d0713875f4",
      "29bd40a058774fb89026e5c00b5d833d",
      "4fc3d7f7f81344109e72cefcde860c80",
      "9fc02b4d074b43519b08ae2988a0c7ba",
      "8d7ac92f2dd84f3b90ce02fb47052761",
      "097fe34de9eb411b98d43f7d88105459"
     ]
    },
    "cellView": "form",
    "outputId": "615aa603-e94c-43e7-8c74-12ad9bbcc0ad",
    "tags": [
     "hide-input"
    ]
   },
   "source": [
    "#@markdown Make sure you execute this cell to enable the widget! Move the sliders for “a” and “b”. After releasing the slider, be patient for a couple of seconds to see the desired change.\n",
    "\n",
    "\n",
    "def plot_arrows(x, y, a_times_x, b_times_y):\n",
    "  fig, ax = plt.subplots(figsize=(10, 7))\n",
    "\n",
    "  ax.spines['top'].set_color('none')\n",
    "  ax.spines['bottom'].set_position('zero')\n",
    "  ax.spines['left'].set_position('zero')\n",
    "  ax.spines['right'].set_color('none')\n",
    "\n",
    "  ax.set_aspect('equal', adjustable='box')\n",
    "  ax.set(xlim = [-10, 10], ylim = [-10, 10], xticks = np.arange(-10, 10), yticks = np.arange(-10, 10), xticklabels = [], yticklabels = [])\n",
    "\n",
    "  ax.grid(alpha=.4)\n",
    "\n",
    "  z = a_times_x + b_times_y\n",
    "  z_arr = ax.arrow(0, 0, z[0], z[1], width=.08, color='k', length_includes_head = True);\n",
    "\n",
    "  x_orig, = ax.plot([0, x[0]], [0, x[1]], '--', color='#648FFF')\n",
    "  y_orig, = ax.plot([0, y[0]], [0, y[1]], '--',  color='#DC267F')\n",
    "\n",
    "  ax_arr = ax.arrow(0, 0, a_times_x[0], a_times_x[1], width=.08, color='#648FFF', length_includes_head = True);\n",
    "  by_arr = ax.arrow(0, 0, b_times_y[0], b_times_y[1], width=.08, color='#DC267F', length_includes_head = True);\n",
    "\n",
    "  ax.plot([a_times_x[0], z[0]], [a_times_x[1], z[1]], '--k')\n",
    "  ax.plot([b_times_y[0], z[0]], [b_times_y[1], z[1]], '--k')\n",
    "\n",
    "\n",
    "  leg = ax.legend([x_orig, y_orig, ax_arr, by_arr, z_arr], [r\"$\\mathbf{x}$\", r\"$\\mathbf{y}$\", r\"$a\\mathbf{x}$\", r\"$b\\mathbf{y}$\", r\"$\\mathbf{z} = a\\mathbf{x} + b\\mathbf{y}$\"], handlelength = 2, fontsize = 25, loc = 'center left', bbox_to_anchor=(1.05, .5))\n",
    "  for handle, label in zip(leg.legendHandles, leg.texts):\n",
    "      try:\n",
    "          label.set_color(handle.get_facecolor())\n",
    "      except:\n",
    "          label.set_color(handle.get_color())\n",
    "      #handle.set_visible(False)\n",
    "\n",
    "@widgets.interact(a = widgets.FloatSlider(value=1.0, min=-2, max=2, step=0.1), b = widgets.FloatSlider(value=1.0, min=-2, max=2, step=0.1))\n",
    "def plot_linear_combination(a, b):\n",
    "  x = np.array([3, 1])\n",
    "  y = np.array([-1, 2])\n",
    "\n",
    "  plot_arrows(x, y, a*x, b*y)"
   ],
   "execution_count": null,
   "outputs": [
    {
     "output_type": "display_data",
     "data": {
      "text/plain": [
       "interactive(children=(FloatSlider(value=1.0, description='a', max=2.0, min=-2.0), FloatSlider(value=1.0, descr…"
      ],
      "application/vnd.jupyter.widget-view+json": {
       "version_major": 2,
       "version_minor": 0,
       "model_id": "5c4a1cc37eee4c6d9992be7c5598ef18"
      }
     },
     "metadata": {}
    }
   ]
  },
  {
   "cell_type": "markdown",
   "metadata": {
    "id": "RHNIjkBjoBNG"
   },
   "source": [
    "# Exercise 2: Figuring out a basis\n",
    "\n",
    "Let's say we are looking at the firing rates of 3 neurons. We can represent their activity in a 3D plot, as below. It turns out that due to their tightly-linked interactions, they always fire in such a way that the point in 3D space falls along a 2D plane (that passes through the origin). Basically, every single data point we record of the firing rates of the 3 neurons falls on that plane. This is represented by the blue plane in the figure below. This 2D plane is a subspace of all of 3-D space (R3).\n",
    "\n",
    "A) How many basis vectors would you need for the 2D plane? How many components would each basic vector have?\n",
    "\n",
    "B) How many numbers would you need to be able to fully describe the state of the 3 neuron population at a given time?\n"
   ]
  },
  {
   "cell_type": "markdown",
   "source": [
    "*YOUR ANSWER HERE*"
   ],
   "metadata": {
    "id": "9t2Phmirz7za"
   }
  },
  {
   "cell_type": "markdown",
   "metadata": {},
   "source": [
    " Execute this cell to see figure\n"
   ]
  },
  {
   "cell_type": "code",
   "metadata": {
    "cellView": "form",
    "id": "GaJBBLd1oEwG",
    "outputId": "0daa241a-bc8c-44ff-c196-15b1c1aa6c8e",
    "colab": {
     "base_uri": "https://localhost:8080/",
     "height": 575
    },
    "tags": [
     "hide-input"
    ]
   },
   "source": [
    "# @markdown Execute this cell to see figure\n",
    "\n",
    "fig = plt.figure(figsize = (10, 10))\n",
    "\n",
    "# add axes\n",
    "ax = fig.add_subplot(111,projection='3d')\n",
    "\n",
    "xx, yy = np.meshgrid(range(-4, 4), range(-4, 4))\n",
    "z = .7*xx + -.2*yy\n",
    "\n",
    "# plot the plane\n",
    "ax.plot_surface(xx, yy, z, alpha=0.5)\n",
    "\n",
    "ax.set(xlim = [0, 5], ylim = [5, 0], zlim = [0, 5], xlabel = 'Neuron 1 Firing Rate',  ylabel = 'Neuron 2 Firing Rate', zlabel = 'Neuron 3 Firing Rate');\n",
    "#ax.invert_xaxis()\n"
   ],
   "execution_count": null,
   "outputs": [
    {
     "output_type": "display_data",
     "data": {
      "image/png": "[encoded data removed]",
      "text/plain": [
       "<Figure size 720x720 with 1 Axes>"
      ]
     },
     "metadata": {
      "needs_background": "light"
     }
    }
   ]
  },
  {
   "cell_type": "markdown",
   "metadata": {
    "id": "cK06c3q1Ecks"
   },
   "source": [
    "# Exercise 3: Determing dependence\n",
    "\n",
    "Let's say we have four vectors:\n",
    "\n",
    "$$ \\mathbf{a} = \\begin{bmatrix}\n",
    "    4 \\\\ 2 \\\\ 0\n",
    "\\end{bmatrix},  \\mathbf{b} = \\begin{bmatrix}\n",
    "    1 \\\\ 0 \\\\ 3,\n",
    "\\end{bmatrix}, \\mathbf{c} = \\begin{bmatrix}\n",
    "    5 \\\\ 2 \\\\ 3\n",
    "\\end{bmatrix}, \\mathbf{d} = \\begin{bmatrix}\n",
    "    3 \\\\ 3 \\\\ 2\n",
    "\\end{bmatrix}$$\n",
    "\n",
    "Check out this visualization prepared by Oğul Can Yurdakul to better see the vectors: https://www.geogebra.org/3d/hherq78z!\n",
    "\n"
   ]
  },
  {
   "cell_type": "markdown",
   "metadata": {
    "id": "FakYoWiBI3c3"
   },
   "source": [
    "## A) Linear independence vs dependence\n",
    "Are these vectors linearly independent or dependent? Why?\n"
   ]
  },
  {
   "cell_type": "markdown",
   "metadata": {
    "id": "GBd4H2J4HykI"
   },
   "source": [
    "**Your text answer here**"
   ]
  },
  {
   "cell_type": "markdown",
   "metadata": {
    "id": "YnxSY56IJrrD"
   },
   "source": [
    "## B) Span\n",
    "\n",
    "i) What is $Span\\{\\bar{a}, \\bar{b}, \\bar{c}, \\bar{d}\\}$?\n",
    "\n",
    "ii) What is $Span\\{\\bar{a}, \\bar{b}, \\bar{c}\\}$?\n",
    "\n",
    "iii) What is $Span\\{\\bar{a}\\}$?"
   ]
  },
  {
   "cell_type": "markdown",
   "metadata": {
    "id": "bZMN6uJ0Ji2r"
   },
   "source": [
    "**Your text/math answer here**"
   ]
  },
  {
   "cell_type": "markdown",
   "metadata": {
    "id": "Un1MFLx6JOTS"
   },
   "source": [
    "## C) Basis\n",
    "\n",
    "Can you make a basis for $R^3$ based on the above vectors? What is it?"
   ]
  },
  {
   "cell_type": "markdown",
   "metadata": {
    "id": "hcKb3fEKJ-Gj"
   },
   "source": [
    "**Your text answer here**"
   ]
  },
  {
   "cell_type": "markdown",
   "metadata": {
    "id": "NPASg1qGvxze"
   },
   "source": [
    "# Exercise 4: Dot product geometrical properties\n",
    "\n",
    "In this exercise, we will explore and prove the relationship between the dot product of two vectors and the angle between them.\n",
    "\n"
   ]
  },
  {
   "cell_type": "markdown",
   "metadata": {
    "id": "EZUpF-pyxafi"
   },
   "source": [
    "### A) Interactive demo\n",
    "\n",
    "First, use the following interactive demo to change the dot product of two vectors and see what happens to them (under the constraint that each vector stays the same length).\n"
   ]
  },
  {
   "cell_type": "markdown",
   "metadata": {},
   "source": [
    "#### \n"
   ]
  },
  {
   "cell_type": "markdown",
   "metadata": {},
   "source": [
    " Make sure you execute this cell to enable the widget!\n"
   ]
  },
  {
   "cell_type": "code",
   "metadata": {
    "id": "dvdHSl9IvqeT",
    "cellView": "form",
    "colab": {
     "base_uri": "https://localhost:8080/",
     "height": 443,
     "referenced_widgets": [
      "e2d01c1270cd46af85ebc5017f6b93e5",
      "de43e4063fb1445b9de52d6b6f057df6",
      "4871da59123744ccb2e013f119186381",
      "76dcbb479977467fb7b997cd0321d5a8",
      "58ea3b6f7c1e4b949d59fd466a3337f6",
      "e023422b47704e8eb3a2e32ca7a32829",
      "b0a0e32956424853b0d086a85ad5cdae"
     ]
    },
    "outputId": "bb9050c9-3cd1-415a-df35-725753efa99c",
    "tags": [
     "hide-input"
    ]
   },
   "source": [
    "#@title\n",
    "\n",
    "#@markdown Make sure you execute this cell to enable the widget!\n",
    "\n",
    "def solve_equations(dot_prod, x = [4, 1], norm_x = np.sqrt(17), norm_y = 3):\n",
    "  i = 0 if dot_prod < 0 else 1\n",
    "  y1 = np.roots([17, -8*dot_prod, dot_prod**2-9])[i]\n",
    "  y2 = dot_prod - 4*y1\n",
    "  y = [y1, y2]\n",
    "  return y\n",
    "\n",
    "def plot_arrows(x, y):\n",
    "  fig, ax = plt.subplots(figsize=(7, 7))\n",
    "\n",
    "  ax.axhline(linewidth=1, color='k') #adds thick red line @ y=0\n",
    "  ax.axvline(linewidth=1, color='k')\n",
    "  #ax.grid()\n",
    "  ax.set_xlim([-6, 6])\n",
    "  ax.set_ylim([-6, 6])\n",
    "  ax.axis('Off')\n",
    "\n",
    "\n",
    "  ax.arrow(0, 0, x[0], x[1], width=.08, color='#01DFD7');\n",
    "  ax.arrow(0, 0, y[0], y[1], width=.08, color='#0080FF');\n",
    "\n",
    "\n",
    "@widgets.interact(dot_prod=widgets.FloatSlider(value=1.0, min=-12.3, max=12.3, step=0.1))\n",
    "def plot_data_estimate(dot_prod):\n",
    "  y = solve_equations(dot_prod)\n",
    "  plot_arrows([4, 1], y)\n"
   ],
   "execution_count": null,
   "outputs": [
    {
     "output_type": "display_data",
     "data": {
      "text/plain": [
       "interactive(children=(FloatSlider(value=1.0, description='dot_prod', max=12.3, min=-12.3), Output()), _dom_cla…"
      ],
      "application/vnd.jupyter.widget-view+json": {
       "version_major": 2,
       "version_minor": 0,
       "model_id": "e2d01c1270cd46af85ebc5017f6b93e5"
      }
     },
     "metadata": {}
    }
   ]
  },
  {
   "cell_type": "markdown",
   "metadata": {
    "id": "GTTbfzJ4xgj9"
   },
   "source": [
    "i) Does the angle between vectors increase or decrease as the dot product increases?\n",
    "\n",
    "ii) Does it seem like anything is special about a dot product of 0?\n"
   ]
  },
  {
   "cell_type": "markdown",
   "source": [
    "*YOUR ANSWERS HERE*"
   ],
   "metadata": {
    "id": "Y6oIrJA4pcYk"
   }
  },
  {
   "cell_type": "markdown",
   "metadata": {
    "id": "EJDt8cxRpRuy"
   },
   "source": [
    "It turns out that there is a direct relationship between the dot product of two vecors and the angle between them. **The dot product is equal to the length of vector 1 multiplied by the length of vector 2 multiplied by the cosine of the angle**:\n",
    "\n",
    "$$ \\bar{x} \\cdot \\bar{y} =  ||\\bar{x}|| ||\\bar{y}|| cos(\\theta) $$\n"
   ]
  },
  {
   "cell_type": "markdown",
   "metadata": {
    "id": "yknFa-Emxcon"
   },
   "source": [
    "### B) (Optional) Proof of relationship\n",
    "\n",
    "We can work through a guided proof of this relationship - our first proof! Note that this is optional: move on and return to this if you have the time."
   ]
  },
  {
   "cell_type": "markdown",
   "metadata": {
    "id": "MnIPed7LMg_n"
   },
   "source": [
    "![picture](https://drive.google.com/uc?export=view&id=1Lxj0dY_8CpgMhR_SSeRuQdO6-AYpwgj6)\n"
   ]
  },
  {
   "cell_type": "markdown",
   "metadata": {
    "id": "raZcEnn3KBeB"
   },
   "source": [
    "i) Start by using the law of cosines to write out a formula for $||\\bar{a}||^2$\n",
    "\n",
    "ii) Next, figure out what $||\\bar{a}||$ equals in terms of $\\bar{x}$ and $\\bar{y}$ (hint: think about vector operations/stacking vectors)\n",
    "\n",
    "iii) Write $||\\bar{a}||^2$ in terms of a dot product. Substitute in the definition of $||\\bar{a}||$ from ii and expand.\n",
    "\n",
    "iv) Equate the formulas for $||\\bar{a}||^2$ from i and iii and rearrange to solve for the dot product of $\\bar{x}$ and $\\bar{y}$. You should get the equation above!\n"
   ]
  },
  {
   "cell_type": "markdown",
   "metadata": {
    "id": "hdv1stq_Nj-E"
   },
   "source": [
    "# Exercise 5: Neural stimuli\n",
    "\n",
    "Let's say that we are modeling the response of a retinal ganglion cell with a receptive field equal to 4 pixels. We are using a simple model in which the response of the neuron corresponds to the weighted sum of the pixel intensities of those 4 pixels. Specifically, the weight from pixel 1 is 2, the weight from pixel 2 is 4, the weight from pixel 3 is 1, and the weight from pixel 4 is 5."
   ]
  },
  {
   "cell_type": "markdown",
   "metadata": {
    "id": "AS3pb0SxaD-g"
   },
   "source": [
    "\n",
    "How could we compute the optimal stimulus for this neuron (i.e. the image that results in the largest neural response) given the constraint that it must be a unit vector?\n",
    "\n",
    "## A) Write out a formula for the optimal stimulus\n",
    "\n",
    "\n",
    "\n",
    "\n"
   ]
  },
  {
   "cell_type": "markdown",
   "source": [
    "Write your formula here"
   ],
   "metadata": {
    "id": "IxjybiJ8EGiN"
   }
  },
  {
   "cell_type": "markdown",
   "source": [
    "## B) Compute the optimal stimulus below"
   ],
   "metadata": {
    "id": "8Kz2ifJ4EFE5"
   }
  },
  {
   "cell_type": "code",
   "metadata": {
    "id": "0q4qJGJUaYTQ"
   },
   "source": [
    "weights = np.array([2, 4, 1, 5])\n",
    "\n",
    "optimal_stimulus = ..."
   ],
   "execution_count": null,
   "outputs": []
  },
  {
   "cell_type": "markdown",
   "source": [
    "## C) Get the response of the retinal ganglion cell to the optimal image using code"
   ],
   "metadata": {
    "id": "Q2Z7gzPjEAuT"
   }
  },
  {
   "cell_type": "code",
   "source": [],
   "metadata": {
    "id": "8NXKxhKZ64ei"
   },
   "execution_count": null,
   "outputs": []
  }
 ]
}