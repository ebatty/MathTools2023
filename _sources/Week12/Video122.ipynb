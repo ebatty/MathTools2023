{
 "cells": [
  {
   "cell_type": "markdown",
   "metadata": {
    "id": "view-in-github",
    "colab_type": "text"
   },
   "source": [
    "<a href=\"https://colab.research.google.com/github/ebatty/MathToolsforNeuroscience/blob/jupyterbook/Week12/Video122.ipynb\" target=\"_parent\"><img src=\"https://colab.research.google.com/assets/colab-badge.svg\" alt=\"Open In Colab\"/></a>"
   ]
  },
  {
   "cell_type": "markdown",
   "metadata": {
    "id": "r-xn3WLqP2wM"
   },
   "source": [
    "# Video 12.2: Training Neural Networks"
   ]
  },
  {
   "cell_type": "markdown",
   "metadata": {
    "id": "T9ckFFHNP2wQ"
   },
   "source": [
    "## Video"
   ]
  },
  {
   "cell_type": "markdown",
   "metadata": {},
   "source": [
    "\n"
   ]
  },
  {
   "cell_type": "code",
   "execution_count": 1,
   "metadata": {
    "id": "fTCqwicVP2wQ",
    "cellView": "form",
    "colab": {
     "base_uri": "https://localhost:8080/",
     "height": 449
    },
    "outputId": "2351c456-20fd-4195-c233-96445d0a12a0",
    "tags": [
     "remove-input"
    ]
   },
   "outputs": [
    {
     "output_type": "stream",
     "name": "stdout",
     "text": [
      "Video available at https://youtube.com/watch?v=DI3FrGDA27g\n"
     ]
    },
    {
     "output_type": "execute_result",
     "data": {
      "text/plain": [
       "<IPython.lib.display.YouTubeVideo at 0x7f5aa845e890>"
      ],
      "text/html": [
       "\n",
       "        <iframe\n",
       "            width=\"730\"\n",
       "            height=\"410\"\n",
       "            src=\"https://www.youtube.com/embed/DI3FrGDA27g?fs=1\"\n",
       "            frameborder=\"0\"\n",
       "            allowfullscreen\n",
       "        ></iframe>\n",
       "        "
      ],
      "image/jpeg": "[encoded data removed]"
     },
     "metadata": {},
     "execution_count": 1
    }
   ],
   "source": [
    "# @markdown\n",
    "from IPython.display import YouTubeVideo\n",
    "from ipywidgets import widgets\n",
    "out = widgets.Output()\n",
    "with out:\n",
    "    display(YouTubeVideo(id=f\"DI3FrGDA27g\", width=730, height=410, fs=1))\n",
    "display(out)"
   ]
  },
  {
   "cell_type": "markdown",
   "metadata": {
    "id": "XMhhhdFCP2wS"
   },
   "source": [
    "## Notes\n",
    "\n",
    "<a href=\"https://osf.io/5a6kz/download\">\n",
    "    Click here to download notes\n",
    "</a>\n",
    "\n"
   ]
  },
  {
   "cell_type": "markdown",
   "source": [
    "<img src=\"https://github.com/ebatty/MathToolsforNeuroscience/blob/jupyterbook/Week12/video12_2_notes.png?raw=True\" alt=\"notes for the video\" class=\"bg-primary\" width=\"100%\">"
   ],
   "metadata": {
    "id": "ZLDbFTdEcINM"
   }
  }
 ],
 "metadata": {
  "kernelspec": {
   "display_name": "Python 3.8.13 ('mathtools')",
   "language": "python",
   "name": "python3"
  },
  "language_info": {
   "codemirror_mode": {
    "name": "ipython",
    "version": 3
   },
   "file_extension": ".py",
   "mimetype": "text/x-python",
   "name": "python",
   "nbconvert_exporter": "python",
   "pygments_lexer": "ipython3",
   "version": "3.8.13"
  },
  "orig_nbformat": 4,
  "vscode": {
   "interpreter": {
    "hash": "2f26a17d6a9624f855b5f9e02ffdc0ae71c8577a2562f495dada4b6f29d8bdd3"
   }
  },
  "colab": {
   "provenance": [],
   "include_colab_link": true
  }
 },
 "nbformat": 4,
 "nbformat_minor": 0
}