{
  "nbformat": 4,
  "nbformat_minor": 0,
  "metadata": {
    "colab": {
      "provenance": [],
      "collapsed_sections": [],
      "toc_visible": true,
      "authorship_tag": "ABX9TyMkTvXqmrttVLaa8Oq/TXFD",
      "include_colab_link": true
    },
    "kernelspec": {
      "name": "python3",
      "display_name": "Python 3"
    }
  },
  "cells": [
    {
      "cell_type": "markdown",
      "metadata": {
        "id": "view-in-github",
        "colab_type": "text"
      },
      "source": [
        "<a href=\"https://colab.research.google.com/github/ebatty/MathToolsforNeuroscience/blob/jupyterbook/Week4/Week4Tutorial2.ipynb\" target=\"_parent\"><img src=\"https://colab.research.google.com/assets/colab-badge.svg\" alt=\"Open In Colab\"/></a>"
      ]
    },
    {
      "cell_type": "markdown",
      "metadata": {
        "id": "S9l0lyqLvkW7"
      },
      "source": [
        "# Tutorial 2\n",
        "\n",
        "**Dynamical Systems II: Continuous Dynamical Systems and Differential Equations**\n",
        "\n",
        "**[insert your name]**\n",
        "\n",
        "**Important reminders**: Before starting, click \"File -> Save a copy in Drive\". Produce a pdf for submission by \"File -> Print\" and then choose \"Save to PDF\".\n",
        "\n",
        "\n"
      ]
    },
    {
      "cell_type": "code",
      "metadata": {
        "id": "cv9HSBNPyLV9",
        "cellView": "form"
      },
      "source": [
        "# @markdown Imports\n",
        "\n",
        "# Imports\n",
        "import numpy as np\n",
        "import matplotlib.pyplot as plt\n",
        "import ipywidgets as widgets  # interactive display\n",
        "from scipy import optimize as opt"
      ],
      "execution_count": null,
      "outputs": []
    },
    {
      "cell_type": "code",
      "metadata": {
        "id": "ZIdPVYl9TzmK",
        "cellView": "form"
      },
      "source": [
        "# @markdown Helper functions\n",
        "import numpy\n",
        "from numpy.linalg import inv, eig\n",
        "from math import ceil\n",
        "from matplotlib import pyplot, ticker, get_backend, rc\n",
        "from mpl_toolkits.mplot3d import Axes3D\n",
        "from itertools import cycle\n",
        "\n",
        "\n",
        "%config InlineBackend.figure_format = 'retina'\n",
        "plt.style.use(\"https://raw.githubusercontent.com/NeuromatchAcademy/course-content/master/nma.mplstyle\")\n",
        "\n",
        "classic = 'k'\n",
        "\n",
        "def fitzhugh_nagumo_euler(init_V, init_w, I, dt=0.01, T=100):\n",
        "\n",
        "    # Initialize variables\n",
        "    t = np.arange(0, T, dt)\n",
        "    V = np.zeros_like(t)\n",
        "    V[0] = init_V \n",
        "\n",
        "    w = np.zeros_like(t)\n",
        "    w[0] = init_w\n",
        "\n",
        "    # Step through time\n",
        "    for n in range(0, len(t)-1):\n",
        "\n",
        "      dV_dt = V[n] - V[n]**3 - w[n] + I\n",
        "      dw_dt = 0.1*(V[n] -0.5*w[n]+1)\n",
        "\n",
        "      V[n+1] = V[n] + dV_dt *dt\n",
        "      w[n+1] = w[n] + dw_dt *dt\n",
        "\n",
        "    return V, w, t\n",
        "\n"
      ],
      "execution_count": null,
      "outputs": []
    },
    {
      "cell_type": "markdown",
      "metadata": {
        "id": "OeoGjsSUSgXm"
      },
      "source": [
        "# Introducing the FitzHugh-Nagumo Model\n",
        "\n",
        "We will be working with a neuron model today which is defined by a system of nonlinear differential equations. This model, the FitzHugh-Nagumo model, is similar in flavor to the better known Hodgkin-Huxley model, but is easier to analyze because it consists of two differential equations while the Hodgkin-Huxley model consists of four.  We will define the model as:\n",
        "\n",
        "$$\\begin{align}\n",
        "\\frac{dV}{dt} &= V - V^3 - w + I \\\\\n",
        "\\frac{dw}{dt} &= 0.1(V - 0.5w + 1)\\\\\n",
        "\\end{align}\n",
        "$$\n",
        "\n",
        "I saw that we will define it this way as this is slightly different (less constants) than other implementations you will see. $V$ here is the voltage of the neuron (without units, don't expect to equate to reality in mV) and $I$ is the input current. $w$ doesn't have a strict biological equivalent but it represents a recovery variable (as in, it helps the voltage recover after an action potential)."
      ]
    },
    {
      "cell_type": "markdown",
      "metadata": {
        "id": "DJy0fg8SSeAP"
      },
      "source": [
        "# Exercise 1: Finding nullclines & equilibrium points\n",
        "\n",
        "Nullclines are curves in the phase plane space (w vs V) where one of the derivatives equals 0. The equilibrium points will occur at the intersections of the nullclines.\n",
        "\n"
      ]
    },
    {
      "cell_type": "markdown",
      "metadata": {
        "id": "UJuWnhAwU8Fg"
      },
      "source": [
        "## A) Plotting the nullclines\n",
        "\n",
        "Complete the function below to plot the nullclines on w vs V space (so we'll plot them as a function of V). We will want to vary I later so keep it general.\n",
        "\n",
        "Hint: define both nullclines as w = ... since we're plotting as a function of V"
      ]
    },
    {
      "cell_type": "code",
      "metadata": {
        "id": "FjDFqF4kVYGi"
      },
      "source": [
        "def plot_nullclines(I, ax):\n",
        "\n",
        "    # Range of V we want to look at\n",
        "    V = np.arange(-2, 2, .01)\n",
        "\n",
        "    # Plot a nullcline for dV/dt = 0\n",
        "    ax.plot(V, ..., 'b', label='dV/dt=0')\n",
        "\n",
        "    # Plot a nullcline for dw/dt = 0\n",
        "    ax.plot(V, ..., 'g', label='dw/dt=0')\n",
        "\n",
        "    ax.legend()\n",
        "\n",
        "fig, ax = plt.subplots()\n",
        "plot_nullclines(I=1, ax=ax)\n",
        "ax.set(xlabel='V', ylabel='w');"
      ],
      "execution_count": null,
      "outputs": []
    },
    {
      "cell_type": "markdown",
      "metadata": {
        "id": "MJs563v5X3oA"
      },
      "source": [
        "Try different values of I to make the nullcline plot. What do you notice about the intersection of the nullclines with larger I?"
      ]
    },
    {
      "cell_type": "markdown",
      "metadata": {
        "id": "fFTDhfMJX87N"
      },
      "source": [
        "### Answer\n",
        "\n",
        "<font color='green'><span style=\"font-size:larger;\">\n",
        "Fill in your text answer here so it is green. Use <br> <br>  for line breaks\n",
        "</font> </span>"
      ]
    },
    {
      "cell_type": "markdown",
      "metadata": {
        "id": "V1G2KVuEVPKs"
      },
      "source": [
        "## Finding the equilibrium points\n",
        "\n",
        "We can see from the plot above that there is one fixed point. Instead of finding this analytically, which is a bit annoying, we'll use the magic of computers. Specifically, we'll use `scipy.optimize.fsolve`. This function finds the roots (where an equation or set of equations equals 0) by numerical methods. It needs an initial guess, or starting estimate, in the neighborhood of the fixed point to work well. The initial guess doesn't have to be very exact though - in fact we'll use the same initial guess for every I.\n",
        "\n",
        "\n",
        "I give you the code to compute the fixed point below. "
      ]
    },
    {
      "cell_type": "code",
      "metadata": {
        "id": "HX2IjcAYYGwA"
      },
      "source": [
        "def diff_eqs(x, I):\n",
        "    V, w = x\n",
        "    return [V - V**3 - w + I, .1*(V - 0.5*w+1)]\n",
        "\n",
        "def get_fixed_point(I): \n",
        "  initial_guess = [-1, -1]\n",
        "  fixed_point = opt.fsolve(diff_eqs, initial_guess, I)\n",
        "  return fixed_point\n",
        "\n",
        "V_fp, w_fp = get_fixed_point(I=0)\n",
        "print(V_fp)\n",
        "print(w_fp)"
      ],
      "execution_count": null,
      "outputs": []
    },
    {
      "cell_type": "markdown",
      "metadata": {
        "id": "znuCCxnlZY-h"
      },
      "source": [
        "# Exercise 2: Analyzing dynamics with zero current\n",
        "\n",
        "We want to look at what happens in our system when I=0 (zero external current). Take a second and think - from a neuroscience perspective, what would you predict would happen? How would V evolve from some initial condition?"
      ]
    },
    {
      "cell_type": "markdown",
      "metadata": {
        "id": "QWV8FAZ_Zn2m"
      },
      "source": [
        "## A) Linearization of the fixed point\n",
        "\n",
        "We are going to look at a linearization around the fixed point, or the dynamics of an associated homogeneous system at that point. To do this, we compute the Jacobian (the matrix of partial derivatives) and analyze the eigenvalues of the Jacobian at that fixed point. We can classify the fixed point based on those eigenvalues according to how they govern the dynamics of a homogenous system $ \\frac{dX}{dt} = Jx$.\n"
      ]
    },
    {
      "cell_type": "markdown",
      "metadata": {
        "id": "T3b1JVZHaEg-"
      },
      "source": [
        "We first need to compute the Jacobian for the system as a whole. We will then plug in the fixed point at I=0 to get the Jacobian at that fixed point. I tell you what the Jacobian is in the hidden cell below but you are welcome to not look and derive it yourself if you have the time!"
      ]
    },
    {
      "cell_type": "code",
      "metadata": {
        "id": "-5R8Ag-haaM_",
        "cellView": "form"
      },
      "source": [
        "# @markdown Look at this cell for the Jacobian\n",
        "\n",
        "# V_fp is the voltage at the fixed point\n",
        "# J = np.array([[1-3*V_fp**2, -1], [0.1, -0.05]])"
      ],
      "execution_count": null,
      "outputs": []
    },
    {
      "cell_type": "markdown",
      "metadata": {
        "id": "n_FQZyWzat2Y"
      },
      "source": [
        "Plug in the voltage at the fixed point into the Jacobian when I=0 (find with `get_fixed_point`) and get the eigenvalues of the resulting matrix."
      ]
    },
    {
      "cell_type": "code",
      "metadata": {
        "id": "LADY-W__asod"
      },
      "source": [
        "V_fp = ...\n",
        "J = ...\n",
        "# Get eigvals\n",
        "..."
      ],
      "execution_count": null,
      "outputs": []
    },
    {
      "cell_type": "markdown",
      "metadata": {
        "id": "P2-UaNfVa7tz"
      },
      "source": [
        "## B) Classifying the fixed point\n",
        "\n",
        "Based on the eigenvalues of the Jacobian when I=0, how would you classify the fixed point? What do you expect the trajectory from any initial point to look like?\n",
        "\n",
        "\n",
        "Look at Video 5.3 at 24:05 for classifications with real, distinct eigenvalues, 27:03 for complex eigenvalues, and 28:29 for repeated eigenvalues."
      ]
    },
    {
      "cell_type": "markdown",
      "metadata": {
        "id": "NpNVzrB0bvAZ"
      },
      "source": [
        "<font color='green'><span style=\"font-size:larger;\">\n",
        "Fill in your text answer here so it is green. Use <br> <br>  for line breaks\n",
        "</font> </span>"
      ]
    },
    {
      "cell_type": "markdown",
      "metadata": {
        "id": "g5hFLgPMb1pe"
      },
      "source": [
        "## C) Plotting trajectories\n",
        "\n",
        "I have implemented a Euler integration method for this model, `fitzhugh_nagumo_euler` in the Helper Functions. It takes inputs init_V, init_w, and I. We will plot a couple trajectories in phase plane space for I=0. The initial point is indicated by the red circle."
      ]
    },
    {
      "cell_type": "code",
      "metadata": {
        "id": "xhfB8N0McRUV"
      },
      "source": [
        "fig, ax = plt.subplots()\n",
        "ax.set_ylim([-2, 2])\n",
        "plot_nullclines(I, ax=ax)\n",
        "\n",
        "# Plot trajectories here\n",
        "I=0\n",
        "init_cond_vec = [[-2, -.5], [0, 0], [1, -.8]]\n",
        "for init_cond in init_cond_vec:\n",
        "  V, w, t = fitzhugh_nagumo_euler(init_cond[0], init_cond[1], I)\n",
        "\n",
        "  plt.plot(V, w, 'r')\n",
        "  plt.plot(V[0], w[0], 'or')"
      ],
      "execution_count": null,
      "outputs": []
    },
    {
      "cell_type": "markdown",
      "metadata": {
        "id": "hAN00aT8cTMH"
      },
      "source": [
        "Plot V over time for one of the initial conditions."
      ]
    },
    {
      "cell_type": "code",
      "metadata": {
        "id": "lQP08kAPcYh6"
      },
      "source": [
        "# your code here"
      ],
      "execution_count": null,
      "outputs": []
    },
    {
      "cell_type": "markdown",
      "metadata": {
        "id": "SSuIGvZZ-X1g"
      },
      "source": [
        "How is what you're seeing consistant with your analysis of the fixed point?\n"
      ]
    },
    {
      "cell_type": "markdown",
      "metadata": {
        "id": "aAcIJY65-a1n"
      },
      "source": [
        "**Your answer here**"
      ]
    },
    {
      "cell_type": "markdown",
      "metadata": {
        "id": "rprgpI1Qd1zo"
      },
      "source": [
        "# Exercise 3: Analyzing dynamics with some current\n",
        "\n",
        "We will repeat the steps of Exercise 2 but now we will look at different I."
      ]
    },
    {
      "cell_type": "markdown",
      "metadata": {
        "id": "GTQaMz7GeDQy"
      },
      "source": [
        "## A) I = 1\n",
        "\n",
        "We compute the eigenvalues of the Jacobian for the fixed point when I = 1. What dynamic around the fixed point would you expect? \n",
        "\n"
      ]
    },
    {
      "cell_type": "code",
      "metadata": {
        "id": "IaSL9D_heVI2"
      },
      "source": [
        "V_fp, w_fp = get_fixed_point(I=1)\n",
        "J = np.array([[1-3*V_fp**2, -1], [0.1, -0.05]])\n",
        "\n",
        "# Get eigvals\n",
        "np.linalg.eig(J)"
      ],
      "execution_count": null,
      "outputs": []
    },
    {
      "cell_type": "markdown",
      "metadata": {
        "id": "NbVvd-W6eaX8"
      },
      "source": [
        "<font color='green'><span style=\"font-size:larger;\">\n",
        "Fill in your text answer here so it is green. Use <br> <br>  for line breaks\n",
        "</font> </span>"
      ]
    },
    {
      "cell_type": "markdown",
      "metadata": {
        "id": "XtzumMnCebqg"
      },
      "source": [
        "## B) I = 1.5\n",
        "\n",
        "We compute the eigenvalues of the Jacobian for the fixed point when I = 1.5. What dynamic around the fixed point would you expect? \n"
      ]
    },
    {
      "cell_type": "code",
      "metadata": {
        "id": "oYtZ5JCrehVw"
      },
      "source": [
        "V_fp, w_fp = get_fixed_point(I=1)\n",
        "J = np.array([[1-3*V_fp**2, -1], [0.1, -0.05]])\n",
        "\n",
        "# Get eigvals\n",
        "np.linalg.eig(J)"
      ],
      "execution_count": null,
      "outputs": []
    },
    {
      "cell_type": "markdown",
      "metadata": {
        "id": "09n06wJcehv1"
      },
      "source": [
        "<font color='green'><span style=\"font-size:larger;\">\n",
        "Fill in your text answer here so it is green. Use <br> <br>  for line breaks\n",
        "</font> </span>"
      ]
    },
    {
      "cell_type": "markdown",
      "metadata": {
        "id": "e3vTFWSjeuMA"
      },
      "source": [
        "## C) Interactive Demo\n",
        "\n",
        "You can change I below to see the nullclines with the trajectory through phase plane space, and a plot of t vs V for the initial condition V = -2, w = -0.5."
      ]
    },
    {
      "cell_type": "markdown",
      "metadata": {
        "id": "hsANGu69e016"
      },
      "source": [
        "i) What is happening (neuron-wise) when I=1?\n",
        "\n",
        "ii) What is happening (neuron-wise) when I=1.5?\n"
      ]
    },
    {
      "cell_type": "markdown",
      "metadata": {
        "id": "F-6OIUZBj29Q"
      },
      "source": [
        "<font color='green'><span style=\"font-size:larger;\">\n",
        "Fill in your text answer here so it is green. Use <br> <br>  for line breaks\n",
        "</font> </span>"
      ]
    },
    {
      "cell_type": "code",
      "metadata": {
        "id": "wWExQ1DFe_4L",
        "cellView": "form"
      },
      "source": [
        "# @markdown Execute this cell to enable widget\n",
        "\n",
        "def plot_fitzhugh_nagumo(I):\n",
        "\n",
        "  fig, axes = plt.subplots(1, 2)\n",
        "\n",
        "  # Plot nullclines\n",
        "  plot_nullclines(I, axes[0])\n",
        "\n",
        "  # Plot a few trajectories\n",
        "  init_conds = [[-2, -.5]]\n",
        "  for init_cond in init_conds:\n",
        "    V, w, t = fitzhugh_nagumo_euler(init_cond[0], init_cond[1], I)\n",
        "\n",
        "    axes[0].plot(V[0], w[0], 'or')\n",
        "    axes[0].plot(V, w, 'r')\n",
        "  axes[0].set(xlabel='V', ylabel='w')\n",
        "\n",
        "  axes[1].plot(t, V)\n",
        "  axes[1].set(xlabel='Time', ylabel='Voltage')\n",
        "\n",
        "_ = widgets.interact(plot_fitzhugh_nagumo, I=(-1, 4, .01))"
      ],
      "execution_count": null,
      "outputs": []
    },
    {
      "cell_type": "markdown",
      "metadata": {
        "id": "gSlYqYMOhndn"
      },
      "source": [
        "# Extra info\n",
        "\n",
        "We've barely scratched the surface of examining this model. It can replicate lots of interesting phenomenon: http://www.scholarpedia.org/article/FitzHugh-Nagumo_model Explained phenomena section. Can you replicate some of those?\n"
      ]
    }
  ]
}