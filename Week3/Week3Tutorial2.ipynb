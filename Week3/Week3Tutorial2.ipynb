{
  "nbformat": 4,
  "nbformat_minor": 0,
  "metadata": {
    "colab": {
      "provenance": [],
      "collapsed_sections": [],
      "authorship_tag": "ABX9TyMAEk8ET3QJ6/6nk7jQjO0Z",
      "include_colab_link": true
    },
    "kernelspec": {
      "name": "python3",
      "display_name": "Python 3"
    },
    "widgets": {
      "application/vnd.jupyter.widget-state+json": {
        "76bc2f291b7449c4befdea1a226efc3a": {
          "model_module": "@jupyter-widgets/controls",
          "model_name": "VBoxModel",
          "model_module_version": "1.5.0",
          "state": {
            "_dom_classes": [
              "widget-interact"
            ],
            "_model_module": "@jupyter-widgets/controls",
            "_model_module_version": "1.5.0",
            "_model_name": "VBoxModel",
            "_view_count": null,
            "_view_module": "@jupyter-widgets/controls",
            "_view_module_version": "1.5.0",
            "_view_name": "VBoxView",
            "box_style": "",
            "children": [
              "IPY_MODEL_ff9fc25f94134698ae109baa6740e5f3",
              "IPY_MODEL_6364bc6618d64d3ba0cc518df39fa3ff",
              "IPY_MODEL_7680a57c615f442f82c959d2527c3a39",
              "IPY_MODEL_b10ea5958b934e179581428020ddcacf",
              "IPY_MODEL_c20f750b48344bada2ba143e48f34d8e"
            ],
            "layout": "IPY_MODEL_dc405f407ac742bebf01202d6eca3991"
          }
        },
        "ff9fc25f94134698ae109baa6740e5f3": {
          "model_module": "@jupyter-widgets/controls",
          "model_name": "FloatSliderModel",
          "model_module_version": "1.5.0",
          "state": {
            "_dom_classes": [],
            "_model_module": "@jupyter-widgets/controls",
            "_model_module_version": "1.5.0",
            "_model_name": "FloatSliderModel",
            "_view_count": null,
            "_view_module": "@jupyter-widgets/controls",
            "_view_module_version": "1.5.0",
            "_view_name": "FloatSliderView",
            "continuous_update": true,
            "description": "real_part",
            "description_tooltip": null,
            "disabled": false,
            "layout": "IPY_MODEL_22520824f34f4e82a081445207d816fe",
            "max": 2,
            "min": 0.2,
            "orientation": "horizontal",
            "readout": true,
            "readout_format": ".2f",
            "step": 0.2,
            "style": "IPY_MODEL_2a90d96194fd4d28bf1a531c55435f17",
            "value": 1.2
          }
        },
        "6364bc6618d64d3ba0cc518df39fa3ff": {
          "model_module": "@jupyter-widgets/controls",
          "model_name": "FloatSliderModel",
          "model_module_version": "1.5.0",
          "state": {
            "_dom_classes": [],
            "_model_module": "@jupyter-widgets/controls",
            "_model_module_version": "1.5.0",
            "_model_name": "FloatSliderModel",
            "_view_count": null,
            "_view_module": "@jupyter-widgets/controls",
            "_view_module_version": "1.5.0",
            "_view_name": "FloatSliderView",
            "continuous_update": true,
            "description": "complex_part",
            "description_tooltip": null,
            "disabled": false,
            "layout": "IPY_MODEL_5ba9b80ab298449480f4cc00cc7be83d",
            "max": 2,
            "min": 0.2,
            "orientation": "horizontal",
            "readout": true,
            "readout_format": ".2f",
            "step": 0.2,
            "style": "IPY_MODEL_45b940d0b61c408a988cb1ea06a71e3d",
            "value": 1.4
          }
        },
        "7680a57c615f442f82c959d2527c3a39": {
          "model_module": "@jupyter-widgets/controls",
          "model_name": "FloatSliderModel",
          "model_module_version": "1.5.0",
          "state": {
            "_dom_classes": [],
            "_model_module": "@jupyter-widgets/controls",
            "_model_module_version": "1.5.0",
            "_model_name": "FloatSliderModel",
            "_view_count": null,
            "_view_module": "@jupyter-widgets/controls",
            "_view_module_version": "1.5.0",
            "_view_name": "FloatSliderView",
            "continuous_update": true,
            "description": "u0_1",
            "description_tooltip": null,
            "disabled": false,
            "layout": "IPY_MODEL_f82649df60604d01bd7aeed6bc37e3ba",
            "max": 5,
            "min": -5,
            "orientation": "horizontal",
            "readout": true,
            "readout_format": ".2f",
            "step": 0.2,
            "style": "IPY_MODEL_4031f96e70af49e0b56dacb611c6a8f2",
            "value": 1
          }
        },
        "b10ea5958b934e179581428020ddcacf": {
          "model_module": "@jupyter-widgets/controls",
          "model_name": "FloatSliderModel",
          "model_module_version": "1.5.0",
          "state": {
            "_dom_classes": [],
            "_model_module": "@jupyter-widgets/controls",
            "_model_module_version": "1.5.0",
            "_model_name": "FloatSliderModel",
            "_view_count": null,
            "_view_module": "@jupyter-widgets/controls",
            "_view_module_version": "1.5.0",
            "_view_name": "FloatSliderView",
            "continuous_update": true,
            "description": "u0_2",
            "description_tooltip": null,
            "disabled": false,
            "layout": "IPY_MODEL_f15fdb240302429e9ff04b13b86caf88",
            "max": 5,
            "min": -5,
            "orientation": "horizontal",
            "readout": true,
            "readout_format": ".2f",
            "step": 0.2,
            "style": "IPY_MODEL_535fe605c7f44ae9adbe377cc2a4ba1b",
            "value": 2
          }
        },
        "c20f750b48344bada2ba143e48f34d8e": {
          "model_module": "@jupyter-widgets/output",
          "model_name": "OutputModel",
          "model_module_version": "1.0.0",
          "state": {
            "_dom_classes": [],
            "_model_module": "@jupyter-widgets/output",
            "_model_module_version": "1.0.0",
            "_model_name": "OutputModel",
            "_view_count": null,
            "_view_module": "@jupyter-widgets/output",
            "_view_module_version": "1.0.0",
            "_view_name": "OutputView",
            "layout": "IPY_MODEL_f9f46f0b028e41829e24f589e77a1749",
            "msg_id": "",
            "outputs": [
              {
                "output_type": "display_data",
                "data": {
                  "text/plain": "<Figure size 720x720 with 2 Axes>",
                  "image/png": "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\n"
                },
                "metadata": {
                  "needs_background": "light"
                }
              }
            ]
          }
        },
        "dc405f407ac742bebf01202d6eca3991": {
          "model_module": "@jupyter-widgets/base",
          "model_name": "LayoutModel",
          "model_module_version": "1.2.0",
          "state": {
            "_model_module": "@jupyter-widgets/base",
            "_model_module_version": "1.2.0",
            "_model_name": "LayoutModel",
            "_view_count": null,
            "_view_module": "@jupyter-widgets/base",
            "_view_module_version": "1.2.0",
            "_view_name": "LayoutView",
            "align_content": null,
            "align_items": null,
            "align_self": null,
            "border": null,
            "bottom": null,
            "display": null,
            "flex": null,
            "flex_flow": null,
            "grid_area": null,
            "grid_auto_columns": null,
            "grid_auto_flow": null,
            "grid_auto_rows": null,
            "grid_column": null,
            "grid_gap": null,
            "grid_row": null,
            "grid_template_areas": null,
            "grid_template_columns": null,
            "grid_template_rows": null,
            "height": null,
            "justify_content": null,
            "justify_items": null,
            "left": null,
            "margin": null,
            "max_height": null,
            "max_width": null,
            "min_height": null,
            "min_width": null,
            "object_fit": null,
            "object_position": null,
            "order": null,
            "overflow": null,
            "overflow_x": null,
            "overflow_y": null,
            "padding": null,
            "right": null,
            "top": null,
            "visibility": null,
            "width": null
          }
        },
        "22520824f34f4e82a081445207d816fe": {
          "model_module": "@jupyter-widgets/base",
          "model_name": "LayoutModel",
          "model_module_version": "1.2.0",
          "state": {
            "_model_module": "@jupyter-widgets/base",
            "_model_module_version": "1.2.0",
            "_model_name": "LayoutModel",
            "_view_count": null,
            "_view_module": "@jupyter-widgets/base",
            "_view_module_version": "1.2.0",
            "_view_name": "LayoutView",
            "align_content": null,
            "align_items": null,
            "align_self": null,
            "border": null,
            "bottom": null,
            "display": null,
            "flex": null,
            "flex_flow": null,
            "grid_area": null,
            "grid_auto_columns": null,
            "grid_auto_flow": null,
            "grid_auto_rows": null,
            "grid_column": null,
            "grid_gap": null,
            "grid_row": null,
            "grid_template_areas": null,
            "grid_template_columns": null,
            "grid_template_rows": null,
            "height": null,
            "justify_content": null,
            "justify_items": null,
            "left": null,
            "margin": null,
            "max_height": null,
            "max_width": null,
            "min_height": null,
            "min_width": null,
            "object_fit": null,
            "object_position": null,
            "order": null,
            "overflow": null,
            "overflow_x": null,
            "overflow_y": null,
            "padding": null,
            "right": null,
            "top": null,
            "visibility": null,
            "width": null
          }
        },
        "2a90d96194fd4d28bf1a531c55435f17": {
          "model_module": "@jupyter-widgets/controls",
          "model_name": "SliderStyleModel",
          "model_module_version": "1.5.0",
          "state": {
            "_model_module": "@jupyter-widgets/controls",
            "_model_module_version": "1.5.0",
            "_model_name": "SliderStyleModel",
            "_view_count": null,
            "_view_module": "@jupyter-widgets/base",
            "_view_module_version": "1.2.0",
            "_view_name": "StyleView",
            "description_width": "",
            "handle_color": null
          }
        },
        "5ba9b80ab298449480f4cc00cc7be83d": {
          "model_module": "@jupyter-widgets/base",
          "model_name": "LayoutModel",
          "model_module_version": "1.2.0",
          "state": {
            "_model_module": "@jupyter-widgets/base",
            "_model_module_version": "1.2.0",
            "_model_name": "LayoutModel",
            "_view_count": null,
            "_view_module": "@jupyter-widgets/base",
            "_view_module_version": "1.2.0",
            "_view_name": "LayoutView",
            "align_content": null,
            "align_items": null,
            "align_self": null,
            "border": null,
            "bottom": null,
            "display": null,
            "flex": null,
            "flex_flow": null,
            "grid_area": null,
            "grid_auto_columns": null,
            "grid_auto_flow": null,
            "grid_auto_rows": null,
            "grid_column": null,
            "grid_gap": null,
            "grid_row": null,
            "grid_template_areas": null,
            "grid_template_columns": null,
            "grid_template_rows": null,
            "height": null,
            "justify_content": null,
            "justify_items": null,
            "left": null,
            "margin": null,
            "max_height": null,
            "max_width": null,
            "min_height": null,
            "min_width": null,
            "object_fit": null,
            "object_position": null,
            "order": null,
            "overflow": null,
            "overflow_x": null,
            "overflow_y": null,
            "padding": null,
            "right": null,
            "top": null,
            "visibility": null,
            "width": null
          }
        },
        "45b940d0b61c408a988cb1ea06a71e3d": {
          "model_module": "@jupyter-widgets/controls",
          "model_name": "SliderStyleModel",
          "model_module_version": "1.5.0",
          "state": {
            "_model_module": "@jupyter-widgets/controls",
            "_model_module_version": "1.5.0",
            "_model_name": "SliderStyleModel",
            "_view_count": null,
            "_view_module": "@jupyter-widgets/base",
            "_view_module_version": "1.2.0",
            "_view_name": "StyleView",
            "description_width": "",
            "handle_color": null
          }
        },
        "f82649df60604d01bd7aeed6bc37e3ba": {
          "model_module": "@jupyter-widgets/base",
          "model_name": "LayoutModel",
          "model_module_version": "1.2.0",
          "state": {
            "_model_module": "@jupyter-widgets/base",
            "_model_module_version": "1.2.0",
            "_model_name": "LayoutModel",
            "_view_count": null,
            "_view_module": "@jupyter-widgets/base",
            "_view_module_version": "1.2.0",
            "_view_name": "LayoutView",
            "align_content": null,
            "align_items": null,
            "align_self": null,
            "border": null,
            "bottom": null,
            "display": null,
            "flex": null,
            "flex_flow": null,
            "grid_area": null,
            "grid_auto_columns": null,
            "grid_auto_flow": null,
            "grid_auto_rows": null,
            "grid_column": null,
            "grid_gap": null,
            "grid_row": null,
            "grid_template_areas": null,
            "grid_template_columns": null,
            "grid_template_rows": null,
            "height": null,
            "justify_content": null,
            "justify_items": null,
            "left": null,
            "margin": null,
            "max_height": null,
            "max_width": null,
            "min_height": null,
            "min_width": null,
            "object_fit": null,
            "object_position": null,
            "order": null,
            "overflow": null,
            "overflow_x": null,
            "overflow_y": null,
            "padding": null,
            "right": null,
            "top": null,
            "visibility": null,
            "width": null
          }
        },
        "4031f96e70af49e0b56dacb611c6a8f2": {
          "model_module": "@jupyter-widgets/controls",
          "model_name": "SliderStyleModel",
          "model_module_version": "1.5.0",
          "state": {
            "_model_module": "@jupyter-widgets/controls",
            "_model_module_version": "1.5.0",
            "_model_name": "SliderStyleModel",
            "_view_count": null,
            "_view_module": "@jupyter-widgets/base",
            "_view_module_version": "1.2.0",
            "_view_name": "StyleView",
            "description_width": "",
            "handle_color": null
          }
        },
        "f15fdb240302429e9ff04b13b86caf88": {
          "model_module": "@jupyter-widgets/base",
          "model_name": "LayoutModel",
          "model_module_version": "1.2.0",
          "state": {
            "_model_module": "@jupyter-widgets/base",
            "_model_module_version": "1.2.0",
            "_model_name": "LayoutModel",
            "_view_count": null,
            "_view_module": "@jupyter-widgets/base",
            "_view_module_version": "1.2.0",
            "_view_name": "LayoutView",
            "align_content": null,
            "align_items": null,
            "align_self": null,
            "border": null,
            "bottom": null,
            "display": null,
            "flex": null,
            "flex_flow": null,
            "grid_area": null,
            "grid_auto_columns": null,
            "grid_auto_flow": null,
            "grid_auto_rows": null,
            "grid_column": null,
            "grid_gap": null,
            "grid_row": null,
            "grid_template_areas": null,
            "grid_template_columns": null,
            "grid_template_rows": null,
            "height": null,
            "justify_content": null,
            "justify_items": null,
            "left": null,
            "margin": null,
            "max_height": null,
            "max_width": null,
            "min_height": null,
            "min_width": null,
            "object_fit": null,
            "object_position": null,
            "order": null,
            "overflow": null,
            "overflow_x": null,
            "overflow_y": null,
            "padding": null,
            "right": null,
            "top": null,
            "visibility": null,
            "width": null
          }
        },
        "535fe605c7f44ae9adbe377cc2a4ba1b": {
          "model_module": "@jupyter-widgets/controls",
          "model_name": "SliderStyleModel",
          "model_module_version": "1.5.0",
          "state": {
            "_model_module": "@jupyter-widgets/controls",
            "_model_module_version": "1.5.0",
            "_model_name": "SliderStyleModel",
            "_view_count": null,
            "_view_module": "@jupyter-widgets/base",
            "_view_module_version": "1.2.0",
            "_view_name": "StyleView",
            "description_width": "",
            "handle_color": null
          }
        },
        "f9f46f0b028e41829e24f589e77a1749": {
          "model_module": "@jupyter-widgets/base",
          "model_name": "LayoutModel",
          "model_module_version": "1.2.0",
          "state": {
            "_model_module": "@jupyter-widgets/base",
            "_model_module_version": "1.2.0",
            "_model_name": "LayoutModel",
            "_view_count": null,
            "_view_module": "@jupyter-widgets/base",
            "_view_module_version": "1.2.0",
            "_view_name": "LayoutView",
            "align_content": null,
            "align_items": null,
            "align_self": null,
            "border": null,
            "bottom": null,
            "display": null,
            "flex": null,
            "flex_flow": null,
            "grid_area": null,
            "grid_auto_columns": null,
            "grid_auto_flow": null,
            "grid_auto_rows": null,
            "grid_column": null,
            "grid_gap": null,
            "grid_row": null,
            "grid_template_areas": null,
            "grid_template_columns": null,
            "grid_template_rows": null,
            "height": null,
            "justify_content": null,
            "justify_items": null,
            "left": null,
            "margin": null,
            "max_height": null,
            "max_width": null,
            "min_height": null,
            "min_width": null,
            "object_fit": null,
            "object_position": null,
            "order": null,
            "overflow": null,
            "overflow_x": null,
            "overflow_y": null,
            "padding": null,
            "right": null,
            "top": null,
            "visibility": null,
            "width": null
          }
        }
      }
    }
  },
  "cells": [
    {
      "cell_type": "markdown",
      "metadata": {
        "id": "view-in-github",
        "colab_type": "text"
      },
      "source": [
        "<a href=\"https://colab.research.google.com/github/ebatty/MathToolsforNeuroscience/blob/jupyterbook/Week3/Week3Tutorial2.ipynb\" target=\"_parent\"><img src=\"https://colab.research.google.com/assets/colab-badge.svg\" alt=\"Open In Colab\"/></a>"
      ]
    },
    {
      "cell_type": "markdown",
      "metadata": {
        "id": "S9l0lyqLvkW7"
      },
      "source": [
        "# Tutorial 2\n",
        "\n",
        "**Dynamical Systems I, Discrete Dynamics & Eigenstuff**\n",
        "\n",
        "**[insert your name]**\n",
        "\n",
        "**Important reminders**: Before starting, click \"File -> Save a copy in Drive\". Produce a pdf for submission by \"File -> Print\" and then choose \"Save to PDF\".\n",
        "\n",
        "To complete this tutorial, you should have watched Videos 3.1 - 3.3.\n",
        "\n",
        "\n"
      ]
    },
    {
      "cell_type": "code",
      "source": [
        "# @markdown Imports\n",
        "\n",
        "# Imports\n",
        "import numpy as np\n",
        "import matplotlib.pyplot as plt\n",
        "import matplotlib\n",
        "import scipy.linalg\n",
        "from matplotlib.animation import FuncAnimation\n",
        "import ipywidgets as widgets  \n",
        "\n",
        "# Plotting parameters\n",
        "from IPython.display import HTML\n",
        "plt.rcParams[\"animation.html\"] = \"jshtml\"\n",
        "matplotlib.rcParams.update({'font.size': 22})"
      ],
      "metadata": {
        "cellView": "form",
        "id": "5539--3TsRko"
      },
      "execution_count": 5,
      "outputs": []
    },
    {
      "cell_type": "code",
      "source": [
        "# @markdown Plotting functions\n",
        "your_theme = 'white'\n",
        "if your_theme == 'dark':  \n",
        "  plt.style.use(['dark_background'])\n",
        "  classic = 'w'\n",
        "else:\n",
        "  classic = 'k'\n",
        "\n",
        "def plot_eig_vec_transform(W):\n",
        "  vec_names = ['a', 'b','c','d','e','f','g', 'h']\n",
        "\n",
        "  _, vecs = np.linalg.eig(W)\n",
        "  vecs = vecs.T\n",
        "\n",
        "  fig, axes = plt.subplots(1, 2, figsize=(10, 5))\n",
        "  colors = plt.rcParams['axes.prop_cycle'].by_key()['color']\n",
        "\n",
        "  for i in range(2):\n",
        "    axes[i].set(xlim=[-3.5, 3.5], ylim=[-3.5,3.5])\n",
        "    axes[i].axis('Off')\n",
        "    axes[i].plot([0, 0], [-3.5, 3.5], classic, alpha=.4)\n",
        "    axes[i].plot([-3.5, 3.5], [0, 0], classic, alpha=.4)\n",
        "\n",
        "  for i_vec, vec in enumerate(vecs):    \n",
        "    axes[0].arrow(0, 0, vec[0], vec[1], head_width=.2, facecolor=colors[i_vec], edgecolor=colors[i_vec], length_includes_head=True)\n",
        "    axes[0].annotate(vec_names[i_vec], xy=(vec[0]+np.sign(vec[0])*.15, vec[1]+np.sign(vec[1])*.15), color=colors[i_vec])\n",
        "\n",
        "    transformed_vec = np.matmul(W, vec)\n",
        "    axes[1].arrow(0, 0, transformed_vec[0], transformed_vec[1], head_width=.2, facecolor=colors[i_vec], edgecolor=colors[i_vec], length_includes_head=True)\n",
        "    axes[1].annotate(vec_names[i_vec], xy=(transformed_vec[0]+np.sign(transformed_vec[0])*.15, transformed_vec[1]+np.sign(transformed_vec[1])*.15), color=colors[i_vec])\n",
        "\n",
        "  axes[0].set_title('Before')\n",
        "  axes[1].set_title('After')\n",
        "def plot_circuit_responses(u, W, eigenstuff = False, xlim='default', ylim='default', magnitude=None):\n",
        "    fig, ax = plt.subplots(1, 1, figsize=(10,10))\n",
        "\n",
        "    # Set up axis limits\n",
        "    if xlim =='default':\n",
        "      extreme = np.maximum(np.abs(np.min(u)), np.max(u))\n",
        "      xlim = [- extreme, extreme]\n",
        "    if ylim == 'default':\n",
        "      extreme = np.maximum(np.abs(np.min(u)), np.max(u))\n",
        "      ylim = [- extreme, extreme]\n",
        "\n",
        "    # Set up look\n",
        "    ax.spines['right'].set_visible(False)\n",
        "    ax.spines['top'].set_visible(False)\n",
        "    cs = plt.rcParams['axes.prop_cycle'].by_key()['color']*10\n",
        "    ax.set_xlim(xlim)\n",
        "    ax.set_ylim(ylim)\n",
        "\n",
        "    # Set up tracking textz\n",
        "    tracker_text = ax.text(.5, .9, \"\", color='w', fontsize=20, verticalalignment='top', horizontalalignment='left', transform=ax.transAxes)\n",
        "\n",
        "    # Plot eigenvectors\n",
        "    if eigenstuff:\n",
        "      eigvals, eigvecs = np.linalg.eig(W)\n",
        "\n",
        "      if np.abs(eigvals[0]) < np.abs(eigvals[1]):\n",
        "        lc1 = 'c'\n",
        "        lc2 = 'g'\n",
        "      else:\n",
        "        lc1 = 'g'\n",
        "        lc2 = 'c'\n",
        "\n",
        "      ax.plot(np.arange(-10000, 10000)*eigvecs[0, 0], np.arange(-10000, 10000)*eigvecs[1, 0],lc1, alpha=.5, label = r'$\\bar{v}_1$')\n",
        "      ax.plot(np.arange(-10000, 10000)*eigvecs[0, 1], np.arange(-10000, 10000)*eigvecs[1, 1], lc2, alpha=.5, label = r'$\\bar{v}_2$')\n",
        "\n",
        "      ax.legend()\n",
        "\n",
        "    # Set up scatter\n",
        "    cmap = plt.cm.coolwarm\n",
        "    norm = plt.Normalize(vmin=0, vmax=u.shape[1])\n",
        "    ax.plot(u[0,:], u[1, :], alpha=.4, zorder = 0)\n",
        "    scatter = ax.scatter(u[0, :], u[1, :], alpha=1, c = cmap(norm(np.arange(u.shape[1]))), zorder = 1)\n",
        "\n",
        "\n",
        "    ax.set(xlabel = 'Neuron 1 Firing Rate ($u_1$)', ylabel = 'Neuron 2 Firing Rate ($u_2$)', title = f'Neural firing over time \\n Magnitude={magnitude:.2f}')\n",
        "\n",
        "    fig.colorbar(matplotlib.cm.ScalarMappable(norm=norm, cmap=cmap),\n",
        "                ax=ax, label = 'Time step')\n",
        "    "
      ],
      "metadata": {
        "cellView": "form",
        "id": "ztk8TIw8sIKq"
      },
      "execution_count": 43,
      "outputs": []
    },
    {
      "cell_type": "code",
      "source": [
        "# @markdown Helper functions\n",
        "\n",
        "def get_eigval_specified_matrix(target_eig):\n",
        "  \"\"\"Generates matrix with specified eigvals\n",
        "\n",
        "    Args:\n",
        "      target_eig (list): list of target eigenvalues, can be real or complex,\n",
        "              should be length 2 unless you desire repeated eigenvalues\n",
        "              with the same eigenvector, in which case length 1\n",
        "\n",
        "    Returns:\n",
        "      ndarray: 2 x 2 matrix with target eigvals\n",
        "\n",
        "  \"\"\"\n",
        "\n",
        "  # Set up two eigenvectors\n",
        "  V = np.array([[1, 1], [-1, 1]]).astype('float')\n",
        "  for i in range(2):\n",
        "    V[:,i] = V[:,i]/np.linalg.norm(V[:,i])\n",
        "\n",
        "  # Get matrix with target eigenvalues\n",
        "  if type(target_eig[0]) == int or type(target_eig[0]) == float:\n",
        "\n",
        "    if len(target_eig) == 2: # distinct eigvecs (not necessarily distinct eigvals)\n",
        "\n",
        "        D = np.diag(target_eig)\n",
        "        A = V @ D @ np.linalg.inv(V)\n",
        "\n",
        "    else: # repeated with same vec\n",
        "      summed = 2*target_eig[0]\n",
        "\n",
        "      a = summed-3\n",
        "      d = 3\n",
        "      bc = target_eig[0]**2 - a*d\n",
        "      factors = [n for n in range(1, bc+ 1) if bc % n == 0]\n",
        "      b = factors[int(np.floor(len(factors)/2))]\n",
        "      c = bc/-b\n",
        "\n",
        "      A = np.array([[a, b], [c, d]])\n",
        "\n",
        "  elif type(target_eig[0]) == complex:\n",
        "\n",
        "      C = [np.real(V[:,0]), np.real(V[:,1])]\n",
        "      B = np.array([[np.real(target_eig[0]), np.imag(target_eig[0])], [-np.imag(target_eig[0]), np.real(target_eig[0])]]).squeeze()\n",
        "      A = C @ B @ np.linalg.inv(C)\n",
        "\n",
        "  return A"
      ],
      "metadata": {
        "cellView": "form",
        "id": "Ni6yNmNosEPz"
      },
      "execution_count": 7,
      "outputs": []
    },
    {
      "cell_type": "markdown",
      "metadata": {
        "id": "ZL_-e6cW-HG2"
      },
      "source": [
        "# Exercise 1: Complex computations\n",
        "\n",
        "We saw in Video 3.3 that eigenvalues can be complex - let's convince ourselves of this. Consider the following rotation matrix:\n",
        "\n",
        "$$B = \n",
        "\\begin{bmatrix}\n",
        "0 & -1 \\\\\n",
        "1 & 0 \\\\\n",
        "\\end{bmatrix} $$\n"
      ]
    },
    {
      "cell_type": "markdown",
      "source": [
        "## A) \n",
        "Calculate the eigenvalues of this matrix using det($B$ - $\\lambda I$) = 0 to solve for $\\lambda$.\n"
      ],
      "metadata": {
        "id": "An9Bg_XTr1sW"
      }
    },
    {
      "cell_type": "markdown",
      "metadata": {
        "id": "PZk0r-_GDBe1"
      },
      "source": [
        "Your answer here"
      ]
    },
    {
      "cell_type": "markdown",
      "metadata": {
        "id": "eAVJ0l3VCiLL"
      },
      "source": [
        "## B) \n",
        "\n",
        "Why does it make sense intuitively that a rotation has no real eigenvalues? Think about how space is transformed"
      ]
    },
    {
      "cell_type": "markdown",
      "metadata": {
        "id": "CnyQR8LJCj06"
      },
      "source": [
        "Your answer here"
      ]
    },
    {
      "cell_type": "markdown",
      "source": [
        "# C)\n",
        "\n",
        "Copy and paste your circuit implementation function from Tutorial 1 Exercise 3B below. \n",
        "\n",
        "You will then in the next cell enable a demo. It's similar to what you played with in Tutorial 1 but now you can specify complex eigenvalues. If a 2-D matrix has any complex eigenvalues, one has to be r + cj, and the other r-cj, where r is the real part and c is the complex part. You can control r and c in the interactive demo.\n",
        "\n",
        "The magnitude of a complex number is $(r^2+c^2)^{0.5}$. I report the magnitude of the complex eigevalues in the title of the plot.\n",
        "\n",
        "- What happens to the neural activity trajectory if the magnitude of the complex eigenvalues is 1?\n",
        "- What happens if it is greater than 1?\n",
        "- What happens if it is less than 1?"
      ],
      "metadata": {
        "id": "uSIC9bIxrxxM"
      }
    },
    {
      "cell_type": "code",
      "source": [
        "# copy and paste your circuit_implementation function"
      ],
      "metadata": {
        "id": "8kcj4S-3w9V0"
      },
      "execution_count": null,
      "outputs": []
    },
    {
      "cell_type": "code",
      "source": [
        "# @markdown Execute this cell to enable the widget (there is a small lag so be patient after changing sliders)\n",
        "real_part = widgets.FloatSlider(value=0.6, min=0.2, max=2, step=0.2)\n",
        "complex_part = widgets.FloatSlider(value=0.8, min=0.2, max=2, step=0.2)\n",
        "u0_1 = widgets.FloatSlider(value=1, min=-5, max=5, step=0.2)\n",
        "u0_2 = widgets.FloatSlider(value=2, min=-5, max=5, step=0.2)\n",
        "\n",
        "# def update_range(*args):\n",
        "#     eigenvalue2.max = eigenvalue1.value - 0.2\n",
        "# eigenvalue1.observe(update_range, 'value')\n",
        "\n",
        "\n",
        "def plot_system(real_part, complex_part, u0_1, u0_2):\n",
        "\n",
        "  # Get initial condition\n",
        "  u0 = np.array([u0_1, u0_2])\n",
        "\n",
        "  eigval1 = complex(real_part, complex_part)\n",
        "  eigval2 = complex(real_part, -complex_part)\n",
        "  # Get weight matrix with specified eigenvalues\n",
        "  W = get_eigval_specified_matrix([eigval1, eigval2])\n",
        "\n",
        "  # Get neural activities\n",
        "  u = circuit_implementation(W, u0, 50)\n",
        "\n",
        "  # # Visualize neural activities\n",
        "  magnitude = np.sqrt(real_part**2 + complex_part**2)\n",
        "  plot_circuit_responses(u, W, eigenstuff = False, xlim = [-15, 15], ylim = [-15, 15], magnitude = magnitude)\n",
        "\n",
        "widgets.interact(plot_system, real_part = real_part, complex_part = complex_part, u0_1 = u0_1, u0_2 = u0_2)"
      ],
      "metadata": {
        "colab": {
          "base_uri": "https://localhost:8080/",
          "height": 832,
          "referenced_widgets": [
            "76bc2f291b7449c4befdea1a226efc3a",
            "ff9fc25f94134698ae109baa6740e5f3",
            "6364bc6618d64d3ba0cc518df39fa3ff",
            "7680a57c615f442f82c959d2527c3a39",
            "b10ea5958b934e179581428020ddcacf",
            "c20f750b48344bada2ba143e48f34d8e",
            "dc405f407ac742bebf01202d6eca3991",
            "22520824f34f4e82a081445207d816fe",
            "2a90d96194fd4d28bf1a531c55435f17",
            "5ba9b80ab298449480f4cc00cc7be83d",
            "45b940d0b61c408a988cb1ea06a71e3d",
            "f82649df60604d01bd7aeed6bc37e3ba",
            "4031f96e70af49e0b56dacb611c6a8f2",
            "f15fdb240302429e9ff04b13b86caf88",
            "535fe605c7f44ae9adbe377cc2a4ba1b",
            "f9f46f0b028e41829e24f589e77a1749"
          ]
        },
        "cellView": "form",
        "id": "hrqE8wBasOd2",
        "outputId": "84025ffd-b7fe-4910-a2b3-c8a34876c4de"
      },
      "execution_count": 48,
      "outputs": [
        {
          "output_type": "display_data",
          "data": {
            "text/plain": [
              "interactive(children=(FloatSlider(value=0.6, description='real_part', max=2.0, min=0.2, step=0.2), FloatSlider…"
            ],
            "application/vnd.jupyter.widget-view+json": {
              "version_major": 2,
              "version_minor": 0,
              "model_id": "76bc2f291b7449c4befdea1a226efc3a"
            }
          },
          "metadata": {}
        },
        {
          "output_type": "execute_result",
          "data": {
            "text/plain": [
              "<function __main__.plot_system(real_part, complex_part, u0_1, u0_2)>"
            ]
          },
          "metadata": {},
          "execution_count": 48
        }
      ]
    },
    {
      "cell_type": "markdown",
      "source": [
        "# (Optional) Exercise 2: Owls\n",
        "\n",
        "This exercise is based on one in the Linear Algebra textbook by David Lay.\n",
        "\n",
        "Researchers studied the population of spotty owls in the Pacific northwest. For a given year $k$, they describe the population by the number of females in the juvenile ($j_k$), subadult ($s_k$), and adult ($a_k$) stages. Within a year, a juvenile owl would be reclassified as a subadult owl, and a subadult owl would age into being an adult owl.\n",
        "\n",
        "Based on the average birth rate per owl pair, they know that the number of new juvenile females in year $k+1$ will be .33 times the number of adult females in the previous year ($a_k$). 18% of the juveniles survive to become subadults the next year, 71% of the subadults survive to become adults the next year, and 94% of adults stay alive to be adults next year."
      ],
      "metadata": {
        "id": "YBGp1-TnuCcE"
      }
    },
    {
      "cell_type": "markdown",
      "source": [
        "## A) Dynamical system formulation\n",
        "\n",
        "Write out a discrete dynamical system (of the type $x_{t+1} = Wx_t$ to study the evolution of the spotty owl population given all of this information."
      ],
      "metadata": {
        "id": "KG5hTlQUyABl"
      }
    },
    {
      "cell_type": "code",
      "source": [],
      "metadata": {
        "id": "u6tGNnmLuDT8"
      },
      "execution_count": null,
      "outputs": []
    },
    {
      "cell_type": "markdown",
      "source": [
        "## B) Predicting the future\n",
        "\n",
        "With these stats, will the spotty owl become extinct in the future? Explain your answer.\n",
        "\n",
        "Answer this by looking at the eigenvalues and eigenvectors of $W$, not through simulation (although you can use simulation to check your intuitions) ."
      ],
      "metadata": {
        "id": "nqIKqiBdyLGG"
      }
    },
    {
      "cell_type": "markdown",
      "source": [],
      "metadata": {
        "id": "x-r5mA7czEo-"
      }
    },
    {
      "cell_type": "code",
      "source": [],
      "metadata": {
        "id": "BrjEdEmEyVu4"
      },
      "execution_count": null,
      "outputs": []
    },
    {
      "cell_type": "markdown",
      "source": [
        "## C) Hope for the future\n",
        "\n",
        "The 18% number for survival of juveniles to subadults is pretty low, partly because there is a lot of cutting of trees in their forest habitats, increasing the likelihood that a predator will see and eat them (since they can't hide amongst the trees). \n",
        "\n",
        "If new trees could be reintroduced and the number of juveniles surviving to subadulthood the next year was upped to 30%, would the spotty owl go extinct? Explain your answer."
      ],
      "metadata": {
        "id": "ocAN1HGGyXKt"
      }
    },
    {
      "cell_type": "code",
      "source": [],
      "metadata": {
        "id": "qAW4w6Y4zDDL"
      },
      "execution_count": null,
      "outputs": []
    },
    {
      "cell_type": "markdown",
      "source": [
        "## D) Predicting owl life-stage distribution\n",
        "\n",
        "In this better world where the number of juveniles surviving to subadulthood is 30%, not 18%, what would the proportion of adults to juveniles be after many years? You should be able to answer this again by just looking at the eigenvalues/eigenvectors"
      ],
      "metadata": {
        "id": "hCDnI1eMzIoa"
      }
    },
    {
      "cell_type": "code",
      "source": [],
      "metadata": {
        "id": "yRfOo-wDzYl-"
      },
      "execution_count": null,
      "outputs": []
    }
  ]
}