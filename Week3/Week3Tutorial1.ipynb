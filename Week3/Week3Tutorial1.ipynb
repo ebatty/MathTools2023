{
  "nbformat": 4,
  "nbformat_minor": 0,
  "metadata": {
    "colab": {
      "provenance": [],
      "collapsed_sections": [],
      "authorship_tag": "ABX9TyMluqd0vt3qe6oCAz8xamhG",
      "include_colab_link": true
    },
    "kernelspec": {
      "name": "python3",
      "display_name": "Python 3"
    }
  },
  "cells": [
    {
      "cell_type": "markdown",
      "metadata": {
        "id": "view-in-github",
        "colab_type": "text"
      },
      "source": [
        "<a href=\"https://colab.research.google.com/github/ebatty/MathToolsforNeuroscience/blob/jupyterbook/Week3/Week3Tutorial1.ipynb\" target=\"_parent\"><img src=\"https://colab.research.google.com/assets/colab-badge.svg\" alt=\"Open In Colab\"/></a>"
      ]
    },
    {
      "cell_type": "markdown",
      "metadata": {
        "id": "S9l0lyqLvkW7"
      },
      "source": [
        "# Tutorial 1\n",
        "\n",
        "**Dynamical Systems I, Discrete Dynamics & Eigenstuff**\n",
        "\n",
        "**[insert your name]**\n",
        "\n",
        "**Important reminders**: Before starting, click \"File -> Save a copy in Drive\". Produce a pdf for submission by \"File -> Print\" and then choose \"Save to PDF\".\n",
        "\n",
        "To complete this tutorial, you should have watched Videos 3.1, 3.2, and 3.3.\n",
        "\n"
      ]
    },
    {
      "cell_type": "code",
      "metadata": {
        "id": "cv9HSBNPyLV9",
        "cellView": "form"
      },
      "source": [
        "# @markdown Imports\n",
        "\n",
        "# Imports\n",
        "import numpy as np\n",
        "import matplotlib.pyplot as plt\n",
        "import matplotlib\n",
        "import scipy.linalg\n",
        "from matplotlib.animation import FuncAnimation\n",
        "import ipywidgets as widgets  \n",
        "\n",
        "# Plotting parameters\n",
        "from IPython.display import HTML\n",
        "plt.rcParams[\"animation.html\"] = \"jshtml\"\n",
        "matplotlib.rcParams.update({'font.size': 22})"
      ],
      "execution_count": null,
      "outputs": []
    },
    {
      "cell_type": "code",
      "metadata": {
        "id": "ZIdPVYl9TzmK",
        "cellView": "form"
      },
      "source": [
        "# @markdown Plotting functions\n",
        "your_theme = 'white'\n",
        "if your_theme == 'dark':  \n",
        "  plt.style.use(['dark_background'])\n",
        "  classic = 'w'\n",
        "else:\n",
        "  classic = 'k'\n",
        "\n",
        "def plot_eig_vec_transform(W):\n",
        "  vec_names = ['a', 'b','c','d','e','f','g', 'h']\n",
        "\n",
        "  _, vecs = np.linalg.eig(W)\n",
        "  vecs = vecs.T\n",
        "\n",
        "  fig, axes = plt.subplots(1, 2, figsize=(10, 5))\n",
        "  colors = plt.rcParams['axes.prop_cycle'].by_key()['color']\n",
        "\n",
        "  for i in range(2):\n",
        "    axes[i].set(xlim=[-3.5, 3.5], ylim=[-3.5,3.5])\n",
        "    axes[i].axis('Off')\n",
        "    axes[i].plot([0, 0], [-3.5, 3.5], classic, alpha=.4)\n",
        "    axes[i].plot([-3.5, 3.5], [0, 0], classic, alpha=.4)\n",
        "\n",
        "  for i_vec, vec in enumerate(vecs):    \n",
        "    axes[0].arrow(0, 0, vec[0], vec[1], head_width=.2, facecolor=colors[i_vec], edgecolor=colors[i_vec], length_includes_head=True)\n",
        "    axes[0].annotate(vec_names[i_vec], xy=(vec[0]+np.sign(vec[0])*.15, vec[1]+np.sign(vec[1])*.15), color=colors[i_vec])\n",
        "\n",
        "    transformed_vec = np.matmul(W, vec)\n",
        "    axes[1].arrow(0, 0, transformed_vec[0], transformed_vec[1], head_width=.2, facecolor=colors[i_vec], edgecolor=colors[i_vec], length_includes_head=True)\n",
        "    axes[1].annotate(vec_names[i_vec], xy=(transformed_vec[0]+np.sign(transformed_vec[0])*.15, transformed_vec[1]+np.sign(transformed_vec[1])*.15), color=colors[i_vec])\n",
        "\n",
        "  axes[0].set_title('Before')\n",
        "  axes[1].set_title('After')\n",
        "def plot_circuit_responses(u, W, eigenstuff = False, xlim='default', ylim='default'):\n",
        "    fig, ax = plt.subplots(1, 1, figsize=(10,10))\n",
        "\n",
        "    # Set up axis limits\n",
        "    if xlim =='default':\n",
        "      extreme = np.maximum(np.abs(np.min(u)), np.max(u))\n",
        "      xlim = [- extreme, extreme]\n",
        "    if ylim == 'default':\n",
        "      extreme = np.maximum(np.abs(np.min(u)), np.max(u))\n",
        "      ylim = [- extreme, extreme]\n",
        "\n",
        "    # Set up look\n",
        "    ax.spines['right'].set_visible(False)\n",
        "    ax.spines['top'].set_visible(False)\n",
        "    cs = plt.rcParams['axes.prop_cycle'].by_key()['color']*10\n",
        "    ax.set_xlim(xlim)\n",
        "    ax.set_ylim(ylim)\n",
        "\n",
        "    # Set up tracking textz\n",
        "    tracker_text = ax.text(.5, .9, \"\", color='w', fontsize=20, verticalalignment='top', horizontalalignment='left', transform=ax.transAxes)\n",
        "\n",
        "    # Plot eigenvectors\n",
        "    if eigenstuff:\n",
        "      eigvals, eigvecs = np.linalg.eig(W)\n",
        "\n",
        "      if np.abs(eigvals[0]) < np.abs(eigvals[1]):\n",
        "        lc1 = 'c'\n",
        "        lc2 = 'g'\n",
        "      else:\n",
        "        lc1 = 'g'\n",
        "        lc2 = 'c'\n",
        "\n",
        "      ax.plot(np.arange(-10000, 10000)*eigvecs[0, 0], np.arange(-10000, 10000)*eigvecs[1, 0],lc1, alpha=.5, label = r'$\\bar{v}_1$')\n",
        "      ax.plot(np.arange(-10000, 10000)*eigvecs[0, 1], np.arange(-10000, 10000)*eigvecs[1, 1], lc2, alpha=.5, label = r'$\\bar{v}_2$')\n",
        "\n",
        "      ax.legend()\n",
        "\n",
        "    # Set up scatter\n",
        "    cmap = plt.cm.coolwarm\n",
        "    norm = plt.Normalize(vmin=0, vmax=u.shape[1])\n",
        "    ax.plot(u[0,:], u[1, :], alpha=.4, zorder = 0)\n",
        "    scatter = ax.scatter(u[0, :], u[1, :], alpha=1, c = cmap(norm(np.arange(u.shape[1]))), zorder = 1)\n",
        "\n",
        "\n",
        "    ax.set(xlabel = 'Neuron 1 Firing Rate ($u_1$)', ylabel = 'Neuron 2 Firing Rate ($u_2$)', title = 'Neural firing over time')\n",
        "\n",
        "    fig.colorbar(matplotlib.cm.ScalarMappable(norm=norm, cmap=cmap),\n",
        "                ax=ax, label = 'Time step')\n",
        "    "
      ],
      "execution_count": null,
      "outputs": []
    },
    {
      "cell_type": "code",
      "metadata": {
        "id": "-0FVy5boO39R",
        "cellView": "form"
      },
      "source": [
        "# @markdown Helper functions\n",
        "\n",
        "def get_eigval_specified_matrix(target_eig):\n",
        "  \"\"\"Generates matrix with specified eigvals\n",
        "\n",
        "    Args:\n",
        "      target_eig (list): list of target eigenvalues, can be real or complex,\n",
        "              should be length 2 unless you desire repeated eigenvalues\n",
        "              with the same eigenvector, in which case length 1\n",
        "\n",
        "    Returns:\n",
        "      ndarray: 2 x 2 matrix with target eigvals\n",
        "\n",
        "  \"\"\"\n",
        "\n",
        "  # Set up two eigenvectors\n",
        "  V = np.array([[1, 1], [-1, 1]]).astype('float')\n",
        "  for i in range(2):\n",
        "    V[:,i] = V[:,i]/np.linalg.norm(V[:,i])\n",
        "\n",
        "  # Get matrix with target eigenvalues\n",
        "  if type(target_eig[0]) == int or type(target_eig[0]) == float:\n",
        "\n",
        "    if len(target_eig) == 2: # distinct eigvecs (not necessarily distinct eigvals)\n",
        "\n",
        "        D = np.diag(target_eig)\n",
        "        A = V @ D @ np.linalg.inv(V)\n",
        "\n",
        "    else: # repeated with same vec\n",
        "      summed = 2*target_eig[0]\n",
        "\n",
        "      a = summed-3\n",
        "      d = 3\n",
        "      bc = target_eig[0]**2 - a*d\n",
        "      factors = [n for n in range(1, bc+ 1) if bc % n == 0]\n",
        "      b = factors[int(np.floor(len(factors)/2))]\n",
        "      c = bc/-b\n",
        "\n",
        "      A = np.array([[a, b], [c, d]])\n",
        "\n",
        "  elif type(target_eig[0]) == complex:\n",
        "\n",
        "      C = [np.real(V[:,0]), np.real(V[:,1])]\n",
        "      B = np.array([[np.real(target_eig[0]), np.imag(target_eig[0])], [-np.imag(target_eig[0]), np.real(target_eig[0])]]).squeeze()\n",
        "      A = C @ B @ np.linalg.inv(C)\n",
        "\n",
        "  return A"
      ],
      "execution_count": null,
      "outputs": []
    },
    {
      "cell_type": "markdown",
      "metadata": {
        "id": "31yvHJrIX97I"
      },
      "source": [
        "# Exercise 1: Eigenvectors & transformations"
      ]
    },
    {
      "cell_type": "markdown",
      "metadata": {
        "id": "BYNHs839bEyC"
      },
      "source": [
        "## A) Identifying eigenvectors\n",
        "\n",
        "Below we plot some vectors before a linear transformation by a matrix and after. Which of the vectors are eigenvectors?"
      ]
    },
    {
      "cell_type": "code",
      "metadata": {
        "id": "d57H5HRvbQGj",
        "cellView": "form",
        "colab": {
          "base_uri": "https://localhost:8080/",
          "height": 319
        },
        "outputId": "beb0c7f7-726f-4947-995b-1b97a2151667"
      },
      "source": [
        "# @title\n",
        "# @markdown Execute this cell to visualize vectors\n",
        "\n",
        "vec_names = ['a', 'b','c','d','e','f','g', 'h']\n",
        "vecs = np.array([[0, 1], \n",
        "                 [1/np.sqrt(2), 1/np.sqrt(2)],\n",
        "                 [1, 0],\n",
        "                 [1/np.sqrt(2), -1/np.sqrt(2)],\n",
        "                 [0, -1], \n",
        "                 [-2/np.sqrt(5), -1/np.sqrt(5)],\n",
        "                 [-1, 0], \n",
        "                 [-2/np.sqrt(5), 1/np.sqrt(5)], \n",
        "                 ])\n",
        "W = np.array([[1.2, 1.2], [0, .3]])\n",
        "\n",
        "fig, axes = plt.subplots(1, 2, figsize=(10, 5))\n",
        "colors = plt.rcParams['axes.prop_cycle'].by_key()['color']\n",
        "\n",
        "for i in range(2):\n",
        "  axes[i].set(xlim=[-2, 2], ylim=[-2,2])\n",
        "  axes[i].axis('Off')\n",
        "\n",
        "for i_vec, vec in enumerate(vecs):    \n",
        "  axes[0].arrow(0, 0, vec[0], vec[1], head_width=.2, facecolor=colors[i_vec], edgecolor=colors[i_vec], length_includes_head=True)\n",
        "  axes[0].annotate(vec_names[i_vec], xy=(vec[0]+np.sign(vec[0])*.15, vec[1]+np.sign(vec[1])*.15), color=colors[i_vec])\n",
        "\n",
        "  transformed_vec = np.matmul(W, vec)\n",
        "  axes[1].arrow(0, 0, transformed_vec[0], transformed_vec[1], head_width=.2, facecolor=colors[i_vec], edgecolor=colors[i_vec], length_includes_head=True)\n",
        "  axes[1].annotate(vec_names[i_vec], xy=(transformed_vec[0]+np.sign(transformed_vec[0])*.15, transformed_vec[1]+np.sign(transformed_vec[1])*.15), color=colors[i_vec])\n",
        "\n",
        "axes[0].set_title('Before')\n",
        "axes[1].set_title('After');"
      ],
      "execution_count": null,
      "outputs": [
        {
          "output_type": "display_data",
          "data": {
            "image/png": "[encoded data removed]",
            "text/plain": [
              "<Figure size 720x360 with 2 Axes>"
            ]
          },
          "metadata": {
            "needs_background": "light"
          }
        }
      ]
    },
    {
      "cell_type": "markdown",
      "metadata": {
        "id": "LZsNRW18bQ5o"
      },
      "source": [
        "## B) Describing transformations with eigenvectors\n",
        "\n",
        "Last week, we learned how to think about linear transformations in terms of where the unit vectors end up. We can also think about them in terms of eigenvectors. Just by looking at eigenvectors before and after a transformation, can you describe what the transformation is in words? \n",
        "\n",
        "Note that I show an eigenvector for every eigenvalue. The x/y limits do not change in before vs after (so eigenvectors are showed scaled by the eigenvalues).\n",
        "\n",
        "\n",
        "Here are some transformation words to jog your memory: contraction, expansion, horizontal vs vertical, shear, projection onto an axis, reflection."
      ]
    },
    {
      "cell_type": "code",
      "metadata": {
        "id": "uObSMAJgjqOE",
        "cellView": "form",
        "colab": {
          "base_uri": "https://localhost:8080/",
          "height": 319
        },
        "outputId": "a370405a-1b14-458f-fcfe-fffd0c4d1d1b"
      },
      "source": [
        "# @title\n",
        "# @markdown Execute this cell to visualize vectors\n",
        "\n",
        "W = np.array([[3, 0], [0, 1]])\n",
        "plot_eig_vec_transform(W)\n"
      ],
      "execution_count": null,
      "outputs": [
        {
          "output_type": "display_data",
          "data": {
            "image/png": "[encoded data removed]",
            "text/plain": [
              "<Figure size 720x360 with 2 Axes>"
            ]
          },
          "metadata": {
            "needs_background": "light"
          }
        }
      ]
    },
    {
      "cell_type": "code",
      "metadata": {
        "id": "L_kNJGz1lXkl",
        "cellView": "form",
        "colab": {
          "base_uri": "https://localhost:8080/",
          "height": 319
        },
        "outputId": "d2235da6-539a-496b-b0a0-e67d72c9e326"
      },
      "source": [
        "# @title\n",
        "# @markdown Execute this cell to visualize vectors\n",
        "\n",
        "W = np.array([[0, 1], [1, 0]])\n",
        "plot_eig_vec_transform(W)"
      ],
      "execution_count": null,
      "outputs": [
        {
          "output_type": "display_data",
          "data": {
            "image/png": "[encoded data removed]",
            "text/plain": [
              "<Figure size 720x360 with 2 Axes>"
            ]
          },
          "metadata": {
            "needs_background": "light"
          }
        }
      ]
    },
    {
      "cell_type": "markdown",
      "metadata": {
        "id": "jHwhFedI86GO"
      },
      "source": [
        "# Exercise 2: Eigenstuff of a matrix squared\n",
        "\n",
        "This is a guided proof. Consider the matrix $A$ with eigenvalues $\\lambda$. We want to answer the following question: what are the eigenvectors and eigenvalues of $A^2$?"
      ]
    },
    {
      "cell_type": "markdown",
      "metadata": {
        "id": "eS91ESGy9Xwk"
      },
      "source": [
        "i) Write down the relationship between $A$ and its eigenvalues $\\lambda$ and eigenvectors $\\bar{v}$."
      ]
    },
    {
      "cell_type": "markdown",
      "metadata": {
        "id": "XSLpCUbp9ncX"
      },
      "source": [
        "ii) Multiply both sides of the equation by $A$. Is there anything on the right-hand side that you can replace $A\\bar{v}$ with? Keep simplifying."
      ]
    },
    {
      "cell_type": "markdown",
      "metadata": {
        "id": "DjC7Zbmp9_yh"
      },
      "source": [
        "iii) What are the eigenvalues and eigenvectors of $A^2$?\n"
      ]
    },
    {
      "cell_type": "markdown",
      "metadata": {
        "id": "YZoiPTTV_PmJ"
      },
      "source": [
        "# Exercise 3: Implementing a dynamical system model of a neural circuit\n",
        "\n",
        "Consider a two neuron circuit like what we discussed in Video 3.2, with the following synaptic connectivity matrix:\n",
        "\n",
        "$$W = \\begin{bmatrix}\n",
        "1 & 0.2 \\\\\n",
        "0.1 & 1 \\\\\n",
        "\\end{bmatrix} $$"
      ]
    },
    {
      "cell_type": "markdown",
      "metadata": {
        "id": "cYLByKEzA7S-"
      },
      "source": [
        "## A) Drawing the circuit\n",
        "\n",
        "Draw this two neuron circuit with the labeled synaptic weights."
      ]
    },
    {
      "cell_type": "markdown",
      "metadata": {
        "id": "lw6md0MzA-Pp"
      },
      "source": [
        "**Your drawn diagram here**"
      ]
    },
    {
      "cell_type": "markdown",
      "metadata": {
        "id": "DxuBrUGYBk10"
      },
      "source": [
        "## B) Modeling the circuit\n",
        "\n",
        "Complete the function below for computing $\\bar{u}$ over time.  \n",
        "\n",
        "You will then see an animation of $\\bar{u}$ over time using a provided function `animate_circuit_responses`.  Feel free to change the axis limits to see interesting parts of space (xlim/ylim arguments).\n",
        "\n",
        "\n",
        "Assume an input vector (initial condition) $\\bar{u}_0 = \\begin{bmatrix}\n",
        "1 \\\\\n",
        "1  \\\\\n",
        "\\end{bmatrix}$. "
      ]
    },
    {
      "cell_type": "code",
      "metadata": {
        "id": "SsOXHomTnHBG",
        "colab": {
          "base_uri": "https://localhost:8080/",
          "height": 642
        },
        "outputId": "ed35306a-83f9-4edd-c0e1-9b31dca91af5"
      },
      "source": [
        "def circuit_implementation(W, u0, T):\n",
        "  \"\"\" Simulate the responses of N neurons over time given their connections\n",
        "\n",
        "  Args:\n",
        "    W (ndarray): weight matrix of synaptic connections, should be N x N\n",
        "    u0 (ndarray): initial condition or input vector, should be N,\n",
        "    T (scalar): number of time steps to run simulation for\n",
        "\n",
        "  Returns:\n",
        "    u (ndarray): the neural responses over time, should be N x T\n",
        "\n",
        "  \"\"\"\n",
        "\n",
        "  # Compute the number of neurons\n",
        "  N = W.shape[0] \n",
        "\n",
        "  # Initialize empty response array and initial condition\n",
        "  u = np.zeros((N, T))\n",
        "  u[:, 0]  = u0\n",
        "\n",
        "  # Loop over time steps and compute u(t+1), store in correct column of u\n",
        "  ... # your code here!\n",
        "  \n",
        "  return u\n",
        "\n",
        "\n",
        "# Define W, u0, T\n",
        "W = np.array([[1, .2], [.1, 1]])\n",
        "u0 = np.array([-1, -1])\n",
        "T = 30\n",
        "\n",
        "u = circuit_implementation(W, u0, T)\n",
        "\n",
        "print(u[:, -1])\n",
        "\n",
        "# Visualize neural activities\n",
        "plot_circuit_responses(u, W)"
      ],
      "execution_count": null,
      "outputs": [
        {
          "output_type": "stream",
          "name": "stdout",
          "text": [
            "[0. 0.]\n"
          ]
        },
        {
          "output_type": "display_data",
          "data": {
            "image/png": "[encoded data removed]",
            "text/plain": [
              "<Figure size 720x720 with 2 Axes>"
            ]
          },
          "metadata": {
            "needs_background": "light"
          }
        }
      ]
    },
    {
      "cell_type": "markdown",
      "metadata": {
        "id": "65rAQxGhnVsZ"
      },
      "source": [
        "## C) Exploring trajectories"
      ]
    },
    {
      "cell_type": "markdown",
      "metadata": {
        "id": "Yv80uJx1nmSM"
      },
      "source": [
        "Use the same weight matrix but an initial condition of $\\bar{u}_0 = \\begin{bmatrix}\n",
        "-1 \\\\\n",
        "-1  \\\\\n",
        "\\end{bmatrix}$. Note that we are allowing our neural activities to be negative.\n",
        "\n",
        "What are the activities of $N_1$ and $N_2$ after 30 timesteps?"
      ]
    },
    {
      "cell_type": "markdown",
      "metadata": {
        "id": "qx481aTtTMGg"
      },
      "source": [
        "**Your answer here**"
      ]
    },
    {
      "cell_type": "markdown",
      "metadata": {
        "id": "jEnWWKQft_Wf"
      },
      "source": [
        "What about with a weight matrix of \n",
        "$$W = \\begin{bmatrix} 0.2 & 0.1 \\\\\n",
        "1 & 0.2 \\\\ \\end{bmatrix}$$ and an initial condition $\\bar{u}_0 = \\begin{bmatrix}\n",
        "1 \\\\\n",
        "1  \\\\\n",
        "\\end{bmatrix}$. \n",
        "\n",
        "What are the activities of $N_1$ and $N_2$ after 30 timesteps?"
      ]
    },
    {
      "cell_type": "markdown",
      "metadata": {
        "id": "CS119ivSTN9_"
      },
      "source": [
        "**Your answer here**"
      ]
    },
    {
      "cell_type": "markdown",
      "metadata": {
        "id": "gHVE4cOBuN58"
      },
      "source": [
        "You can see different looking trajectories of neural firing rates with different initial conditions. With the initial firing rates of $\\bar{u}_0 = \\begin{bmatrix}\n",
        "1 \\\\\n",
        "1  \\\\\n",
        "\\end{bmatrix}$, the firing rates of both neurons were increasing to positive infinity. With an inital firing rate vector of $\\bar{u}_0 = \\begin{bmatrix}\n",
        "-1 \\\\\n",
        "-1  \\\\\n",
        "\\end{bmatrix}$, the firing rates of both neurons were becoming very negative (going towards negative infinity. With a different weight matrix and initial condition, the firing rates went to nearly zero. It turns out that the eigenvalues and eigenvectors of the weight matrix can help us predict what will happen for a given weight matrix and initial condition!"
      ]
    },
    {
      "cell_type": "markdown",
      "metadata": {
        "id": "PJASLSsGoy4C"
      },
      "source": [
        "# Exercise 4: Eigenstuff effect on neural circuits"
      ]
    },
    {
      "cell_type": "markdown",
      "metadata": {
        "id": "nF77Y3WCu6-F"
      },
      "source": [
        "## A) Math of initial firing rate along an eigenvector\n",
        "\n",
        "Remember in the video that we showed that\n",
        "$$\\bar{u}_{t} = W^t\\bar{u}_0 $$ \n",
        "\n",
        "What would happen if $\\bar{u}_0$ was an eigenvector of the weight matrix? In other words if the initial condition was along the eigenvector. Write $\\bar{u}_t$ in terms of the eigenvalue and initial condition. Hint: exercise 2 might help."
      ]
    },
    {
      "cell_type": "markdown",
      "metadata": {
        "id": "r7VWtY6JOOw2"
      },
      "source": [
        "**Your math answer here**"
      ]
    },
    {
      "cell_type": "markdown",
      "metadata": {
        "id": "qTWVoNGvOihT"
      },
      "source": [
        "## B) Demonstration of initial firing rate along an eigenvector\n",
        "\n",
        "Let's visualize what happens if the initial activities of the neurons lie along an eigenvector and think about how this depends on the eigenvalue.\n",
        "\n",
        "The interactive demo below is the same visualization you saw in Section 1, but now we also plot the eigenvectors $\\bar{v}_1$ and $\\bar{v}_2$.\n",
        "\n",
        "Questions:\n",
        "1.  What happens if the eigenvalue is large (2)?\n",
        "2.  What happens if you move the eigenvalue from 2 to towards 0? \n",
        "3.  What happens with negative eigenvalues?"
      ]
    },
    {
      "cell_type": "code",
      "metadata": {
        "id": "ofdWjyq3Ovny"
      },
      "source": [
        "# @markdown Execute this cell to enable the widget. Please be patient for a few seconds after you change the slider\n",
        "\n",
        "@widgets.interact(eigenvalue = widgets.FloatSlider(value=0.5, min=-2, max=2, step=0.2))\n",
        "def plot_system(eigenvalue):\n",
        "\n",
        "  # Get weight matrix with specified eigenvalues\n",
        "  W = get_eigval_specified_matrix([eigenvalue, eigenvalue])\n",
        "\n",
        "  # Get initial condition\n",
        "  u0 = np.array([1, 1])\n",
        "\n",
        "  # Get neural activities\n",
        "  u = circuit_implementation(W, u0, 10)\n",
        "\n",
        "  # Visualize neural activities\n",
        "  plot_circuit_responses(u, W, eigenstuff = True, xlim = [-15, 15], ylim = [-15, 15])"
      ],
      "execution_count": null,
      "outputs": []
    },
    {
      "cell_type": "markdown",
      "metadata": {
        "id": "dgtqRGV1OuSZ"
      },
      "source": [
        "**Your answers here**"
      ]
    },
    {
      "cell_type": "markdown",
      "metadata": {
        "id": "uNOT19yZPGZz"
      },
      "source": [
        "## C) Math of other initial conditions \n",
        "\n",
        "Can the eigenvectors and eigenvalues of the weight matrix help us figure out trajectories even when the initial condition isn't along an eigenvector? \n",
        "\n",
        "Let's assume for now that our weight matrix has two distinct eigenvectors ($\\bar{v}_1$ and $\\bar{v}_2$) with corresponding eigenvalues $\\lambda_1$ and $\\lambda_2$, and that these eigenvectors form a basis for 2D space. That means we can write any vector in 2D space as a linear combination of our eigenvectors, including our initial activity vector:\n",
        "\n",
        "$$\\bar{u}_0 = c_1\\bar{v}_1 + c_2\\bar{v}_2 $$\n",
        "\n",
        "Write $\\bar{u}_t$ in terms of the c values ($c_1$ and $c_2$), the eigenvalues and eigenvectors.\n",
        "\n",
        "\n"
      ]
    },
    {
      "cell_type": "markdown",
      "metadata": {
        "id": "oNcrmMMsTZSP"
      },
      "source": [
        "**Your math answer here**"
      ]
    },
    {
      "cell_type": "markdown",
      "metadata": {
        "id": "tTVMl7ZLQsCY"
      },
      "source": [
        "## D) Demonstration of other initial conditions"
      ]
    },
    {
      "cell_type": "markdown",
      "metadata": {
        "id": "KbwnRWx5PYrG"
      },
      "source": [
        "Before we get to the neural circuit, refresh your memory on linear combinations briefly by looking at our widget from tutorial 1 below. What happens when the absolute values of both scalar multiples of both vectors is big? What about when one is big and one is small? No need to write out answers here, just refresh your memory."
      ]
    },
    {
      "cell_type": "code",
      "metadata": {
        "cellView": "form",
        "id": "sI6fGGPkPbKu"
      },
      "source": [
        "#@markdown Make sure you execute this cell to enable the widget! Move the sliders for “a” and “b”. After releasing the slider, be patient for a couple of seconds to see the desired change.\n",
        "\n",
        "\n",
        "def plot_arrows(x, y, a_times_x, b_times_y):\n",
        "  fig, ax = plt.subplots(figsize=(10, 7))\n",
        "\n",
        "  ax.spines['top'].set_color('none')\n",
        "  ax.spines['bottom'].set_position('zero')\n",
        "  ax.spines['left'].set_position('zero')\n",
        "  ax.spines['right'].set_color('none')\n",
        "\n",
        "  ax.set_aspect('equal', adjustable='box')\n",
        "  ax.set(xlim = [-10, 10], ylim = [-10, 10], xticks = np.arange(-10, 10), yticks = np.arange(-10, 10), xticklabels = [], yticklabels = [])\n",
        "\n",
        "  ax.grid(alpha=.4)\n",
        "\n",
        "  z = a_times_x + b_times_y\n",
        "  z_arr = ax.arrow(0, 0, z[0], z[1], width=.08, color='k', length_includes_head = True);\n",
        "\n",
        "  x_orig, = ax.plot([0, x[0]], [0, x[1]], '--', color='#648FFF')\n",
        "  y_orig, = ax.plot([0, y[0]], [0, y[1]], '--',  color='#DC267F')\n",
        "\n",
        "  ax_arr = ax.arrow(0, 0, a_times_x[0], a_times_x[1], width=.08, color='#648FFF', length_includes_head = True);\n",
        "  by_arr = ax.arrow(0, 0, b_times_y[0], b_times_y[1], width=.08, color='#DC267F', length_includes_head = True);\n",
        "\n",
        "  ax.plot([a_times_x[0], z[0]], [a_times_x[1], z[1]], '--k')\n",
        "  ax.plot([b_times_y[0], z[0]], [b_times_y[1], z[1]], '--k')\n",
        "\n",
        "\n",
        "  leg = ax.legend([x_orig, y_orig, ax_arr, by_arr, z_arr], [r\"$\\bar{x}$\", r\"$\\bar{y}$\", r\"$a\\bar{x}$\", r\"$b\\bar{y}$\", r\"$\\bar{z} = a\\bar{x} + b\\bar{y}$\"], handlelength = 2, fontsize = 25, loc = 'center left', bbox_to_anchor=(1.05, .5))\n",
        "  for handle, label in zip(leg.legendHandles, leg.texts):\n",
        "      try:\n",
        "          label.set_color(handle.get_facecolor())\n",
        "      except:\n",
        "          label.set_color(handle.get_color())\n",
        "      #handle.set_visible(False)\n",
        "\n",
        "@widgets.interact(a = widgets.FloatSlider(value=1.0, min=-4, max=4, step=0.1), b = widgets.FloatSlider(value=1.0, min=-4, max=4, step=0.1))\n",
        "def plot_linear_combination(a, b):\n",
        "  x = np.array([3, 1])\n",
        "  y = np.array([-1, 2])\n",
        "\n",
        "  plot_arrows(x, y, a*x, b*y)"
      ],
      "execution_count": null,
      "outputs": []
    },
    {
      "cell_type": "markdown",
      "metadata": {
        "id": "8SYsFh-JPcDh"
      },
      "source": [
        "\n",
        "In the demo below, you can now change both eigenvalues and the initial condition (with `u0_1` setting neuron 1 initial activity and `u0_2` setting neuron 2 initial activity). We will only look at positive eigenvalues to keep things a little more simple. We also make sure the second eigenvalue is always the smaller one (just for better visualization purposes).\n",
        "\n",
        "Think each of the following questions through based on the equation we just arrived at and then play with the demo to see if you are correct.\n",
        "$$\\bar{u}_t = c_1\\lambda_1^y\\bar{v}_1 + c_2\\lambda_2^y\\bar{v}_2 $$\n",
        "\n",
        "1.  What will happen when both eigenvalues are greater than 1? Does this depend on initial condition?  Set eigenvalue1 to 2 and eigenvalue2 to 1.2 and try out different initial conditions. What do you see? \n",
        "2.  What will happen when both eigenvalues are less than 1?\n",
        "3. What happens if one eigenvalue is below 1 and the other is above 1?"
      ]
    },
    {
      "cell_type": "code",
      "metadata": {
        "id": "xk4P2k_7RzLD"
      },
      "source": [
        "# @markdown Execute this cell to enable the widget (there is a small lag so be patient after changing sliders)\n",
        "eigenvalue1 = widgets.FloatSlider(value=0.5, min=0.2, max=2, step=0.2)\n",
        "eigenvalue2 = widgets.FloatSlider(value=0.2, min=0.2, max=0.5, step=0.2)\n",
        "u0_1 = widgets.FloatSlider(value=1, min=-5, max=5, step=0.2)\n",
        "u0_2 = widgets.FloatSlider(value=2, min=-5, max=5, step=0.2)\n",
        "\n",
        "def update_range(*args):\n",
        "    eigenvalue2.max = eigenvalue1.value - 0.2\n",
        "eigenvalue1.observe(update_range, 'value')\n",
        "\n",
        "\n",
        "def plot_system(eigenvalue1, eigenvalue2, u0_1, u0_2):\n",
        "\n",
        "  # Get initial condition\n",
        "  u0 = np.array([u0_1, u0_2])\n",
        "\n",
        "  # Get weight matrix with specified eigenvalues\n",
        "  W = get_eigval_specified_matrix([eigenvalue1, eigenvalue2])\n",
        "\n",
        "  # Get neural activities\n",
        "  u = circuit_implementation(W, u0, 10)\n",
        "\n",
        "  # Visualize neural activities\n",
        "  plot_circuit_responses(u, W, eigenstuff = True, xlim = [-15, 15], ylim = [-15, 15])\n",
        "\n",
        "widgets.interact(plot_system, eigenvalue1 = eigenvalue1, eigenvalue2 = eigenvalue2, u0_1 = u0_1, u0_2 = u0_2)"
      ],
      "execution_count": null,
      "outputs": []
    }
  ]
}