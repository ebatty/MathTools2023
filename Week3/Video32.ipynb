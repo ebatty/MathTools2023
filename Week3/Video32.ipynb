{
  "cells": [
    {
      "cell_type": "markdown",
      "metadata": {
        "id": "view-in-github",
        "colab_type": "text"
      },
      "source": [
        "<a href=\"https://colab.research.google.com/github/ebatty/MathToolsforNeuroscience/blob/jupyterbook/Week3/Video32.ipynb\" target=\"_parent\"><img src=\"https://colab.research.google.com/assets/colab-badge.svg\" alt=\"Open In Colab\"/></a>"
      ]
    },
    {
      "cell_type": "markdown",
      "metadata": {
        "id": "aHrUgy400Wv3"
      },
      "source": [
        "# Video 3.2: Discrete Dynamical Neural Circuit"
      ]
    },
    {
      "cell_type": "markdown",
      "metadata": {
        "id": "64IBGIMm0Wv6"
      },
      "source": [
        "## Video"
      ]
    },
    {
      "cell_type": "code",
      "execution_count": 2,
      "metadata": {
        "cellView": "form",
        "id": "ve_t1MZi0Wv7",
        "outputId": "72fc4510-7926-4f19-ac3a-44918601a566",
        "colab": {
          "base_uri": "https://localhost:8080/",
          "height": 449
        }
      },
      "outputs": [
        {
          "output_type": "stream",
          "name": "stdout",
          "text": [
            "Video available at https://youtube.com/watch?v=vN05gWmdAt8\n"
          ]
        },
        {
          "output_type": "execute_result",
          "data": {
            "text/plain": [
              "<IPython.lib.display.YouTubeVideo at 0x7faa1361be10>"
            ],
            "text/html": [
              "\n",
              "        <iframe\n",
              "            width=\"730\"\n",
              "            height=\"410\"\n",
              "            src=\"https://www.youtube.com/embed/vN05gWmdAt8?fs=1\"\n",
              "            frameborder=\"0\"\n",
              "            allowfullscreen\n",
              "        ></iframe>\n",
              "        "
            ],
            "image/jpeg": "[encoded data removed]"
          },
          "metadata": {},
          "execution_count": 2
        }
      ],
      "source": [
        "# @markdown \n",
        "from IPython.display import YouTubeVideo\n",
        "video = YouTubeVideo(id=\"vN05gWmdAt8\", width=730, height=410, fs=1)\n",
        "print(\"Video available at https://youtube.com/watch?v=\" + video.id)\n",
        "video"
      ]
    }
  ],
  "metadata": {
    "kernelspec": {
      "display_name": "Python 3.8.13 ('mathtools')",
      "language": "python",
      "name": "python3"
    },
    "language_info": {
      "codemirror_mode": {
        "name": "ipython",
        "version": 3
      },
      "file_extension": ".py",
      "mimetype": "text/x-python",
      "name": "python",
      "nbconvert_exporter": "python",
      "pygments_lexer": "ipython3",
      "version": "3.8.13"
    },
    "orig_nbformat": 4,
    "vscode": {
      "interpreter": {
        "hash": "2f26a17d6a9624f855b5f9e02ffdc0ae71c8577a2562f495dada4b6f29d8bdd3"
      }
    },
    "colab": {
      "provenance": [],
      "collapsed_sections": [],
      "include_colab_link": true
    }
  },
  "nbformat": 4,
  "nbformat_minor": 0
}